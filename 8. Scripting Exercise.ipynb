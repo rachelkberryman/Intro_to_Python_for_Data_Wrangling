{
 "cells": [
  {
   "cell_type": "markdown",
   "metadata": {},
   "source": [
    "# Scripting Exercise: Creating an automatic report\n",
    "In the course up to now, we've learned about how we can use native python techniques (functions, if/else statements, conditionals, etc) together with data processing libraries like Pandas, to clean, transorm, and analyze data.\n",
    "\n",
    "In this section, we practice using these tools and see how they can be used to improve processes by automating tasks.\n",
    "\n",
    "## Scripting in python\n",
    "Remember that we can run python in two ways: in *scripting mode*, or in *interactive mode*.\n",
    "\n",
    "When we run code in a notebook cell, we are running code in interactive mode. This is great when we want an immediate output, and when we want to see how our code works and check that it is working properly. \n",
    "\n",
    "However, when we want to create a program that we can use to repeatedly complete repetetive tasks, it's best to use python in script mode.\n",
    "\n",
    "This means we package our code up into a .py file, and run it from the command line. When we do so, our entire file will run, not just individual lines. This is very powerful as it makes executing code for repetitive tasks very easy.\n",
    "\n",
    "### Moving code into a script\n",
    "When developing a script for the first time, it can be helpful to first write and check your code in a Jupyter notebook.\n",
    "\n",
    "Start by moving more and more of your code into one cell. Check where your code is running in the notebook with the command `!pwd`. Think about if this is also where you would want your script to run from.\n"
   ]
  },
  {
   "cell_type": "markdown",
   "metadata": {},
   "source": [
    "### Our scripting task\n",
    "We will build on the work we did in notebook number 7. Real-world Data Practice, and also use the same liquor store dataset. \n",
    "\n",
    "Let's imagine you are working for the state of Iowa's Liquor Authority, and you need to make a monthly report with some key facts. Up until now, you have been manually following a list of prescribed protocols to generate the report by hand every month. It generally takes you about half a day once every month to generate this report. The steps are essentially the same every month: you have to filter the data for the month in question, complete some data cleaning steps, and calculate the necessary KPIs. Since you do this manually, there are often occassionally errors. To help make sure the report contains as few errors as possible, you also send the report every month to your colleague to do some sanity checks. This also takes 1 hour of your colleague's time. This means that in total, you and your colleague spend 5 hours every month on preparing the report.\n",
    "\n",
    "#### The benefit of scripting for repetetive tasks\n",
    "\n",
    "You tallk with your boss and decide to use your python skills to automate this task using a script. You and your boss estimate that it will take you about 10 hours to write the script, sicne you are still new to Python and it will take you time to debug the code. Once the script is written, it will take you 1 minute to run it each month. This means that after 2 months, having the script will have 'paid for itself' in terms of time saved, you will have sharpened your Python skills, and you and your colleage will now have a combined 5 hours more time each week to devote to other tasks. \n",
    "\n",
    "Let's get started!! "
   ]
  },
  {
   "cell_type": "markdown",
   "metadata": {},
   "source": [
    "## About the Report\n",
    "Let's look more closely at the report we need to automate. \n",
    "### Goal of the Report\n",
    "The goal of the report is to succinctly represent some KPIs about the overall situation of liquor sales in the state. These statistics are important as they are included in government documents, so it's also very important that they are checked and that the data underlying them is correct as well.\n",
    "### KPIs:\n",
    "The report shows some key facts for the given month, including:\n",
    "- Store with the most revenue\n",
    "- Average revenue across all stores\n",
    "- Most commonly sold item across all stores\n",
    "- Total number of purchases in the month across all stores \n",
    "\n",
    "### Format of the report\n",
    "The report is given as a text file. "
   ]
  },
  {
   "cell_type": "markdown",
   "metadata": {},
   "source": [
    "## Framing the task\n",
    "Remember that in script mode, we will run our script from the command line. We need to think about where will run our script from, meaning which directory in our file system. We can check this even within the jupyter system by simply putting `!` in front of the command. This exclamation point tells jupyter to execute the command as a bash command on the underlying server/computer system. It will be helpful for us if we start writing our script in the same place where we will run it, as where we run our script will influence while higher-level directories we have to include in our imports. \n",
    "\n",
    "We also have to consider where we want our report to be saved. "
   ]
  },
  {
   "cell_type": "code",
   "execution_count": 35,
   "metadata": {},
   "outputs": [
    {
     "name": "stdout",
     "output_type": "stream",
     "text": [
      "/home/jovyan/Intro%20to%20Python\n"
     ]
    }
   ],
   "source": [
    "# seeing where we are in the file system \n",
    "!pwd"
   ]
  },
  {
   "cell_type": "markdown",
   "metadata": {},
   "source": [
    "The next part of framing the task is writing what's called *psuedo code*. Psuedo code creates an outline of the code we want to write in the future, written in easy to follow steps in plain English. They should outline the steps our code would follow, or the order of the code that we will write into our program. \n",
    "\n",
    "#### Psuedo Code Steps\n",
    "1. Load in raw data (CSV)\n",
    "2. Clean data \n",
    "3. Generate KPIs\n",
    "4. Save KPIs to txt file \n",
    "\n",
    "Now we iterrate on our psuedo code steps, and add additional considerations. For example, looking in the first step, we could make this more specific to this task. For example, since we need to generate the report each month for only one month, we should add an indication of this requirement at the start. \n",
    "\n",
    "#### Deatiled Psuedo Code Steps\n",
    "1. Load in raw data (CSV)\n",
    "    - Specify month & year\n",
    "2. Clean data \n",
    "3. Generate KPIs\n",
    "    - Store with most revenue\n",
    "    - Average revenue across all stores\n",
    "    - Most common item sold across all stores\n",
    "    - Total number of purchases in the month across all stores\n",
    "5. Sanity checks of the report\n",
    "4. Save KPIs to txt file \n",
    "\n",
    "Now that we have our pseudo code steps, we can start coding, working through them. \n",
    "\n",
    "We will recycle some of the code, especially the cleaning code, that we already wrote in part 7. "
   ]
  },
  {
   "cell_type": "markdown",
   "metadata": {},
   "source": [
    "#### 1. Load in raw data (CSV) \n",
    "We will start by only importing the packages that we know we need. \n",
    "This will help later when we move the code into a single script. "
   ]
  },
  {
   "cell_type": "code",
   "execution_count": 36,
   "metadata": {},
   "outputs": [],
   "source": [
    "# importing the required packages \n",
    "import pandas as pd \n",
    "\n",
    "# loading the csv \n",
    "data = pd.read_csv('data/liquor/iowa_liquor_sales.csv', index_col=0)"
   ]
  },
  {
   "cell_type": "markdown",
   "metadata": {},
   "source": [
    "Our next step is to shorten the data to just the month and year in question. \n",
    "\n",
    "We will make two new variables for this.  Before we can do this, we also need to make sure that the column is in datetime format. \n",
    "\n",
    "Here we can add our first 'sanity check'. To do this, we will use Python's built in [assert statements](https://www.w3schools.com/python/ref_keyword_assert.asp). Assert statements check if our code meets certain criteria. If it doesn't, then assert statements let us return a specific error message, which is helpful for fixing the problem in the future. "
   ]
  },
  {
   "cell_type": "code",
   "execution_count": 37,
   "metadata": {},
   "outputs": [],
   "source": [
    "# setting some default values for month and year to use for testing \n",
    "year = 2015\n",
    "month = 8\n",
    "\n",
    "data.loc[:, 'Date'] = pd.to_datetime(data.loc[:, 'Date'])\n",
    "\n",
    "# the assert doesn't throw and error, so it passed.\n",
    "assert str(data.loc[:, 'Date'].dtypes) == 'datetime64[ns]', \"Check data type of 'Date' column\""
   ]
  },
  {
   "cell_type": "markdown",
   "metadata": {},
   "source": [
    "Now we can use our year and month variables to select just the relevant data. "
   ]
  },
  {
   "cell_type": "code",
   "execution_count": 38,
   "metadata": {},
   "outputs": [],
   "source": [
    "month_data = data.loc[(data['Date'].dt.month==month) & (data['Date'].dt.year==year)]"
   ]
  },
  {
   "cell_type": "markdown",
   "metadata": {},
   "source": [
    "Next, we can add another check to make sure that our date selector works.\n",
    "\n",
    "We'll check that all the data we have is only for this specific year and month selection. "
   ]
  },
  {
   "cell_type": "code",
   "execution_count": 39,
   "metadata": {},
   "outputs": [],
   "source": [
    "assert all(month_data.loc[:, 'Date'].dt.month == month)\n",
    "assert all(month_data.loc[:, 'Date'].dt.year == year)"
   ]
  },
  {
   "cell_type": "markdown",
   "metadata": {},
   "source": [
    "We will continue to work off of the `month_data` DataFrame for the rest of the script. "
   ]
  },
  {
   "cell_type": "markdown",
   "metadata": {},
   "source": [
    "### 2. Clean data\n",
    "The next step, according to our pseudo code, is to clean the data to prepare for further analysis. \n",
    "\n",
    "We can just directly copy the dat cleaning commands we used in part 7. Don't forget, we have to update the name of our dataframe to be `month_data`."
   ]
  },
  {
   "cell_type": "code",
   "execution_count": 40,
   "metadata": {},
   "outputs": [],
   "source": [
    "# removing dollar signs so that columns can be converted to numeric\n",
    "month_data = month_data.replace('\\$', '', regex=True)\n",
    "# removing commas in 1000s\n",
    "month_data = month_data.replace(',','', regex=True)\n",
    "\n",
    "# making list of columns to switch to numeric format\n",
    "columns_to_numeric = ['Sale (Dollars)', 'State Bottle Cost', 'State Bottle Retail']\n",
    "\n",
    "# converting each column in the list to numeric format\n",
    "for column in columns_to_numeric:\n",
    "    month_data.loc[:, column] = pd.to_numeric(month_data.loc[:, column])"
   ]
  },
  {
   "cell_type": "markdown",
   "metadata": {},
   "source": [
    "### 3. Generate KPIs \n",
    "Now that we've prepped the data and made sure that the columns we need for doing the calculations are in numeric format, we can move on to automating the calculation of our monthly KPIs! \n",
    "\n",
    "As a refresher, we'll list the KPIs here:\n",
    "- Store with most revenue\n",
    "- Average revenue across all stores\n",
    "- Most common item sold across all stores\n",
    "- Total number of purchases in the month across all stores\n",
    "\n",
    "We can work with some of the code we used in notebook number 7 for the calculations.\n",
    "\n",
    "We will calculate each of these metrics individually and save them to their own variables, to make it easier to write to the text file at the end."
   ]
  },
  {
   "cell_type": "code",
   "execution_count": 41,
   "metadata": {},
   "outputs": [
    {
     "data": {
      "text/plain": [
       "'Fareway Stores #987 / Davenport'"
      ]
     },
     "execution_count": 41,
     "metadata": {},
     "output_type": "execute_result"
    }
   ],
   "source": [
    "# KPI 1: Store with most revenue\n",
    "\n",
    "# starting by grouping by stores. Using sum as the aggregator to get total sales/revenue\n",
    "stores_data_total = month_data.groupby('Store Name').sum()\n",
    "\n",
    "# finding store with highest total revenue, from Sale (Dollars) column\n",
    "highest_revenue_store = stores_data_total.loc[:, 'Sale (Dollars)'].idxmax()\n",
    "\n",
    "# looking at highest revenue store name\n",
    "highest_revenue_store"
   ]
  },
  {
   "cell_type": "markdown",
   "metadata": {},
   "source": [
    "Our next KPI involves a calculation made in general, across the entire region. \n",
    "\n",
    "Therefore, we don't need to break out the calculation by each store individually. "
   ]
  },
  {
   "cell_type": "code",
   "execution_count": 45,
   "metadata": {},
   "outputs": [
    {
     "data": {
      "text/plain": [
       "117.12893758300132"
      ]
     },
     "execution_count": 45,
     "metadata": {},
     "output_type": "execute_result"
    }
   ],
   "source": [
    "# KPI 2: Average revenue across all of Iowa\n",
    "\n",
    "# Calculating average revenue \n",
    "month_avg_revenue = month_data.loc[:, 'Sale (Dollars)'].mean()\n",
    "month_avg_revenue"
   ]
  },
  {
   "cell_type": "markdown",
   "metadata": {},
   "source": [
    "The next KPI is also calculated across all stores in the entire region. \n",
    "\n",
    "It concerns frequency- with this KPI, we seek to know which item was sold most often across all our stores in Iowa. Here, we need to groupby the item. \n",
    "\n",
    "Generally with frequency calculations, we would then use `count()` as our aggregator. \n",
    "\n",
    "However, in this case, it's possible that more than one bottle of each item were sold in each sale. This is shown in the 'Bottles Sold' column. Thus, to get an accurate count of the frequency of each bottle sold, we have to use sum with this column. "
   ]
  },
  {
   "cell_type": "code",
   "execution_count": 47,
   "metadata": {},
   "outputs": [
    {
     "data": {
      "text/plain": [
       "'Black Velvet'"
      ]
     },
     "execution_count": 47,
     "metadata": {},
     "output_type": "execute_result"
    }
   ],
   "source": [
    "month_by_item = month_data.groupby('Item Description').sum()\n",
    "\n",
    "# Calculating average revenue \n",
    "month_highest_sold_item = month_by_item.loc[:, 'Bottles Sold'].idxmax()\n",
    "month_highest_sold_item"
   ]
  },
  {
   "cell_type": "markdown",
   "metadata": {},
   "source": [
    "Our final KPI involves simply counting the total number of purchases over the entire month.\n",
    "\n",
    "Given that  each row represents a purchase, we can just count the number of rows in our monthly dataset to get the number of purchases. "
   ]
  },
  {
   "cell_type": "code",
   "execution_count": 69,
   "metadata": {},
   "outputs": [
    {
     "data": {
      "text/plain": [
       "1506"
      ]
     },
     "execution_count": 69,
     "metadata": {},
     "output_type": "execute_result"
    }
   ],
   "source": [
    "month_orders = month_data.shape[0]\n",
    "month_orders"
   ]
  },
  {
   "cell_type": "markdown",
   "metadata": {},
   "source": [
    "### 4. Sanity Checks for the report \n",
    "Because our report will be shared to other government officials and considered an official report, we need to have some automatic checks included in it. These automatic checks also prevent the need to have the report checked manually by your colleague, and contribute to the time-saving aspect of automating the report with a script. \n",
    "\n",
    "We have already added some of the checks earlier using assert statements in-line as the KPIs were being calculated. \n",
    "\n",
    "For further sanity checks, you have decided together with your boss to base these checks off of values from last year and month. Namely, you want to check if the values are in the same range (+/- 25% difference) from the same values in the month prior, and the same range from the same values in the previous year.\n",
    "\n",
    "Here, we will add some further checks that prompt us to double-check a number manually if it does not fall within some pre-defined boundaries. \n",
    "To do this, we will use our `year` and `month` variables to calculate comparison values from previous years and months. \n",
    "\n",
    "**Note**: These ranges only work for our KPIs that are numeric (2 & 4. KPIs 1 & 3 are strings).\n",
    "\n",
    "\n",
    "#### Running the sanity checks\n",
    "The sanity checks should be run before we run our main script to calculate and create our report, so that we can go back and fix any incorrect data if needed before saving our final report. \n",
    "\n",
    "Thus, we will pack these checks into a separate script to run first. "
   ]
  },
  {
   "cell_type": "code",
   "execution_count": 55,
   "metadata": {},
   "outputs": [],
   "source": [
    "# calculating the comparison value for last year and last month \n",
    "last_month_data = data.loc[(data['Date'].dt.month==month-1) & (data['Date'].dt.year==year)]\n",
    "last_year_data = data.loc[(data['Date'].dt.month==month) & (data['Date'].dt.year==year-1)]"
   ]
  },
  {
   "cell_type": "markdown",
   "metadata": {},
   "source": [
    "**NOTE**: We also need to do the same data cleaning steps we did for this month's data.\n",
    "To do this more eaesily and with less code repetition, we will wrap our data cleaning code into a function."
   ]
  },
  {
   "cell_type": "code",
   "execution_count": 62,
   "metadata": {},
   "outputs": [],
   "source": [
    "def clean_monthly_data(month_data):\n",
    "    # removing dollar signs so that columns can be converted to numeric\n",
    "    month_data = month_data.replace('\\$', '', regex=True)\n",
    "    # removing commas in 1000s\n",
    "    month_data = month_data.replace(',','', regex=True)\n",
    "\n",
    "    # making list of columns to switch to numeric format\n",
    "    columns_to_numeric = ['Sale (Dollars)', 'State Bottle Cost', 'State Bottle Retail']\n",
    "\n",
    "    # converting each column in the list to numeric format\n",
    "    for column in columns_to_numeric:\n",
    "        month_data.loc[:, column] = pd.to_numeric(month_data.loc[:, column])\n",
    "    \n",
    "    return month_data"
   ]
  },
  {
   "cell_type": "code",
   "execution_count": 63,
   "metadata": {},
   "outputs": [],
   "source": [
    "# applying data cleaning function\n",
    "last_month_data = clean_monthly_data(last_month_data)\n",
    "last_year_data = clean_monthly_data(last_year_data)"
   ]
  },
  {
   "cell_type": "code",
   "execution_count": 64,
   "metadata": {},
   "outputs": [
    {
     "name": "stdout",
     "output_type": "stream",
     "text": [
      "Current month and year average revenue: 117.12893758300132\n",
      "Last month average revenue: 133.20834107498342\n",
      "Last year average revenue: 121.63055742108796\n"
     ]
    }
   ],
   "source": [
    "# Now, we calculate each of the KPIs the same way we did for the current month and year, and compare them. \n",
    "\n",
    "# Calculating average revenue \n",
    "last_month_avg_revenue = last_month_data.loc[:, 'Sale (Dollars)'].mean()\n",
    "last_year_avg_revenue = last_year_data.loc[:, 'Sale (Dollars)'].mean()\n",
    "\n",
    "\n",
    "# now, we will visually compare the different values\n",
    "print('Current month and year average revenue:', month_avg_revenue)\n",
    "print('Last month average revenue:', last_month_avg_revenue)\n",
    "print('Last year average revenue:', last_year_avg_revenue)\n"
   ]
  },
  {
   "cell_type": "markdown",
   "metadata": {},
   "source": [
    "Looking at the numbers, it looks like they are not very far apart. \n",
    "Here, we will write our assert statement to check that the values are within our ranges. "
   ]
  },
  {
   "cell_type": "code",
   "execution_count": 76,
   "metadata": {},
   "outputs": [],
   "source": [
    "# calcuating range values \n",
    "\n",
    "# getting difference amount to calculate range bounds\n",
    "difference_amount_avg_revenue = month_avg_revenue*.25\n",
    "\n",
    "# range bounds are current month values +/- the difference amount\n",
    "lower_bound_avg_revenue = month_avg_revenue - difference_amount_avg_revenue\n",
    "upper_bound_avg_revenue = month_avg_revenue + difference_amount_avg_revenue"
   ]
  },
  {
   "cell_type": "code",
   "execution_count": 77,
   "metadata": {},
   "outputs": [],
   "source": [
    "assert last_month_avg_revenue <= upper_bound_avg_revenue and last_month_avg_revenue >= lower_bound_avg_revenue, 'Check values: difference to last month larger than range allows'\n",
    "assert last_year_avg_revenue <= upper_bound_avg_revenue and last_year_avg_revenue >= lower_bound_avg_revenue, 'Check values: difference to last year larger than range allows'"
   ]
  },
  {
   "cell_type": "markdown",
   "metadata": {},
   "source": [
    "Now we will implement a similar check for the other numeric KPI. \n",
    "\n",
    "Here, we check that the total number of monthly orders hasn't drastically changed (no more than 25% difference) from last month, nor from this same month last year. We will use essentially the same method as we used above in order to calculate this."
   ]
  },
  {
   "cell_type": "code",
   "execution_count": 70,
   "metadata": {},
   "outputs": [
    {
     "data": {
      "text/plain": [
       "1506"
      ]
     },
     "execution_count": 70,
     "metadata": {},
     "output_type": "execute_result"
    }
   ],
   "source": [
    "# calculating the total number of orders for last month and last year to compare\n",
    "last_month_orders = last_month_data.shape[0]\n",
    "last_year_orders = last_year_data.shape[0]\n",
    "month_orders = month_data.shape[0]"
   ]
  },
  {
   "cell_type": "code",
   "execution_count": 74,
   "metadata": {},
   "outputs": [],
   "source": [
    "# calcuating range values \n",
    "\n",
    "# getting difference amount to calculate range bounds\n",
    "difference_amount_month_orders = month_orders*.25\n",
    "\n",
    "# range bounds are current month values +/- the difference amount\n",
    "lower_bound_month_orders = month_orders - difference_amount_month_orders\n",
    "upper_bound_month_orders = month_orders + difference_amount_month_orders"
   ]
  },
  {
   "cell_type": "code",
   "execution_count": 79,
   "metadata": {},
   "outputs": [],
   "source": [
    "assert last_month_orders <= upper_bound_month_orders and last_month_orders >= lower_bound_month_orders, 'Check values: difference to last month larger than range allows'\n",
    "assert last_year_orders <= upper_bound_month_orders and last_year_orders >= lower_bound_month_orders, 'Check values: difference to last year larger than range allows'"
   ]
  },
  {
   "cell_type": "markdown",
   "metadata": {},
   "source": [
    "### 5. Generating the final text file\n",
    "\n",
    "Now that we are sure that our data makes sense, we can outline the final text file and write the code to save the file.\n",
    "\n",
    "As this report will be generated on a monthly basis, it will be important for us accessing the reports later that we make sure they are filterable by month and year. \n",
    "\n",
    "For the final report, we start by listing the relevant data (month and year, day the report was generated) at the top of the file. For each line or section of the report we want to write, we will put what we want to write in a string. Then we will combine each of these strings into a list and write the entire list into the file. \n",
    "\n",
    "Remembr that in python we signify a line break with `\\n`. This will be important when we want to separate the sections of our report. Also, remember that we canwrite string quotes that spread over multiple lines using the ''' ''' quotes."
   ]
  },
  {
   "cell_type": "code",
   "execution_count": 94,
   "metadata": {},
   "outputs": [],
   "source": [
    "intro_line = '''IOWA STATE LIQUOR REPORT \\n \\n\n",
    "Report for {} {} \\n \\n\n",
    "'''.format(month, year)"
   ]
  },
  {
   "cell_type": "markdown",
   "metadata": {},
   "source": [
    "Let's look out how our intro line to the report will look once it's printed to the .txt file:"
   ]
  },
  {
   "cell_type": "code",
   "execution_count": 95,
   "metadata": {},
   "outputs": [
    {
     "name": "stdout",
     "output_type": "stream",
     "text": [
      "IOWA STATE LIQUOR REPORT \n",
      " \n",
      "\n",
      "Report for 8 2015 \n",
      " \n",
      "\n",
      "\n"
     ]
    }
   ],
   "source": [
    "print(intro_line)"
   ]
  },
  {
   "cell_type": "markdown",
   "metadata": {},
   "source": [
    "Now we can add a line for each of our various KPIs. "
   ]
  },
  {
   "cell_type": "code",
   "execution_count": 96,
   "metadata": {},
   "outputs": [],
   "source": [
    "kpi1_line = 'KPI 1: \\n Highest revenue store is : {} \\n  \\n'.format(highest_revenue_store)"
   ]
  },
  {
   "cell_type": "code",
   "execution_count": 97,
   "metadata": {},
   "outputs": [],
   "source": [
    "kpi2_line = 'KPI 2: \\n Average monthly revenue is: {} \\n  \\n'.format(month_avg_revenue)"
   ]
  },
  {
   "cell_type": "code",
   "execution_count": 98,
   "metadata": {},
   "outputs": [],
   "source": [
    "kpi3_line = 'KPI 3: \\n Most common item sold : {} \\n  \\n'.format(month_highest_sold_item)"
   ]
  },
  {
   "cell_type": "code",
   "execution_count": 99,
   "metadata": {},
   "outputs": [],
   "source": [
    "kpi4_line = 'KPI 4: \\n Total orders : {} \\n  \\n'.format(month_orders)"
   ]
  },
  {
   "cell_type": "code",
   "execution_count": 100,
   "metadata": {},
   "outputs": [],
   "source": [
    "all_lines = [\n",
    "    intro_line,\n",
    "    kpi1_line,\n",
    "    kpi2_line,\n",
    "    kpi3_line,\n",
    "    kpi4_line\n",
    "]"
   ]
  },
  {
   "cell_type": "markdown",
   "metadata": {},
   "source": [
    "#### Making a reports directory\n",
    "\n",
    "For saving our reports, it will be helpful to have a dedicated directory in which to save the new files. \n",
    "We will first check if a directory already exists, and if it doesn't then we will create it. \n",
    "\n",
    "We will use the [os package](https://docs.python.org/3/library/os.html) from python to navigate the file system. "
   ]
  },
  {
   "cell_type": "code",
   "execution_count": 101,
   "metadata": {},
   "outputs": [],
   "source": [
    "import os"
   ]
  },
  {
   "cell_type": "code",
   "execution_count": 102,
   "metadata": {},
   "outputs": [],
   "source": [
    "if not os.path.exists('reports'):\n",
    "    os.mkdir('reports')"
   ]
  },
  {
   "cell_type": "markdown",
   "metadata": {},
   "source": [
    "#### Writing to the file\n",
    "Now that we have made our `/reports` directory in which to save our reports, we can start saving the report files there. \n",
    "\n",
    "To do so, we will write the lines to a .txt file. "
   ]
  },
  {
   "cell_type": "code",
   "execution_count": 103,
   "metadata": {},
   "outputs": [],
   "source": [
    "# opening the new file that we will write to \n",
    "report_file = open(\"reports/report_{}_{}.txt\".format(month, year),\"w\") \n",
    "  \n",
    "# # \\n is placed to indicate EOL (End of Line) \n",
    "# file1.write(\"Hello \\n\") \n",
    "report_file.writelines(all_lines) \n",
    "report_file.close()"
   ]
  },
  {
   "cell_type": "markdown",
   "metadata": {},
   "source": [
    "## Converting into a Script\n",
    "Now we've seen that our code works. It's able to save the required data that we want to have in the report. \n",
    "\n",
    "Our next step is to combine the code we've written so far, and move it into a .py file that can be run in script mode from the command line. \n",
    "\n",
    "Not that we've moved the import code for the OS package to the top of the file.\n",
    "This is because it's best practice to keep all imports in one place at the top of the file, so that any future programmers looking at the code know right away which packages are used. \n",
    "\n",
    "We will also add more comments to make the code more readable as a script. Before, what we were doing with the code was clear with the comments and text in the Jupyter notebook. We want to make sure that our code is still just as readable when it's in a script. We'll also add a longer comment explanation at the start of the script to explain to any new reader of the code what the purpose of the script is. \n",
    "\n",
    "We will only include the main code here, not the checks code. We will pack this code into another script to be run separately. "
   ]
  },
  {
   "cell_type": "code",
   "execution_count": null,
   "metadata": {},
   "outputs": [],
   "source": [
    "import os\n",
    "import pandas as pd \n",
    "\n",
    "'''\n",
    "Iowa Liquor Report Generation Script.\n",
    "Written by User XX on 8 September, 2020. \n",
    "\n",
    "The purpose of this script is to automatically generate the monthly liquor sales \n",
    "KPIs required by the government. The data that is used is the general \n",
    "liquor sales CSV. \n",
    "The report is generated each month, for a given month and year.\n",
    "A companion script called \"liqoue_data_checks.py\" runs automatic data \n",
    "quality checks and should be run before reports are created with this script.\n",
    "'''\n",
    "\n",
    "# loading the csv containing base data\n",
    "data = pd.read_csv('data/liquor/iowa_liquor_sales.csv', index_col=0)\n",
    "\n",
    "# setting some default values for month and year to use for testing \n",
    "year = 2015\n",
    "month = 8\n",
    "\n",
    "# converting date column's datatype\n",
    "data.loc[:, 'Date'] = pd.to_datetime(data.loc[:, 'Date'])\n",
    "\n",
    "# Test that the date column's type has been correctly changed\n",
    "assert str(data.loc[:, 'Date'].dtypes) == 'datetime64[ns]', \"Check data type of 'Date' column\"\n",
    "\n",
    "# selecting a subset of the data for the desired year and month\n",
    "month_data = data.loc[(data['Date'].dt.month==month) & (data['Date'].dt.year==year)]\n",
    "\n",
    "# Checking that the data only contains data from the correct subset\n",
    "assert all(month_data.loc[:, 'Date'].dt.month == month)\n",
    "assert all(month_data.loc[:, 'Date'].dt.year == year)\n",
    "\n",
    "# Further data cleaning needed for calculating the necessary KPIs\n",
    "# removing dollar signs so that columns can be converted to numeric\n",
    "month_data = month_data.replace('\\$', '', regex=True)\n",
    "# removing commas in 1000s\n",
    "month_data = month_data.replace(',','', regex=True)\n",
    "\n",
    "# making list of columns to switch to numeric format\n",
    "columns_to_numeric = ['Sale (Dollars)', 'State Bottle Cost', 'State Bottle Retail']\n",
    "\n",
    "# converting each column in the list to numeric format\n",
    "for column in columns_to_numeric:\n",
    "    month_data.loc[:, column] = pd.to_numeric(month_data.loc[:, column])\n",
    "\n",
    "# Starting to calculate KPIs\n",
    "\n",
    "# KPI 1: Store with most revenue\n",
    "# starting by grouping by stores. Using sum as the aggregator to get total sales/revenue\n",
    "stores_data_total = month_data.groupby('Store Name').sum()\n",
    "# finding store with highest total revenue, from Sale (Dollars) column\n",
    "highest_revenue_store = stores_data_total.loc[:, 'Sale (Dollars)'].idxmax()\n",
    "# looking at highest revenue store name\n",
    "highest_revenue_store\n",
    "\n",
    "# KPI 2: Average revenue across all of Iowa\n",
    "# Calculating average revenue \n",
    "month_avg_revenue = month_data.loc[:, 'Sale (Dollars)'].mean()\n",
    "\n",
    "\n",
    "# KPI 3: Most sold item in the month\n",
    "# grouping data by item totals\n",
    "month_by_item = month_data.groupby('Item Description').sum()\n",
    "# Calculating average revenue \n",
    "month_highest_sold_item = month_by_item.loc[:, 'Bottles Sold'].idxmax()\n",
    "\n",
    "\n",
    "# KPI 4: Total orders sold in the month\n",
    "# each row in the data represents one order, so counting rows to get number of orders\n",
    "month_orders = month_data.shape[0]\n",
    "\n",
    "\n",
    "# Generating Report txt file\n",
    "\n",
    "# Using month and year that were imported to initiate the file\n",
    "intro_line = '''IOWA STATE LIQUOR REPORT \\n \\n\n",
    "Report for {} {} \\n \\n\n",
    "'''.format(month, year)\n",
    "\n",
    "# adding each KPI and a small description about it to their own lines\n",
    "kpi1_line = 'KPI 1: \\n Highest revenue store is : {} \\n  \\n'.format(highest_revenue_store)\n",
    "\n",
    "kpi2_line = 'KPI 2: \\n Average monthly revenue is: {} \\n  \\n'.format(month_avg_revenue)\n",
    "\n",
    "kpi3_line = 'KPI 3: \\n Most common item sold : {} \\n  \\n'.format(month_highest_sold_item)\n",
    "\n",
    "kpi4_line = 'KPI 4: \\n Total orders : {} \\n  \\n'.format(month_orders)\n",
    "\n",
    "# combining all lines to be included in the report in a list to be added to the report file\n",
    "all_lines = [\n",
    "    intro_line,\n",
    "    kpi1_line,\n",
    "    kpi2_line,\n",
    "    kpi3_line,\n",
    "    kpi4_line\n",
    "]\n",
    "\n",
    "# checking if directory to save report in exists, if not, creating it\n",
    "if not os.path.exists('reports'):\n",
    "    os.mkdir('reports')\n",
    "\n",
    "\n",
    "# opening the new file that we will write to \n",
    "report_file = open(\"reports/report_{}_{}.txt\".format(month, year),\"w\") \n",
    "# writing all liens to it\n",
    "report_file.writelines(all_lines) \n",
    "# closing file\n",
    "report_file.close()"
   ]
  },
  {
   "cell_type": "markdown",
   "metadata": {},
   "source": [
    "### Finalizing the conversion to script mode\n",
    "For our reporting script to be really effective, we want the user to be able to do everything from the command line - we don't want them to have to go into the script to edit anything. This is especially true concerning the variables in the script that need to be changed or updated every time - the year and month variables for the timeframe when we want to run the script. \n",
    "\n",
    "We can use another python library called [argparse](https://docs.python.org/3/library/argparse.html) for this. Argparse lets us add arguments or inputs to our script right from the commange line.\n",
    "\n",
    "After adding argparse to our script, the next important thing we need to do is add a signal to python about how the script should run. We do this by adding an `if __name__ == '__main__'` block at the bottom of the script, that calls the code in the rest of the script to run. You can learn more about why this block is necessary [here](https://www.geeksforgeeks.org/what-does-the-if-__name__-__main__-do/) and [here](https://stackoverflow.com/questions/419163/what-does-if-name-main-do)."
   ]
  },
  {
   "cell_type": "code",
   "execution_count": null,
   "metadata": {},
   "outputs": [],
   "source": [
    "import argparse \n",
    "# the rest of the code from the \n",
    "if __name__ == '__main__':\n",
    "    print('main triggered')\n",
    "    parser = argparse.ArgumentParser(description='Report generator')\n",
    "    parser.add_argument('--year', action='store', type=int)\n",
    "    parser.add_argument('--month', action='store', type=int)\n",
    "    results = parser.parse_args()\n",
    "    month = results.month\n",
    "    year = results.year\n",
    "    \n",
    "    create_monthly_report(month, year)"
   ]
  },
  {
   "cell_type": "markdown",
   "metadata": {},
   "source": [
    "## Running the Script\n",
    "\n",
    "Now that we have transferred the main code to a python script, it's time to run it! \n",
    "\n",
    "Remember that when we run Python in script mode, we do so from the command line. \n",
    "\n",
    "Every time we run a script from the command line in Python, we start by invoking the computer to run the code in python by simply writing `python`. After the `python` command comes the file path. **If we run the script in the same directory where it is located, we don't need to specify the file path**. However, if we run the code in a higher or lower level of the directory, we will need to specify the correct path to the file. Keep this in mind, as it is the cause of many 'File doesn't exist' errors that you may come across when running python scripts. \n",
    "\n",
    "Here, since our script is in the `/scripts` folder, we need to make sure we indicate this at the beginning of the path when running the script. \n",
    "\n",
    "After specifying the file path, we then include the arguments we added above using argparser. we indicate these by simply writing the argument keywords like `--year` and `--month`. Then we just write the numbers we want to apply after these keywords, with a space in between.\n",
    "\n",
    "Below we see a screenshot of how the code works and how exactly the command line command should look.\n",
    "\n",
    "### Command to run\n",
    "\n",
    "If you are in the top level of the repository, then the command to run the script should be:\n",
    "`python scrips/generate_liquor_report.py --year [YEAR] --month [MONTH]` , with `[YEAR]` and  `[MONTH]` being filled in with the values you would like to use to generate your script. "
   ]
  },
  {
   "cell_type": "markdown",
   "metadata": {},
   "source": [
    "![running_script](pics/running_script.PNG)"
   ]
  },
  {
   "cell_type": "markdown",
   "metadata": {},
   "source": [
    "### Further Exercises\n",
    "\n",
    "Now that you've seen how to build a script from start to finish, you can go further and make updates to the script, and make additional scripts of your own. Some of these questions require knowledge beyond what we've covered so far in the training. These will require some resarch on your part to complete. \n",
    "\n",
    "Test your knowledge by completing the following exercises:\n",
    "1. Make a script called `liqour_data_checks.py` that runs all the data quality checks made in part 4. \n",
    "2. Add a question in the `generate_liqour_report.py` script that prompts the user to answer if they've already run the data checks script.\n",
    "    - Continue the script if they answer 'yes', and stop it if they answer 'no'. \n",
    "3. Add further `print()` statements to the script to inform the user what's happening as it runs"
   ]
  },
  {
   "cell_type": "code",
   "execution_count": null,
   "metadata": {},
   "outputs": [],
   "source": []
  }
 ],
 "metadata": {
  "kernelspec": {
   "display_name": "Python 3",
   "language": "python",
   "name": "python3"
  },
  "language_info": {
   "codemirror_mode": {
    "name": "ipython",
    "version": 3
   },
   "file_extension": ".py",
   "mimetype": "text/x-python",
   "name": "python",
   "nbconvert_exporter": "python",
   "pygments_lexer": "ipython3",
   "version": "3.7.4"
  }
 },
 "nbformat": 4,
 "nbformat_minor": 4
}
