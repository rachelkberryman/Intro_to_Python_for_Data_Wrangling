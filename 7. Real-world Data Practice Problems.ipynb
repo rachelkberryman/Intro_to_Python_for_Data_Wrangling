{
 "cells": [
  {
   "cell_type": "markdown",
   "metadata": {},
   "source": [
    "# Real-World Data Example\n",
    "\n",
    "Here, we look at a new dataset and try to answer some questions about it.\n",
    "\n",
    "The dataset contains data about sales at various liquor stores in the US state of Iowa.\n",
    "\n",
    "We begin by viewing the dataset. "
   ]
  },
  {
   "cell_type": "code",
   "execution_count": 1,
   "metadata": {},
   "outputs": [],
   "source": [
    "import pandas as pd"
   ]
  },
  {
   "cell_type": "code",
   "execution_count": 36,
   "metadata": {},
   "outputs": [],
   "source": [
    "df = pd.read_csv('data/liquor/iowa_liquor_sales.csv', index_col=0)"
   ]
  },
  {
   "cell_type": "code",
   "execution_count": 37,
   "metadata": {},
   "outputs": [
    {
     "data": {
      "text/html": [
       "<div>\n",
       "<style scoped>\n",
       "    .dataframe tbody tr th:only-of-type {\n",
       "        vertical-align: middle;\n",
       "    }\n",
       "\n",
       "    .dataframe tbody tr th {\n",
       "        vertical-align: top;\n",
       "    }\n",
       "\n",
       "    .dataframe thead th {\n",
       "        text-align: right;\n",
       "    }\n",
       "</style>\n",
       "<table border=\"1\" class=\"dataframe\">\n",
       "  <thead>\n",
       "    <tr style=\"text-align: right;\">\n",
       "      <th></th>\n",
       "      <th>Invoice/Item Number</th>\n",
       "      <th>Date</th>\n",
       "      <th>Store Number</th>\n",
       "      <th>Store Name</th>\n",
       "      <th>Address</th>\n",
       "      <th>City</th>\n",
       "      <th>Zip Code</th>\n",
       "      <th>Store Location</th>\n",
       "      <th>County Number</th>\n",
       "      <th>County</th>\n",
       "      <th>...</th>\n",
       "      <th>Item Number</th>\n",
       "      <th>Item Description</th>\n",
       "      <th>Pack</th>\n",
       "      <th>Bottle Volume (ml)</th>\n",
       "      <th>State Bottle Cost</th>\n",
       "      <th>State Bottle Retail</th>\n",
       "      <th>Bottles Sold</th>\n",
       "      <th>Sale (Dollars)</th>\n",
       "      <th>Volume Sold (Liters)</th>\n",
       "      <th>Volume Sold (Gallons)</th>\n",
       "    </tr>\n",
       "  </thead>\n",
       "  <tbody>\n",
       "    <tr>\n",
       "      <th>0</th>\n",
       "      <td>S29198800001</td>\n",
       "      <td>11/20/2015</td>\n",
       "      <td>2191</td>\n",
       "      <td>Keokuk Spirits</td>\n",
       "      <td>1013 MAIN</td>\n",
       "      <td>KEOKUK</td>\n",
       "      <td>52632</td>\n",
       "      <td>1013 MAIN\\nKEOKUK 52632\\n(40.39978, -91.387531)</td>\n",
       "      <td>56.0</td>\n",
       "      <td>Lee</td>\n",
       "      <td>...</td>\n",
       "      <td>297</td>\n",
       "      <td>Templeton Rye w/Flask</td>\n",
       "      <td>6</td>\n",
       "      <td>750</td>\n",
       "      <td>$18.09</td>\n",
       "      <td>$27.14</td>\n",
       "      <td>6</td>\n",
       "      <td>$162.84</td>\n",
       "      <td>4.50</td>\n",
       "      <td>1.19</td>\n",
       "    </tr>\n",
       "    <tr>\n",
       "      <th>1</th>\n",
       "      <td>S29195400002</td>\n",
       "      <td>11/21/2015</td>\n",
       "      <td>2205</td>\n",
       "      <td>Ding's Honk And Holler</td>\n",
       "      <td>900 E WASHINGTON</td>\n",
       "      <td>CLARINDA</td>\n",
       "      <td>51632</td>\n",
       "      <td>900 E WASHINGTON\\nCLARINDA 51632\\n(40.739238, ...</td>\n",
       "      <td>73.0</td>\n",
       "      <td>Page</td>\n",
       "      <td>...</td>\n",
       "      <td>297</td>\n",
       "      <td>Templeton Rye w/Flask</td>\n",
       "      <td>6</td>\n",
       "      <td>750</td>\n",
       "      <td>$18.09</td>\n",
       "      <td>$27.14</td>\n",
       "      <td>12</td>\n",
       "      <td>$325.68</td>\n",
       "      <td>9.00</td>\n",
       "      <td>2.38</td>\n",
       "    </tr>\n",
       "    <tr>\n",
       "      <th>2</th>\n",
       "      <td>S29050300001</td>\n",
       "      <td>11/16/2015</td>\n",
       "      <td>3549</td>\n",
       "      <td>Quicker Liquor Store</td>\n",
       "      <td>1414 48TH ST</td>\n",
       "      <td>FORT MADISON</td>\n",
       "      <td>52627</td>\n",
       "      <td>1414 48TH ST\\nFORT MADISON 52627\\n(40.624226, ...</td>\n",
       "      <td>56.0</td>\n",
       "      <td>Lee</td>\n",
       "      <td>...</td>\n",
       "      <td>249</td>\n",
       "      <td>Disaronno Amaretto Cavalli Mignon 3-50ml Pack</td>\n",
       "      <td>20</td>\n",
       "      <td>150</td>\n",
       "      <td>$6.40</td>\n",
       "      <td>$9.60</td>\n",
       "      <td>2</td>\n",
       "      <td>$19.20</td>\n",
       "      <td>0.30</td>\n",
       "      <td>0.08</td>\n",
       "    </tr>\n",
       "    <tr>\n",
       "      <th>3</th>\n",
       "      <td>S28867700001</td>\n",
       "      <td>11/4/2015</td>\n",
       "      <td>2513</td>\n",
       "      <td>Hy-Vee Food Store #2 / Iowa City</td>\n",
       "      <td>812  S 1ST AVE</td>\n",
       "      <td>IOWA CITY</td>\n",
       "      <td>52240</td>\n",
       "      <td>812 S 1ST AVE\\nIOWA CITY 52240\\n</td>\n",
       "      <td>52.0</td>\n",
       "      <td>Johnson</td>\n",
       "      <td>...</td>\n",
       "      <td>237</td>\n",
       "      <td>Knob Creek w/ Crystal Decanter</td>\n",
       "      <td>3</td>\n",
       "      <td>1750</td>\n",
       "      <td>$35.55</td>\n",
       "      <td>$53.34</td>\n",
       "      <td>3</td>\n",
       "      <td>$160.02</td>\n",
       "      <td>5.25</td>\n",
       "      <td>1.39</td>\n",
       "    </tr>\n",
       "    <tr>\n",
       "      <th>4</th>\n",
       "      <td>S29050800001</td>\n",
       "      <td>11/17/2015</td>\n",
       "      <td>3942</td>\n",
       "      <td>Twin Town Liquor</td>\n",
       "      <td>104 HIGHWAY 30 WEST</td>\n",
       "      <td>TOLEDO</td>\n",
       "      <td>52342</td>\n",
       "      <td>104 HIGHWAY 30 WEST\\nTOLEDO 52342\\n(41.985887,...</td>\n",
       "      <td>86.0</td>\n",
       "      <td>Tama</td>\n",
       "      <td>...</td>\n",
       "      <td>249</td>\n",
       "      <td>Disaronno Amaretto Cavalli Mignon 3-50ml Pack</td>\n",
       "      <td>20</td>\n",
       "      <td>150</td>\n",
       "      <td>$6.40</td>\n",
       "      <td>$9.60</td>\n",
       "      <td>2</td>\n",
       "      <td>$19.20</td>\n",
       "      <td>0.30</td>\n",
       "      <td>0.08</td>\n",
       "    </tr>\n",
       "  </tbody>\n",
       "</table>\n",
       "<p>5 rows × 24 columns</p>\n",
       "</div>"
      ],
      "text/plain": [
       "  Invoice/Item Number        Date  Store Number  \\\n",
       "0        S29198800001  11/20/2015          2191   \n",
       "1        S29195400002  11/21/2015          2205   \n",
       "2        S29050300001  11/16/2015          3549   \n",
       "3        S28867700001   11/4/2015          2513   \n",
       "4        S29050800001  11/17/2015          3942   \n",
       "\n",
       "                         Store Name              Address          City  \\\n",
       "0                    Keokuk Spirits            1013 MAIN        KEOKUK   \n",
       "1            Ding's Honk And Holler     900 E WASHINGTON      CLARINDA   \n",
       "2              Quicker Liquor Store         1414 48TH ST  FORT MADISON   \n",
       "3  Hy-Vee Food Store #2 / Iowa City       812  S 1ST AVE     IOWA CITY   \n",
       "4                  Twin Town Liquor  104 HIGHWAY 30 WEST        TOLEDO   \n",
       "\n",
       "  Zip Code                                     Store Location  County Number  \\\n",
       "0    52632    1013 MAIN\\nKEOKUK 52632\\n(40.39978, -91.387531)           56.0   \n",
       "1    51632  900 E WASHINGTON\\nCLARINDA 51632\\n(40.739238, ...           73.0   \n",
       "2    52627  1414 48TH ST\\nFORT MADISON 52627\\n(40.624226, ...           56.0   \n",
       "3    52240                   812 S 1ST AVE\\nIOWA CITY 52240\\n           52.0   \n",
       "4    52342  104 HIGHWAY 30 WEST\\nTOLEDO 52342\\n(41.985887,...           86.0   \n",
       "\n",
       "    County  ...  Item Number                               Item Description  \\\n",
       "0      Lee  ...          297                          Templeton Rye w/Flask   \n",
       "1     Page  ...          297                          Templeton Rye w/Flask   \n",
       "2      Lee  ...          249  Disaronno Amaretto Cavalli Mignon 3-50ml Pack   \n",
       "3  Johnson  ...          237                 Knob Creek w/ Crystal Decanter   \n",
       "4     Tama  ...          249  Disaronno Amaretto Cavalli Mignon 3-50ml Pack   \n",
       "\n",
       "   Pack Bottle Volume (ml)  State Bottle Cost State Bottle Retail  \\\n",
       "0     6                750            $18.09              $27.14    \n",
       "1     6                750            $18.09              $27.14    \n",
       "2    20                150             $6.40               $9.60    \n",
       "3     3               1750            $35.55              $53.34    \n",
       "4    20                150             $6.40               $9.60    \n",
       "\n",
       "   Bottles Sold  Sale (Dollars) Volume Sold (Liters) Volume Sold (Gallons)  \n",
       "0             6        $162.84                  4.50                  1.19  \n",
       "1            12        $325.68                  9.00                  2.38  \n",
       "2             2         $19.20                  0.30                  0.08  \n",
       "3             3        $160.02                  5.25                  1.39  \n",
       "4             2         $19.20                  0.30                  0.08  \n",
       "\n",
       "[5 rows x 24 columns]"
      ]
     },
     "execution_count": 37,
     "metadata": {},
     "output_type": "execute_result"
    }
   ],
   "source": [
    "df.head()"
   ]
  },
  {
   "cell_type": "code",
   "execution_count": 38,
   "metadata": {},
   "outputs": [
    {
     "data": {
      "text/plain": [
       "Invoice/Item Number       object\n",
       "Date                      object\n",
       "Store Number               int64\n",
       "Store Name                object\n",
       "Address                   object\n",
       "City                      object\n",
       "Zip Code                  object\n",
       "Store Location            object\n",
       "County Number            float64\n",
       "County                    object\n",
       "Category                 float64\n",
       "Category Name             object\n",
       "Vendor Number              int64\n",
       "Vendor Name               object\n",
       "Item Number                int64\n",
       "Item Description          object\n",
       "Pack                       int64\n",
       "Bottle Volume (ml)         int64\n",
       "State Bottle Cost         object\n",
       "State Bottle Retail       object\n",
       "Bottles Sold               int64\n",
       "Sale (Dollars)            object\n",
       "Volume Sold (Liters)     float64\n",
       "Volume Sold (Gallons)    float64\n",
       "dtype: object"
      ]
     },
     "execution_count": 38,
     "metadata": {},
     "output_type": "execute_result"
    }
   ],
   "source": [
    "df.dtypes"
   ]
  },
  {
   "cell_type": "markdown",
   "metadata": {},
   "source": [
    "## Data cleaning and preparation\n",
    "Before we can begin the analysis, we need to prepare our data. \n",
    "For our dataset here, this means making sure that any columns we need to use in calculations are in numeric format."
   ]
  },
  {
   "cell_type": "code",
   "execution_count": 45,
   "metadata": {},
   "outputs": [],
   "source": [
    "# removing dollar signs so that columns can be converted to numeric\n",
    "df = df.replace('\\$', '', regex=True)\n",
    "# removing commas in 1000s\n",
    "df = df.replace(',','', regex=True)"
   ]
  },
  {
   "cell_type": "code",
   "execution_count": 46,
   "metadata": {},
   "outputs": [],
   "source": [
    "# making list of columns to switch to numeric format\n",
    "columns_to_numeric = ['Sale (Dollars)', 'State Bottle Cost', 'State Bottle Retail']\n",
    "\n",
    "for column in columns_to_numeric:\n",
    "    df.loc[:, column] = pd.to_numeric(df.loc[:, column])"
   ]
  },
  {
   "cell_type": "markdown",
   "metadata": {},
   "source": [
    "## Analysis Questions\n",
    "Answer these questions using the pandas skills you've learned in the previous sections.\n",
    "Keep in mind that there are often many ways to arrive at the same answer."
   ]
  },
  {
   "cell_type": "markdown",
   "metadata": {},
   "source": [
    "1) Which store had the highest total dollars of sales?\n",
    "    - Is this the same store that had the highest volume (in liters) of alcohol sold?"
   ]
  },
  {
   "cell_type": "code",
   "execution_count": 26,
   "metadata": {},
   "outputs": [
    {
     "name": "stdout",
     "output_type": "stream",
     "text": [
      "Store with highest total dollar sales is: Hy-Vee #3 / BDI / Des Moines\n",
      "Store with highest volume in liters is: Hy-Vee #3 / BDI / Des Moines\n"
     ]
    }
   ],
   "source": []
  },
  {
   "cell_type": "markdown",
   "metadata": {},
   "source": [
    "2) Which purchase (by Invoice Number) was the most expensive?\n",
    "- What was the total cost of the invoice? (Use Sale (Dollars) column)"
   ]
  },
  {
   "cell_type": "code",
   "execution_count": 28,
   "metadata": {},
   "outputs": [
    {
     "data": {
      "text/plain": [
       "'S24494900001'"
      ]
     },
     "execution_count": 28,
     "metadata": {},
     "output_type": "execute_result"
    }
   ],
   "source": []
  },
  {
   "cell_type": "code",
   "execution_count": 29,
   "metadata": {},
   "outputs": [
    {
     "data": {
      "text/plain": [
       "41042.64"
      ]
     },
     "execution_count": 29,
     "metadata": {},
     "output_type": "execute_result"
    }
   ],
   "source": []
  },
  {
   "cell_type": "markdown",
   "metadata": {},
   "source": [
    "3) What is the most expensive item? Use the average 'State Bottle Retail' to find this.\n",
    "- How much does the bottle cost, on average?"
   ]
  },
  {
   "cell_type": "code",
   "execution_count": 101,
   "metadata": {},
   "outputs": [
    {
     "data": {
      "text/plain": [
       "'Cragganmore Distillers Edition 25YR HA'"
      ]
     },
     "execution_count": 101,
     "metadata": {},
     "output_type": "execute_result"
    }
   ],
   "source": [
    "bottles = df.groupby('Item Description').mean()\n",
    "bottles.loc[:, 'State Bottle Retail'].idxmax()"
   ]
  },
  {
   "cell_type": "code",
   "execution_count": 102,
   "metadata": {},
   "outputs": [
    {
     "data": {
      "text/plain": [
       "420.0"
      ]
     },
     "execution_count": 102,
     "metadata": {},
     "output_type": "execute_result"
    }
   ],
   "source": []
  },
  {
   "cell_type": "markdown",
   "metadata": {},
   "source": [
    "4) What is the most commonly sold item?"
   ]
  },
  {
   "cell_type": "code",
   "execution_count": 34,
   "metadata": {},
   "outputs": [
    {
     "data": {
      "text/plain": [
       "'Black Velvet'"
      ]
     },
     "execution_count": 34,
     "metadata": {},
     "output_type": "execute_result"
    }
   ],
   "source": []
  },
  {
   "cell_type": "markdown",
   "metadata": {},
   "source": [
    "5) What day in 2015 was the most money made? (Across all stores)"
   ]
  },
  {
   "cell_type": "code",
   "execution_count": 50,
   "metadata": {},
   "outputs": [
    {
     "data": {
      "text/plain": [
       "Timestamp('2015-03-16 00:00:00')"
      ]
     },
     "execution_count": 50,
     "metadata": {},
     "output_type": "execute_result"
    }
   ],
   "source": []
  },
  {
   "cell_type": "markdown",
   "metadata": {},
   "source": [
    "6) Which zip code drinks the most? (in liters)"
   ]
  },
  {
   "cell_type": "code",
   "execution_count": 52,
   "metadata": {},
   "outputs": [
    {
     "data": {
      "text/plain": [
       "'52402'"
      ]
     },
     "execution_count": 52,
     "metadata": {},
     "output_type": "execute_result"
    }
   ],
   "source": []
  },
  {
   "cell_type": "markdown",
   "metadata": {},
   "source": [
    "7) Does the data set contain any null values?"
   ]
  },
  {
   "cell_type": "code",
   "execution_count": 53,
   "metadata": {},
   "outputs": [
    {
     "data": {
      "text/plain": [
       "True"
      ]
     },
     "execution_count": 53,
     "metadata": {},
     "output_type": "execute_result"
    }
   ],
   "source": []
  },
  {
   "cell_type": "markdown",
   "metadata": {},
   "source": [
    "8) What is the average state bottle cost?\n",
    "    - Max cost?\n",
    "    - Min cost?\n",
    "    - 50%?"
   ]
  },
  {
   "cell_type": "code",
   "execution_count": 56,
   "metadata": {},
   "outputs": [
    {
     "data": {
      "text/plain": [
       "count    69999.000000\n",
       "mean         9.453733\n",
       "std          6.642000\n",
       "min          0.000000\n",
       "25%          5.480000\n",
       "50%          7.870000\n",
       "75%         11.540000\n",
       "max        280.000000\n",
       "Name: State Bottle Cost, dtype: float64"
      ]
     },
     "execution_count": 56,
     "metadata": {},
     "output_type": "execute_result"
    }
   ],
   "source": []
  },
  {
   "cell_type": "markdown",
   "metadata": {},
   "source": [
    "9) What is the total volume sold in Iowa City in 2013?"
   ]
  },
  {
   "cell_type": "code",
   "execution_count": 63,
   "metadata": {},
   "outputs": [
    {
     "data": {
      "text/plain": [
       "6097.08"
      ]
     },
     "execution_count": 63,
     "metadata": {},
     "output_type": "execute_result"
    }
   ],
   "source": []
  },
  {
   "cell_type": "markdown",
   "metadata": {},
   "source": [
    "10) Which month (average, across all years) sees the highest sales?"
   ]
  },
  {
   "cell_type": "code",
   "execution_count": 67,
   "metadata": {},
   "outputs": [
    {
     "data": {
      "text/plain": [
       "10"
      ]
     },
     "execution_count": 67,
     "metadata": {},
     "output_type": "execute_result"
    }
   ],
   "source": []
  },
  {
   "cell_type": "markdown",
   "metadata": {},
   "source": [
    "12) What is the most popular item (most bottles sold) at Wilkie Liquors?"
   ]
  },
  {
   "cell_type": "code",
   "execution_count": 76,
   "metadata": {},
   "outputs": [
    {
     "data": {
      "text/plain": [
       "'Juarez Gold Dss'"
      ]
     },
     "execution_count": 76,
     "metadata": {},
     "output_type": "execute_result"
    }
   ],
   "source": []
  },
  {
   "cell_type": "markdown",
   "metadata": {},
   "source": [
    "13) From which item does Wilkie Liquors earn the most of its revenue?"
   ]
  },
  {
   "cell_type": "code",
   "execution_count": 77,
   "metadata": {},
   "outputs": [
    {
     "data": {
      "text/plain": [
       "'Jack Daniels Old #7 Black Lbl'"
      ]
     },
     "execution_count": 77,
     "metadata": {},
     "output_type": "execute_result"
    }
   ],
   "source": []
  },
  {
   "cell_type": "markdown",
   "metadata": {},
   "source": [
    "14) What was the most expensive bottle sold in Des Moines in 2012?\n",
    "- How much did it cost?"
   ]
  },
  {
   "cell_type": "code",
   "execution_count": 95,
   "metadata": {},
   "outputs": [
    {
     "data": {
      "text/plain": [
       "'Dt Lonach Glendarroch 1966 42yr'"
      ]
     },
     "execution_count": 95,
     "metadata": {},
     "output_type": "execute_result"
    }
   ],
   "source": []
  },
  {
   "cell_type": "code",
   "execution_count": 96,
   "metadata": {},
   "outputs": [
    {
     "data": {
      "text/plain": [
       "153.0"
      ]
     },
     "execution_count": 96,
     "metadata": {},
     "output_type": "execute_result"
    }
   ],
   "source": []
  },
  {
   "cell_type": "markdown",
   "metadata": {},
   "source": [
    "15) Which store sold the most bottles of liquor in the city of Des Moines? (Over the entire time period for which we have data)"
   ]
  },
  {
   "cell_type": "code",
   "execution_count": 98,
   "metadata": {},
   "outputs": [
    {
     "data": {
      "text/plain": [
       "'Hy-Vee #3 / BDI / Des Moines'"
      ]
     },
     "execution_count": 98,
     "metadata": {},
     "output_type": "execute_result"
    }
   ],
   "source": []
  },
  {
   "cell_type": "markdown",
   "metadata": {},
   "source": [
    "16) Make a plot about at least one of these questions:"
   ]
  },
  {
   "cell_type": "code",
   "execution_count": 99,
   "metadata": {},
   "outputs": [],
   "source": [
    "import matplotlib.pyplot as plt "
   ]
  },
  {
   "cell_type": "code",
   "execution_count": 123,
   "metadata": {},
   "outputs": [
    {
     "data": {
      "image/png": "[encoded data removed]",
      "text/plain": [
       "<Figure size 1080x360 with 1 Axes>"
      ]
     },
     "metadata": {
      "needs_background": "light"
     },
     "output_type": "display_data"
    }
   ],
   "source": []
  }
 ],
 "metadata": {
  "kernelspec": {
   "display_name": "Python 3",
   "language": "python",
   "name": "python3"
  },
  "language_info": {
   "codemirror_mode": {
    "name": "ipython",
    "version": 3
   },
   "file_extension": ".py",
   "mimetype": "text/x-python",
   "name": "python",
   "nbconvert_exporter": "python",
   "pygments_lexer": "ipython3",
   "version": "3.7.3"
  }
 },
 "nbformat": 4,
 "nbformat_minor": 4
}
