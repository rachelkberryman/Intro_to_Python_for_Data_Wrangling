{
 "cells": [
  {
   "cell_type": "markdown",
   "metadata": {},
   "source": [
    "# 2. Summarizing, Aggregating & Grouping\n",
    "Knowing how to use pandas aggregation & grouping functions lets us reduce the dimensionality of our data (most often over the rows - aka `axis=0`).  \n",
    "\n",
    "For completeness, `axis=1` refers to the columns."
   ]
  },
  {
   "cell_type": "code",
   "execution_count": 1,
   "metadata": {},
   "outputs": [],
   "source": [
    "import pandas as pd\n",
    "import numpy as np"
   ]
  },
  {
   "cell_type": "code",
   "execution_count": 2,
   "metadata": {},
   "outputs": [],
   "source": [
    "wine = pd.read_csv('data/wine/winemag-data_first150k.csv', index_col=0)"
   ]
  },
  {
   "cell_type": "markdown",
   "metadata": {},
   "source": [
    "Answer to exercise from pandas notebook 1:\n",
    "\n",
    "\n",
    "`scrambled_wine[['points', 'region_1']].iloc[:5] \n",
    "`"
   ]
  },
  {
   "cell_type": "markdown",
   "metadata": {},
   "source": [
    "## Initial quick analysis using pandas\n",
    "Before we dive into this section on using pandas to view our data in different ways, let's review some of the basics of pandas from before.\n",
    "\n",
    "Pandas has multiple built-in functions that make it easy to quickly see what's in your dataframe. \n",
    "You can build them with the selecting tools you used before."
   ]
  },
  {
   "cell_type": "markdown",
   "metadata": {},
   "source": [
    "Here, we will select a column, and then see how pandas lets us quickly analyse it.\n",
    "\n",
    "To quickly see which columns our wine dataset has, we can use the .columns attribute."
   ]
  },
  {
   "cell_type": "code",
   "execution_count": 3,
   "metadata": {},
   "outputs": [
    {
     "data": {
      "text/plain": [
       "Index(['country', 'description', 'designation', 'points', 'price', 'province',\n",
       "       'region_1', 'region_2', 'variety', 'winery'],\n",
       "      dtype='object')"
      ]
     },
     "execution_count": 3,
     "metadata": {},
     "output_type": "execute_result"
    }
   ],
   "source": [
    "wine.columns"
   ]
  },
  {
   "cell_type": "markdown",
   "metadata": {},
   "source": [
    "Let's select price."
   ]
  },
  {
   "cell_type": "code",
   "execution_count": 4,
   "metadata": {},
   "outputs": [
    {
     "data": {
      "text/plain": [
       "150925    20.0\n",
       "150926    27.0\n",
       "150927    20.0\n",
       "150928    52.0\n",
       "150929    15.0\n",
       "Name: price, dtype: float64"
      ]
     },
     "execution_count": 4,
     "metadata": {},
     "output_type": "execute_result"
    }
   ],
   "source": [
    "wine['price'].tail()"
   ]
  },
  {
   "cell_type": "markdown",
   "metadata": {},
   "source": [
    "We can quickly see some metrics of the price, using some built-in aggregating functions in pandas."
   ]
  },
  {
   "cell_type": "code",
   "execution_count": 5,
   "metadata": {},
   "outputs": [
    {
     "name": "stdout",
     "output_type": "stream",
     "text": [
      "Average wine price:  33.13148249353299\n",
      "Min wine price:  4.0\n",
      "Median wine price:  24.0\n",
      "Max wine price:  2300.0\n"
     ]
    }
   ],
   "source": [
    "print('Average wine price: ', wine['price'].mean())\n",
    "print('Min wine price: ', wine['price'].min())\n",
    "print('Median wine price: ', wine['price'].median())\n",
    "print('Max wine price: ', wine['price'].max())"
   ]
  },
  {
   "cell_type": "markdown",
   "metadata": {},
   "source": [
    "And some more advanced metrics..\n",
    "\n",
    "Here we see how many records we have by each country"
   ]
  },
  {
   "cell_type": "code",
   "execution_count": 6,
   "metadata": {
    "scrolled": true
   },
   "outputs": [
    {
     "data": {
      "text/plain": [
       "US                        62397\n",
       "Italy                     23478\n",
       "France                    21098\n",
       "Spain                      8268\n",
       "Chile                      5816\n",
       "Argentina                  5631\n",
       "Portugal                   5322\n",
       "Australia                  4957\n",
       "New Zealand                3320\n",
       "Austria                    3057\n",
       "Germany                    2452\n",
       "South Africa               2258\n",
       "Greece                      884\n",
       "Israel                      630\n",
       "Hungary                     231\n",
       "Canada                      196\n",
       "Romania                     139\n",
       "Slovenia                     94\n",
       "Uruguay                      92\n",
       "Croatia                      89\n",
       "Bulgaria                     77\n",
       "Moldova                      71\n",
       "Mexico                       63\n",
       "Turkey                       52\n",
       "Georgia                      43\n",
       "Lebanon                      37\n",
       "Cyprus                       31\n",
       "Brazil                       25\n",
       "Macedonia                    16\n",
       "Serbia                       14\n",
       "Morocco                      12\n",
       "England                       9\n",
       "Luxembourg                    9\n",
       "India                         8\n",
       "Lithuania                     8\n",
       "Czech Republic                6\n",
       "Ukraine                       5\n",
       "South Korea                   4\n",
       "Bosnia and Herzegovina        4\n",
       "Switzerland                   4\n",
       "Egypt                         3\n",
       "Slovakia                      3\n",
       "China                         3\n",
       "Japan                         2\n",
       "Tunisia                       2\n",
       "Albania                       2\n",
       "Montenegro                    2\n",
       "US-France                     1\n",
       "Name: country, dtype: int64"
      ]
     },
     "execution_count": 6,
     "metadata": {},
     "output_type": "execute_result"
    }
   ],
   "source": [
    "wine['country'].value_counts()"
   ]
  },
  {
   "cell_type": "markdown",
   "metadata": {},
   "source": [
    "What if we want to see this list in the opposite order? We can use the `ascending` keyword"
   ]
  },
  {
   "cell_type": "code",
   "execution_count": 7,
   "metadata": {
    "scrolled": true
   },
   "outputs": [
    {
     "data": {
      "text/plain": [
       "US-France                     1\n",
       "Japan                         2\n",
       "Montenegro                    2\n",
       "Albania                       2\n",
       "Tunisia                       2\n",
       "China                         3\n",
       "Slovakia                      3\n",
       "Egypt                         3\n",
       "Switzerland                   4\n",
       "Bosnia and Herzegovina        4\n",
       "South Korea                   4\n",
       "Ukraine                       5\n",
       "Czech Republic                6\n",
       "Lithuania                     8\n",
       "India                         8\n",
       "Luxembourg                    9\n",
       "England                       9\n",
       "Morocco                      12\n",
       "Serbia                       14\n",
       "Macedonia                    16\n",
       "Brazil                       25\n",
       "Cyprus                       31\n",
       "Lebanon                      37\n",
       "Georgia                      43\n",
       "Turkey                       52\n",
       "Mexico                       63\n",
       "Moldova                      71\n",
       "Bulgaria                     77\n",
       "Croatia                      89\n",
       "Uruguay                      92\n",
       "Slovenia                     94\n",
       "Romania                     139\n",
       "Canada                      196\n",
       "Hungary                     231\n",
       "Israel                      630\n",
       "Greece                      884\n",
       "South Africa               2258\n",
       "Germany                    2452\n",
       "Austria                    3057\n",
       "New Zealand                3320\n",
       "Australia                  4957\n",
       "Portugal                   5322\n",
       "Argentina                  5631\n",
       "Chile                      5816\n",
       "Spain                      8268\n",
       "France                    21098\n",
       "Italy                     23478\n",
       "US                        62397\n",
       "Name: country, dtype: int64"
      ]
     },
     "execution_count": 7,
     "metadata": {},
     "output_type": "execute_result"
    }
   ],
   "source": [
    "wine['country'].value_counts().sort_values(ascending=True)"
   ]
  },
  {
   "cell_type": "markdown",
   "metadata": {},
   "source": [
    "We can also quickly view all of the unique values of a given column using the `.unique()` method with a specific column"
   ]
  },
  {
   "cell_type": "code",
   "execution_count": 8,
   "metadata": {},
   "outputs": [
    {
     "data": {
      "text/plain": [
       "array(['US', 'Spain', 'France', 'Italy', 'New Zealand', 'Bulgaria',\n",
       "       'Argentina', 'Australia', 'Portugal', 'Israel', 'South Africa',\n",
       "       'Greece', 'Chile', 'Morocco', 'Romania', 'Germany', 'Canada',\n",
       "       'Moldova', 'Hungary', 'Austria', 'Croatia', 'Slovenia', nan,\n",
       "       'India', 'Turkey', 'Macedonia', 'Lebanon', 'Serbia', 'Uruguay',\n",
       "       'Switzerland', 'Albania', 'Bosnia and Herzegovina', 'Brazil',\n",
       "       'Cyprus', 'Lithuania', 'Japan', 'China', 'South Korea', 'Ukraine',\n",
       "       'England', 'Mexico', 'Georgia', 'Montenegro', 'Luxembourg',\n",
       "       'Slovakia', 'Czech Republic', 'Egypt', 'Tunisia', 'US-France'],\n",
       "      dtype=object)"
      ]
     },
     "execution_count": 8,
     "metadata": {},
     "output_type": "execute_result"
    }
   ],
   "source": [
    "wine['country'].unique()"
   ]
  },
  {
   "cell_type": "markdown",
   "metadata": {},
   "source": [
    "This list is too long. What if we only want to see the top 10 countries?\n",
    "We can string together the other selectors we learned before!\n",
    "\n",
    "Can you think of another way to get the top 10 rows?"
   ]
  },
  {
   "cell_type": "code",
   "execution_count": 9,
   "metadata": {},
   "outputs": [
    {
     "data": {
      "text/plain": [
       "US             62397\n",
       "Italy          23478\n",
       "France         21098\n",
       "Spain           8268\n",
       "Chile           5816\n",
       "Argentina       5631\n",
       "Portugal        5322\n",
       "Australia       4957\n",
       "New Zealand     3320\n",
       "Austria         3057\n",
       "Name: country, dtype: int64"
      ]
     },
     "execution_count": 9,
     "metadata": {},
     "output_type": "execute_result"
    }
   ],
   "source": [
    "wine['country'].value_counts().head(10)"
   ]
  },
  {
   "cell_type": "markdown",
   "metadata": {},
   "source": [
    "What if we just want to know how many countries are on the list?"
   ]
  },
  {
   "cell_type": "code",
   "execution_count": 10,
   "metadata": {},
   "outputs": [
    {
     "data": {
      "text/plain": [
       "48"
      ]
     },
     "execution_count": 10,
     "metadata": {},
     "output_type": "execute_result"
    }
   ],
   "source": [
    "# Number of non-null unique values\n",
    "wine['country'].nunique()"
   ]
  },
  {
   "cell_type": "markdown",
   "metadata": {},
   "source": [
    "Another way to find unique values is using `set`"
   ]
  },
  {
   "cell_type": "code",
   "execution_count": 11,
   "metadata": {},
   "outputs": [
    {
     "data": {
      "text/plain": [
       "{'Albania',\n",
       " 'Argentina',\n",
       " 'Australia',\n",
       " 'Austria',\n",
       " 'Bosnia and Herzegovina',\n",
       " 'Brazil',\n",
       " 'Bulgaria',\n",
       " 'Canada',\n",
       " 'Chile',\n",
       " 'China',\n",
       " 'Croatia',\n",
       " 'Cyprus',\n",
       " 'Czech Republic',\n",
       " 'Egypt',\n",
       " 'England',\n",
       " 'France',\n",
       " 'Georgia',\n",
       " 'Germany',\n",
       " 'Greece',\n",
       " 'Hungary',\n",
       " 'India',\n",
       " 'Israel',\n",
       " 'Italy',\n",
       " 'Japan',\n",
       " 'Lebanon',\n",
       " 'Lithuania',\n",
       " 'Luxembourg',\n",
       " 'Macedonia',\n",
       " 'Mexico',\n",
       " 'Moldova',\n",
       " 'Montenegro',\n",
       " 'Morocco',\n",
       " 'New Zealand',\n",
       " 'Portugal',\n",
       " 'Romania',\n",
       " 'Serbia',\n",
       " 'Slovakia',\n",
       " 'Slovenia',\n",
       " 'South Africa',\n",
       " 'South Korea',\n",
       " 'Spain',\n",
       " 'Switzerland',\n",
       " 'Tunisia',\n",
       " 'Turkey',\n",
       " 'US',\n",
       " 'US-France',\n",
       " 'Ukraine',\n",
       " 'Uruguay',\n",
       " nan}"
      ]
     },
     "execution_count": 11,
     "metadata": {},
     "output_type": "execute_result"
    }
   ],
   "source": [
    "# Gives all unique values\n",
    "set(wine['country'])"
   ]
  },
  {
   "cell_type": "markdown",
   "metadata": {},
   "source": [
    "You can look [here](https://www.shanelynn.ie/summarising-aggregation-and-grouping-data-in-python-pandas/) for a list of all the built-in pandas stats."
   ]
  },
  {
   "cell_type": "markdown",
   "metadata": {},
   "source": [
    "One of the most powerful built-in summary tools for pandas is `df.describe()`. This quickly calculates some of these stats for the numeric columns in the df."
   ]
  },
  {
   "cell_type": "code",
   "execution_count": 12,
   "metadata": {},
   "outputs": [
    {
     "data": {
      "text/html": [
       "<div>\n",
       "<style scoped>\n",
       "    .dataframe tbody tr th:only-of-type {\n",
       "        vertical-align: middle;\n",
       "    }\n",
       "\n",
       "    .dataframe tbody tr th {\n",
       "        vertical-align: top;\n",
       "    }\n",
       "\n",
       "    .dataframe thead th {\n",
       "        text-align: right;\n",
       "    }\n",
       "</style>\n",
       "<table border=\"1\" class=\"dataframe\">\n",
       "  <thead>\n",
       "    <tr style=\"text-align: right;\">\n",
       "      <th></th>\n",
       "      <th>points</th>\n",
       "      <th>price</th>\n",
       "    </tr>\n",
       "  </thead>\n",
       "  <tbody>\n",
       "    <tr>\n",
       "      <th>count</th>\n",
       "      <td>150930.000000</td>\n",
       "      <td>137235.000000</td>\n",
       "    </tr>\n",
       "    <tr>\n",
       "      <th>mean</th>\n",
       "      <td>87.888418</td>\n",
       "      <td>33.131482</td>\n",
       "    </tr>\n",
       "    <tr>\n",
       "      <th>std</th>\n",
       "      <td>3.222392</td>\n",
       "      <td>36.322536</td>\n",
       "    </tr>\n",
       "    <tr>\n",
       "      <th>min</th>\n",
       "      <td>80.000000</td>\n",
       "      <td>4.000000</td>\n",
       "    </tr>\n",
       "    <tr>\n",
       "      <th>25%</th>\n",
       "      <td>86.000000</td>\n",
       "      <td>16.000000</td>\n",
       "    </tr>\n",
       "    <tr>\n",
       "      <th>50%</th>\n",
       "      <td>88.000000</td>\n",
       "      <td>24.000000</td>\n",
       "    </tr>\n",
       "    <tr>\n",
       "      <th>75%</th>\n",
       "      <td>90.000000</td>\n",
       "      <td>40.000000</td>\n",
       "    </tr>\n",
       "    <tr>\n",
       "      <th>max</th>\n",
       "      <td>100.000000</td>\n",
       "      <td>2300.000000</td>\n",
       "    </tr>\n",
       "  </tbody>\n",
       "</table>\n",
       "</div>"
      ],
      "text/plain": [
       "              points          price\n",
       "count  150930.000000  137235.000000\n",
       "mean       87.888418      33.131482\n",
       "std         3.222392      36.322536\n",
       "min        80.000000       4.000000\n",
       "25%        86.000000      16.000000\n",
       "50%        88.000000      24.000000\n",
       "75%        90.000000      40.000000\n",
       "max       100.000000    2300.000000"
      ]
     },
     "execution_count": 12,
     "metadata": {},
     "output_type": "execute_result"
    }
   ],
   "source": [
    "wine.describe()"
   ]
  },
  {
   "cell_type": "markdown",
   "metadata": {},
   "source": [
    "**Question**: Why are only 2 of the columns included?"
   ]
  },
  {
   "cell_type": "code",
   "execution_count": null,
   "metadata": {},
   "outputs": [],
   "source": []
  },
  {
   "cell_type": "markdown",
   "metadata": {},
   "source": [
    "### Conditional Selections \n",
    "We can use conditional selections to narrow our analysis even further.\n",
    "\n",
    "DON'T FORGET - to make things easier, we can save selections we plan to use often as their own variables."
   ]
  },
  {
   "cell_type": "code",
   "execution_count": 13,
   "metadata": {},
   "outputs": [],
   "source": [
    "us = wine[wine['country']=='US']\n",
    "france = wine[wine['country']=='France']"
   ]
  },
  {
   "cell_type": "code",
   "execution_count": 14,
   "metadata": {},
   "outputs": [
    {
     "name": "stdout",
     "output_type": "stream",
     "text": [
      "Mean American wine price: $ 33.65\n",
      "Mean French wine price: $ 45.62\n",
      "Mean overall wine price is: $ 33.13\n"
     ]
    }
   ],
   "source": [
    "print('Mean American wine price: $', round(us['price'].mean(),2))\n",
    "print('Mean French wine price: $', round(france['price'].mean(),2))\n",
    "print('Mean overall wine price is: $', round(wine['price'].mean(),2))"
   ]
  },
  {
   "cell_type": "markdown",
   "metadata": {},
   "source": [
    "We can then use these to calculate more targeted metrics."
   ]
  },
  {
   "cell_type": "code",
   "execution_count": 15,
   "metadata": {},
   "outputs": [
    {
     "name": "stdout",
     "output_type": "stream",
     "text": [
      "French wine is $12.49 more expensive on average\n"
     ]
    }
   ],
   "source": [
    "print('French wine is ${} more expensive on average'\\\n",
    "      .format(round(france['price'].mean() - wine['price'].mean(),2)))"
   ]
  },
  {
   "cell_type": "markdown",
   "metadata": {},
   "source": [
    "#### More advanced conditionals: Using masks\n",
    "When you want to filter on >1 criteria, it can be easier to use a mask.\n",
    "\n",
    "How many wines from North America do we have on our list?"
   ]
  },
  {
   "cell_type": "code",
   "execution_count": 16,
   "metadata": {},
   "outputs": [
    {
     "data": {
      "text/plain": [
       "Index(['country', 'description', 'designation', 'points', 'price', 'province',\n",
       "       'region_1', 'region_2', 'variety', 'winery'],\n",
       "      dtype='object')"
      ]
     },
     "execution_count": 16,
     "metadata": {},
     "output_type": "execute_result"
    }
   ],
   "source": [
    "wine.columns"
   ]
  },
  {
   "cell_type": "markdown",
   "metadata": {},
   "source": [
    "A mask is actually a 'boolean mask'. With a mask, we specify multiple conditions, and it returns a set of boolean values representing whether or not the given row meets ALL of the conditions.\n",
    "\n",
    "Then we can use these booleans to select on the overall DataFrame. "
   ]
  },
  {
   "cell_type": "code",
   "execution_count": 17,
   "metadata": {},
   "outputs": [],
   "source": [
    "na_mask = (wine.country == 'US') | (wine.country == 'Mexico') | (wine.country == 'Canada') \n",
    "na_indexes = wine.index[na_mask]\n",
    "na = wine.loc[na_indexes]"
   ]
  },
  {
   "cell_type": "code",
   "execution_count": 18,
   "metadata": {},
   "outputs": [],
   "source": [
    "# another way\n",
    "na = wine[na_mask]"
   ]
  },
  {
   "cell_type": "code",
   "execution_count": 19,
   "metadata": {},
   "outputs": [
    {
     "data": {
      "text/html": [
       "<div>\n",
       "<style scoped>\n",
       "    .dataframe tbody tr th:only-of-type {\n",
       "        vertical-align: middle;\n",
       "    }\n",
       "\n",
       "    .dataframe tbody tr th {\n",
       "        vertical-align: top;\n",
       "    }\n",
       "\n",
       "    .dataframe thead th {\n",
       "        text-align: right;\n",
       "    }\n",
       "</style>\n",
       "<table border=\"1\" class=\"dataframe\">\n",
       "  <thead>\n",
       "    <tr style=\"text-align: right;\">\n",
       "      <th></th>\n",
       "      <th>country</th>\n",
       "      <th>description</th>\n",
       "      <th>designation</th>\n",
       "      <th>points</th>\n",
       "      <th>price</th>\n",
       "      <th>province</th>\n",
       "      <th>region_1</th>\n",
       "      <th>region_2</th>\n",
       "      <th>variety</th>\n",
       "      <th>winery</th>\n",
       "    </tr>\n",
       "  </thead>\n",
       "  <tbody>\n",
       "    <tr>\n",
       "      <th>0</th>\n",
       "      <td>US</td>\n",
       "      <td>This tremendous 100% varietal wine hails from ...</td>\n",
       "      <td>Martha's Vineyard</td>\n",
       "      <td>96</td>\n",
       "      <td>235.0</td>\n",
       "      <td>California</td>\n",
       "      <td>Napa Valley</td>\n",
       "      <td>Napa</td>\n",
       "      <td>Cabernet Sauvignon</td>\n",
       "      <td>Heitz</td>\n",
       "    </tr>\n",
       "    <tr>\n",
       "      <th>2</th>\n",
       "      <td>US</td>\n",
       "      <td>Mac Watson honors the memory of a wine once ma...</td>\n",
       "      <td>Special Selected Late Harvest</td>\n",
       "      <td>96</td>\n",
       "      <td>90.0</td>\n",
       "      <td>California</td>\n",
       "      <td>Knights Valley</td>\n",
       "      <td>Sonoma</td>\n",
       "      <td>Sauvignon Blanc</td>\n",
       "      <td>Macauley</td>\n",
       "    </tr>\n",
       "    <tr>\n",
       "      <th>3</th>\n",
       "      <td>US</td>\n",
       "      <td>This spent 20 months in 30% new French oak, an...</td>\n",
       "      <td>Reserve</td>\n",
       "      <td>96</td>\n",
       "      <td>65.0</td>\n",
       "      <td>Oregon</td>\n",
       "      <td>Willamette Valley</td>\n",
       "      <td>Willamette Valley</td>\n",
       "      <td>Pinot Noir</td>\n",
       "      <td>Ponzi</td>\n",
       "    </tr>\n",
       "    <tr>\n",
       "      <th>8</th>\n",
       "      <td>US</td>\n",
       "      <td>This re-named vineyard was formerly bottled as...</td>\n",
       "      <td>Silice</td>\n",
       "      <td>95</td>\n",
       "      <td>65.0</td>\n",
       "      <td>Oregon</td>\n",
       "      <td>Chehalem Mountains</td>\n",
       "      <td>Willamette Valley</td>\n",
       "      <td>Pinot Noir</td>\n",
       "      <td>Bergström</td>\n",
       "    </tr>\n",
       "    <tr>\n",
       "      <th>9</th>\n",
       "      <td>US</td>\n",
       "      <td>The producer sources from two blocks of the vi...</td>\n",
       "      <td>Gap's Crown Vineyard</td>\n",
       "      <td>95</td>\n",
       "      <td>60.0</td>\n",
       "      <td>California</td>\n",
       "      <td>Sonoma Coast</td>\n",
       "      <td>Sonoma</td>\n",
       "      <td>Pinot Noir</td>\n",
       "      <td>Blue Farm</td>\n",
       "    </tr>\n",
       "  </tbody>\n",
       "</table>\n",
       "</div>"
      ],
      "text/plain": [
       "  country                                        description  \\\n",
       "0      US  This tremendous 100% varietal wine hails from ...   \n",
       "2      US  Mac Watson honors the memory of a wine once ma...   \n",
       "3      US  This spent 20 months in 30% new French oak, an...   \n",
       "8      US  This re-named vineyard was formerly bottled as...   \n",
       "9      US  The producer sources from two blocks of the vi...   \n",
       "\n",
       "                     designation  points  price    province  \\\n",
       "0              Martha's Vineyard      96  235.0  California   \n",
       "2  Special Selected Late Harvest      96   90.0  California   \n",
       "3                        Reserve      96   65.0      Oregon   \n",
       "8                         Silice      95   65.0      Oregon   \n",
       "9           Gap's Crown Vineyard      95   60.0  California   \n",
       "\n",
       "             region_1           region_2             variety     winery  \n",
       "0         Napa Valley               Napa  Cabernet Sauvignon      Heitz  \n",
       "2      Knights Valley             Sonoma     Sauvignon Blanc   Macauley  \n",
       "3   Willamette Valley  Willamette Valley          Pinot Noir      Ponzi  \n",
       "8  Chehalem Mountains  Willamette Valley          Pinot Noir  Bergström  \n",
       "9        Sonoma Coast             Sonoma          Pinot Noir  Blue Farm  "
      ]
     },
     "execution_count": 19,
     "metadata": {},
     "output_type": "execute_result"
    }
   ],
   "source": [
    "na.head()"
   ]
  },
  {
   "cell_type": "markdown",
   "metadata": {},
   "source": [
    "How many wines do we have total in the in North America?"
   ]
  },
  {
   "cell_type": "code",
   "execution_count": 20,
   "metadata": {},
   "outputs": [
    {
     "data": {
      "text/plain": [
       "62656"
      ]
     },
     "execution_count": 20,
     "metadata": {},
     "output_type": "execute_result"
    }
   ],
   "source": [
    "na['country'].count()"
   ]
  },
  {
   "cell_type": "code",
   "execution_count": 21,
   "metadata": {},
   "outputs": [
    {
     "data": {
      "text/plain": [
       "62656"
      ]
     },
     "execution_count": 21,
     "metadata": {},
     "output_type": "execute_result"
    }
   ],
   "source": [
    "na.count()['country']"
   ]
  },
  {
   "cell_type": "code",
   "execution_count": 22,
   "metadata": {},
   "outputs": [
    {
     "data": {
      "text/plain": [
       "62656"
      ]
     },
     "execution_count": 22,
     "metadata": {},
     "output_type": "execute_result"
    }
   ],
   "source": [
    "na.shape[0]"
   ]
  },
  {
   "cell_type": "markdown",
   "metadata": {},
   "source": [
    "**Question:** How many of the wines belong to each country?"
   ]
  },
  {
   "cell_type": "code",
   "execution_count": null,
   "metadata": {},
   "outputs": [],
   "source": []
  },
  {
   "cell_type": "markdown",
   "metadata": {},
   "source": [
    "**Question:** From which US state do most of our wines come?"
   ]
  },
  {
   "cell_type": "code",
   "execution_count": 23,
   "metadata": {},
   "outputs": [
    {
     "data": {
      "text/plain": [
       "'California'"
      ]
     },
     "execution_count": 23,
     "metadata": {},
     "output_type": "execute_result"
    }
   ],
   "source": [
    "wine[wine['country']=='US']['province'].value_counts().sort_values(ascending=False).index[0]"
   ]
  },
  {
   "cell_type": "code",
   "execution_count": 24,
   "metadata": {},
   "outputs": [
    {
     "data": {
      "text/plain": [
       "'California'"
      ]
     },
     "execution_count": 24,
     "metadata": {},
     "output_type": "execute_result"
    }
   ],
   "source": [
    "wine[wine['country']=='US']['province'].value_counts().index[0]"
   ]
  },
  {
   "cell_type": "code",
   "execution_count": 25,
   "metadata": {},
   "outputs": [
    {
     "data": {
      "text/plain": [
       "US        62397\n",
       "Canada      196\n",
       "Mexico       63\n",
       "Name: country, dtype: int64"
      ]
     },
     "execution_count": 25,
     "metadata": {},
     "output_type": "execute_result"
    }
   ],
   "source": [
    "na.country.value_counts()"
   ]
  },
  {
   "cell_type": "markdown",
   "metadata": {},
   "source": [
    "## Groupby\n",
    "One of the most flexible ways to aggregate in pandas is with `.groupby()`.\n",
    "We will look at how this works for categorical datasets like this one, and also for datetime datasets, as dealing with datetimes in pandas can be tricky."
   ]
  },
  {
   "cell_type": "code",
   "execution_count": 26,
   "metadata": {},
   "outputs": [],
   "source": [
    "# importing matplotlib to make plots later\n",
    "import matplotlib.pyplot as plt\n",
    "%matplotlib inline"
   ]
  },
  {
   "cell_type": "markdown",
   "metadata": {},
   "source": [
    "### How Groupby Works:\n",
    "You can group your data in many different ways, and also aggregate it by any of the aggregators we saw before: like mean, mode, sum, etc.\n",
    "\n",
    "#### NOTE:\n",
    "When using groupby, the column(s) in the parentheses (the columns that you group on) in the method will be your new index!\n",
    "\n",
    "Also, we ALWAYS have to have an 'aggregator' function. This function tells Pandas how it should aggregate the values. Remember that since we're changing the data, pandas has to know how it should change the data to fit the new output. Before, we had our data in the format of each wine review. Now we are combining all the rows for each country together under the header of the country name. Thus, pandas needs to know how it should aggregate this data. Take for example price: for the US for example, we are now combining about 60,000 rows of data into one number for the US. Should this one number be the average price? The total price? A count of how many records we have for the price column? We need to say this to Pandas specifically."
   ]
  },
  {
   "cell_type": "code",
   "execution_count": 27,
   "metadata": {
    "scrolled": true
   },
   "outputs": [
    {
     "data": {
      "text/html": [
       "<div>\n",
       "<style scoped>\n",
       "    .dataframe tbody tr th:only-of-type {\n",
       "        vertical-align: middle;\n",
       "    }\n",
       "\n",
       "    .dataframe tbody tr th {\n",
       "        vertical-align: top;\n",
       "    }\n",
       "\n",
       "    .dataframe thead th {\n",
       "        text-align: right;\n",
       "    }\n",
       "</style>\n",
       "<table border=\"1\" class=\"dataframe\">\n",
       "  <thead>\n",
       "    <tr style=\"text-align: right;\">\n",
       "      <th></th>\n",
       "      <th>points</th>\n",
       "      <th>price</th>\n",
       "    </tr>\n",
       "    <tr>\n",
       "      <th>country</th>\n",
       "      <th></th>\n",
       "      <th></th>\n",
       "    </tr>\n",
       "  </thead>\n",
       "  <tbody>\n",
       "    <tr>\n",
       "      <th>England</th>\n",
       "      <td>92.888889</td>\n",
       "      <td>47.500000</td>\n",
       "    </tr>\n",
       "    <tr>\n",
       "      <th>Austria</th>\n",
       "      <td>89.276742</td>\n",
       "      <td>31.192106</td>\n",
       "    </tr>\n",
       "    <tr>\n",
       "      <th>France</th>\n",
       "      <td>88.925870</td>\n",
       "      <td>45.619885</td>\n",
       "    </tr>\n",
       "    <tr>\n",
       "      <th>Germany</th>\n",
       "      <td>88.626427</td>\n",
       "      <td>39.011078</td>\n",
       "    </tr>\n",
       "    <tr>\n",
       "      <th>Italy</th>\n",
       "      <td>88.413664</td>\n",
       "      <td>37.547913</td>\n",
       "    </tr>\n",
       "    <tr>\n",
       "      <th>Canada</th>\n",
       "      <td>88.239796</td>\n",
       "      <td>34.628866</td>\n",
       "    </tr>\n",
       "    <tr>\n",
       "      <th>Slovenia</th>\n",
       "      <td>88.234043</td>\n",
       "      <td>28.061728</td>\n",
       "    </tr>\n",
       "    <tr>\n",
       "      <th>Morocco</th>\n",
       "      <td>88.166667</td>\n",
       "      <td>18.833333</td>\n",
       "    </tr>\n",
       "    <tr>\n",
       "      <th>Turkey</th>\n",
       "      <td>88.096154</td>\n",
       "      <td>25.800000</td>\n",
       "    </tr>\n",
       "    <tr>\n",
       "      <th>Portugal</th>\n",
       "      <td>88.057685</td>\n",
       "      <td>26.332615</td>\n",
       "    </tr>\n",
       "    <tr>\n",
       "      <th>US-France</th>\n",
       "      <td>88.000000</td>\n",
       "      <td>50.000000</td>\n",
       "    </tr>\n",
       "    <tr>\n",
       "      <th>Albania</th>\n",
       "      <td>88.000000</td>\n",
       "      <td>20.000000</td>\n",
       "    </tr>\n",
       "    <tr>\n",
       "      <th>Australia</th>\n",
       "      <td>87.892475</td>\n",
       "      <td>31.258480</td>\n",
       "    </tr>\n",
       "    <tr>\n",
       "      <th>US</th>\n",
       "      <td>87.818789</td>\n",
       "      <td>33.653808</td>\n",
       "    </tr>\n",
       "    <tr>\n",
       "      <th>Serbia</th>\n",
       "      <td>87.714286</td>\n",
       "      <td>24.285714</td>\n",
       "    </tr>\n",
       "    <tr>\n",
       "      <th>India</th>\n",
       "      <td>87.625000</td>\n",
       "      <td>13.875000</td>\n",
       "    </tr>\n",
       "    <tr>\n",
       "      <th>New Zealand</th>\n",
       "      <td>87.554217</td>\n",
       "      <td>24.173290</td>\n",
       "    </tr>\n",
       "    <tr>\n",
       "      <th>Hungary</th>\n",
       "      <td>87.329004</td>\n",
       "      <td>44.204348</td>\n",
       "    </tr>\n",
       "    <tr>\n",
       "      <th>Switzerland</th>\n",
       "      <td>87.250000</td>\n",
       "      <td>26.500000</td>\n",
       "    </tr>\n",
       "    <tr>\n",
       "      <th>South Africa</th>\n",
       "      <td>87.225421</td>\n",
       "      <td>21.130532</td>\n",
       "    </tr>\n",
       "    <tr>\n",
       "      <th>Israel</th>\n",
       "      <td>87.176190</td>\n",
       "      <td>31.304918</td>\n",
       "    </tr>\n",
       "    <tr>\n",
       "      <th>Luxembourg</th>\n",
       "      <td>87.000000</td>\n",
       "      <td>40.666667</td>\n",
       "    </tr>\n",
       "    <tr>\n",
       "      <th>Spain</th>\n",
       "      <td>86.646589</td>\n",
       "      <td>27.048529</td>\n",
       "    </tr>\n",
       "    <tr>\n",
       "      <th>Chile</th>\n",
       "      <td>86.296768</td>\n",
       "      <td>19.344780</td>\n",
       "    </tr>\n",
       "    <tr>\n",
       "      <th>Croatia</th>\n",
       "      <td>86.280899</td>\n",
       "      <td>23.108434</td>\n",
       "    </tr>\n",
       "    <tr>\n",
       "      <th>Greece</th>\n",
       "      <td>86.117647</td>\n",
       "      <td>21.747706</td>\n",
       "    </tr>\n",
       "    <tr>\n",
       "      <th>Tunisia</th>\n",
       "      <td>86.000000</td>\n",
       "      <td>NaN</td>\n",
       "    </tr>\n",
       "    <tr>\n",
       "      <th>Argentina</th>\n",
       "      <td>85.996093</td>\n",
       "      <td>20.794881</td>\n",
       "    </tr>\n",
       "    <tr>\n",
       "      <th>Cyprus</th>\n",
       "      <td>85.870968</td>\n",
       "      <td>15.483871</td>\n",
       "    </tr>\n",
       "    <tr>\n",
       "      <th>Czech Republic</th>\n",
       "      <td>85.833333</td>\n",
       "      <td>18.000000</td>\n",
       "    </tr>\n",
       "    <tr>\n",
       "      <th>Lebanon</th>\n",
       "      <td>85.702703</td>\n",
       "      <td>25.432432</td>\n",
       "    </tr>\n",
       "    <tr>\n",
       "      <th>Georgia</th>\n",
       "      <td>85.511628</td>\n",
       "      <td>18.581395</td>\n",
       "    </tr>\n",
       "    <tr>\n",
       "      <th>Bulgaria</th>\n",
       "      <td>85.467532</td>\n",
       "      <td>11.545455</td>\n",
       "    </tr>\n",
       "    <tr>\n",
       "      <th>Japan</th>\n",
       "      <td>85.000000</td>\n",
       "      <td>24.000000</td>\n",
       "    </tr>\n",
       "    <tr>\n",
       "      <th>Romania</th>\n",
       "      <td>84.920863</td>\n",
       "      <td>16.395683</td>\n",
       "    </tr>\n",
       "    <tr>\n",
       "      <th>Macedonia</th>\n",
       "      <td>84.812500</td>\n",
       "      <td>15.312500</td>\n",
       "    </tr>\n",
       "    <tr>\n",
       "      <th>Mexico</th>\n",
       "      <td>84.761905</td>\n",
       "      <td>29.095238</td>\n",
       "    </tr>\n",
       "    <tr>\n",
       "      <th>Bosnia and Herzegovina</th>\n",
       "      <td>84.750000</td>\n",
       "      <td>12.750000</td>\n",
       "    </tr>\n",
       "    <tr>\n",
       "      <th>Moldova</th>\n",
       "      <td>84.718310</td>\n",
       "      <td>15.366197</td>\n",
       "    </tr>\n",
       "    <tr>\n",
       "      <th>Ukraine</th>\n",
       "      <td>84.600000</td>\n",
       "      <td>13.000000</td>\n",
       "    </tr>\n",
       "    <tr>\n",
       "      <th>Uruguay</th>\n",
       "      <td>84.478261</td>\n",
       "      <td>25.847059</td>\n",
       "    </tr>\n",
       "    <tr>\n",
       "      <th>Lithuania</th>\n",
       "      <td>84.250000</td>\n",
       "      <td>10.000000</td>\n",
       "    </tr>\n",
       "    <tr>\n",
       "      <th>Slovakia</th>\n",
       "      <td>83.666667</td>\n",
       "      <td>15.333333</td>\n",
       "    </tr>\n",
       "    <tr>\n",
       "      <th>Egypt</th>\n",
       "      <td>83.666667</td>\n",
       "      <td>NaN</td>\n",
       "    </tr>\n",
       "    <tr>\n",
       "      <th>Brazil</th>\n",
       "      <td>83.240000</td>\n",
       "      <td>19.920000</td>\n",
       "    </tr>\n",
       "    <tr>\n",
       "      <th>China</th>\n",
       "      <td>82.000000</td>\n",
       "      <td>20.333333</td>\n",
       "    </tr>\n",
       "    <tr>\n",
       "      <th>Montenegro</th>\n",
       "      <td>82.000000</td>\n",
       "      <td>10.000000</td>\n",
       "    </tr>\n",
       "    <tr>\n",
       "      <th>South Korea</th>\n",
       "      <td>81.500000</td>\n",
       "      <td>13.500000</td>\n",
       "    </tr>\n",
       "  </tbody>\n",
       "</table>\n",
       "</div>"
      ],
      "text/plain": [
       "                           points      price\n",
       "country                                     \n",
       "England                 92.888889  47.500000\n",
       "Austria                 89.276742  31.192106\n",
       "France                  88.925870  45.619885\n",
       "Germany                 88.626427  39.011078\n",
       "Italy                   88.413664  37.547913\n",
       "Canada                  88.239796  34.628866\n",
       "Slovenia                88.234043  28.061728\n",
       "Morocco                 88.166667  18.833333\n",
       "Turkey                  88.096154  25.800000\n",
       "Portugal                88.057685  26.332615\n",
       "US-France               88.000000  50.000000\n",
       "Albania                 88.000000  20.000000\n",
       "Australia               87.892475  31.258480\n",
       "US                      87.818789  33.653808\n",
       "Serbia                  87.714286  24.285714\n",
       "India                   87.625000  13.875000\n",
       "New Zealand             87.554217  24.173290\n",
       "Hungary                 87.329004  44.204348\n",
       "Switzerland             87.250000  26.500000\n",
       "South Africa            87.225421  21.130532\n",
       "Israel                  87.176190  31.304918\n",
       "Luxembourg              87.000000  40.666667\n",
       "Spain                   86.646589  27.048529\n",
       "Chile                   86.296768  19.344780\n",
       "Croatia                 86.280899  23.108434\n",
       "Greece                  86.117647  21.747706\n",
       "Tunisia                 86.000000        NaN\n",
       "Argentina               85.996093  20.794881\n",
       "Cyprus                  85.870968  15.483871\n",
       "Czech Republic          85.833333  18.000000\n",
       "Lebanon                 85.702703  25.432432\n",
       "Georgia                 85.511628  18.581395\n",
       "Bulgaria                85.467532  11.545455\n",
       "Japan                   85.000000  24.000000\n",
       "Romania                 84.920863  16.395683\n",
       "Macedonia               84.812500  15.312500\n",
       "Mexico                  84.761905  29.095238\n",
       "Bosnia and Herzegovina  84.750000  12.750000\n",
       "Moldova                 84.718310  15.366197\n",
       "Ukraine                 84.600000  13.000000\n",
       "Uruguay                 84.478261  25.847059\n",
       "Lithuania               84.250000  10.000000\n",
       "Slovakia                83.666667  15.333333\n",
       "Egypt                   83.666667        NaN\n",
       "Brazil                  83.240000  19.920000\n",
       "China                   82.000000  20.333333\n",
       "Montenegro              82.000000  10.000000\n",
       "South Korea             81.500000  13.500000"
      ]
     },
     "execution_count": 27,
     "metadata": {},
     "output_type": "execute_result"
    }
   ],
   "source": [
    "wine.groupby('country').mean().sort_values(by=['points','price'], ascending=False)"
   ]
  },
  {
   "cell_type": "markdown",
   "metadata": {},
   "source": [
    "**Tip:** Sometimes, if you wanted to aggregate different columns in different ways, and to make your code cleaner, it's best to move the aggregations out and store them in their own variable that you can update saparately. We can save the aggregators as a dictionary with the column names for this purpose."
   ]
  },
  {
   "cell_type": "code",
   "execution_count": 28,
   "metadata": {},
   "outputs": [
    {
     "data": {
      "text/html": [
       "<div>\n",
       "<style scoped>\n",
       "    .dataframe tbody tr th:only-of-type {\n",
       "        vertical-align: middle;\n",
       "    }\n",
       "\n",
       "    .dataframe tbody tr th {\n",
       "        vertical-align: top;\n",
       "    }\n",
       "\n",
       "    .dataframe thead th {\n",
       "        text-align: right;\n",
       "    }\n",
       "</style>\n",
       "<table border=\"1\" class=\"dataframe\">\n",
       "  <thead>\n",
       "    <tr style=\"text-align: right;\">\n",
       "      <th></th>\n",
       "      <th>price</th>\n",
       "      <th>points</th>\n",
       "    </tr>\n",
       "    <tr>\n",
       "      <th>country</th>\n",
       "      <th></th>\n",
       "      <th></th>\n",
       "    </tr>\n",
       "  </thead>\n",
       "  <tbody>\n",
       "    <tr>\n",
       "      <th>Australia</th>\n",
       "      <td>31.258480</td>\n",
       "      <td>100</td>\n",
       "    </tr>\n",
       "    <tr>\n",
       "      <th>US</th>\n",
       "      <td>33.653808</td>\n",
       "      <td>100</td>\n",
       "    </tr>\n",
       "    <tr>\n",
       "      <th>Italy</th>\n",
       "      <td>37.547913</td>\n",
       "      <td>100</td>\n",
       "    </tr>\n",
       "    <tr>\n",
       "      <th>France</th>\n",
       "      <td>45.619885</td>\n",
       "      <td>100</td>\n",
       "    </tr>\n",
       "    <tr>\n",
       "      <th>Portugal</th>\n",
       "      <td>26.332615</td>\n",
       "      <td>99</td>\n",
       "    </tr>\n",
       "  </tbody>\n",
       "</table>\n",
       "</div>"
      ],
      "text/plain": [
       "               price  points\n",
       "country                     \n",
       "Australia  31.258480     100\n",
       "US         33.653808     100\n",
       "Italy      37.547913     100\n",
       "France     45.619885     100\n",
       "Portugal   26.332615      99"
      ]
     },
     "execution_count": 28,
     "metadata": {},
     "output_type": "execute_result"
    }
   ],
   "source": [
    "aggs = {\n",
    "    'price': 'mean',\n",
    "    'points': 'max'\n",
    "}\n",
    "\n",
    "wine.groupby('country').agg(aggs).sort_values(by=['points','price'], ascending =[False, True]).head()"
   ]
  },
  {
   "cell_type": "markdown",
   "metadata": {},
   "source": [
    "You can also use a list in your aggs to aggergate one column in different ways.\n",
    "\n",
    "This will give a **multi-index**. Multi-indexes can be difficult to sort on. But, there are a few different ways we can deal with this."
   ]
  },
  {
   "cell_type": "code",
   "execution_count": 29,
   "metadata": {
    "scrolled": true
   },
   "outputs": [
    {
     "data": {
      "text/html": [
       "<div>\n",
       "<style scoped>\n",
       "    .dataframe tbody tr th:only-of-type {\n",
       "        vertical-align: middle;\n",
       "    }\n",
       "\n",
       "    .dataframe tbody tr th {\n",
       "        vertical-align: top;\n",
       "    }\n",
       "\n",
       "    .dataframe thead tr th {\n",
       "        text-align: left;\n",
       "    }\n",
       "\n",
       "    .dataframe thead tr:last-of-type th {\n",
       "        text-align: right;\n",
       "    }\n",
       "</style>\n",
       "<table border=\"1\" class=\"dataframe\">\n",
       "  <thead>\n",
       "    <tr>\n",
       "      <th></th>\n",
       "      <th colspan=\"4\" halign=\"left\">price</th>\n",
       "    </tr>\n",
       "    <tr>\n",
       "      <th></th>\n",
       "      <th>min</th>\n",
       "      <th>mean</th>\n",
       "      <th>max</th>\n",
       "      <th>std</th>\n",
       "    </tr>\n",
       "    <tr>\n",
       "      <th>country</th>\n",
       "      <th></th>\n",
       "      <th></th>\n",
       "      <th></th>\n",
       "      <th></th>\n",
       "    </tr>\n",
       "  </thead>\n",
       "  <tbody>\n",
       "    <tr>\n",
       "      <th>Albania</th>\n",
       "      <td>20.0</td>\n",
       "      <td>20.000000</td>\n",
       "      <td>20.0</td>\n",
       "      <td>0.000000</td>\n",
       "    </tr>\n",
       "    <tr>\n",
       "      <th>Argentina</th>\n",
       "      <td>4.0</td>\n",
       "      <td>20.794881</td>\n",
       "      <td>250.0</td>\n",
       "      <td>20.186540</td>\n",
       "    </tr>\n",
       "    <tr>\n",
       "      <th>Australia</th>\n",
       "      <td>5.0</td>\n",
       "      <td>31.258480</td>\n",
       "      <td>850.0</td>\n",
       "      <td>39.008512</td>\n",
       "    </tr>\n",
       "    <tr>\n",
       "      <th>Austria</th>\n",
       "      <td>8.0</td>\n",
       "      <td>31.192106</td>\n",
       "      <td>1100.0</td>\n",
       "      <td>28.540861</td>\n",
       "    </tr>\n",
       "    <tr>\n",
       "      <th>Bosnia and Herzegovina</th>\n",
       "      <td>12.0</td>\n",
       "      <td>12.750000</td>\n",
       "      <td>13.0</td>\n",
       "      <td>0.500000</td>\n",
       "    </tr>\n",
       "    <tr>\n",
       "      <th>Brazil</th>\n",
       "      <td>11.0</td>\n",
       "      <td>19.920000</td>\n",
       "      <td>35.0</td>\n",
       "      <td>8.840814</td>\n",
       "    </tr>\n",
       "    <tr>\n",
       "      <th>Bulgaria</th>\n",
       "      <td>7.0</td>\n",
       "      <td>11.545455</td>\n",
       "      <td>28.0</td>\n",
       "      <td>4.959163</td>\n",
       "    </tr>\n",
       "    <tr>\n",
       "      <th>Canada</th>\n",
       "      <td>12.0</td>\n",
       "      <td>34.628866</td>\n",
       "      <td>145.0</td>\n",
       "      <td>24.267644</td>\n",
       "    </tr>\n",
       "    <tr>\n",
       "      <th>Chile</th>\n",
       "      <td>5.0</td>\n",
       "      <td>19.344780</td>\n",
       "      <td>400.0</td>\n",
       "      <td>19.618082</td>\n",
       "    </tr>\n",
       "    <tr>\n",
       "      <th>China</th>\n",
       "      <td>7.0</td>\n",
       "      <td>20.333333</td>\n",
       "      <td>27.0</td>\n",
       "      <td>11.547005</td>\n",
       "    </tr>\n",
       "    <tr>\n",
       "      <th>Croatia</th>\n",
       "      <td>12.0</td>\n",
       "      <td>23.108434</td>\n",
       "      <td>65.0</td>\n",
       "      <td>12.375243</td>\n",
       "    </tr>\n",
       "    <tr>\n",
       "      <th>Cyprus</th>\n",
       "      <td>10.0</td>\n",
       "      <td>15.483871</td>\n",
       "      <td>22.0</td>\n",
       "      <td>3.731586</td>\n",
       "    </tr>\n",
       "    <tr>\n",
       "      <th>Czech Republic</th>\n",
       "      <td>15.0</td>\n",
       "      <td>18.000000</td>\n",
       "      <td>25.0</td>\n",
       "      <td>4.000000</td>\n",
       "    </tr>\n",
       "    <tr>\n",
       "      <th>Egypt</th>\n",
       "      <td>NaN</td>\n",
       "      <td>NaN</td>\n",
       "      <td>NaN</td>\n",
       "      <td>NaN</td>\n",
       "    </tr>\n",
       "    <tr>\n",
       "      <th>England</th>\n",
       "      <td>38.0</td>\n",
       "      <td>47.500000</td>\n",
       "      <td>75.0</td>\n",
       "      <td>11.964232</td>\n",
       "    </tr>\n",
       "    <tr>\n",
       "      <th>France</th>\n",
       "      <td>5.0</td>\n",
       "      <td>45.619885</td>\n",
       "      <td>2300.0</td>\n",
       "      <td>69.697060</td>\n",
       "    </tr>\n",
       "    <tr>\n",
       "      <th>Georgia</th>\n",
       "      <td>9.0</td>\n",
       "      <td>18.581395</td>\n",
       "      <td>40.0</td>\n",
       "      <td>8.990028</td>\n",
       "    </tr>\n",
       "    <tr>\n",
       "      <th>Germany</th>\n",
       "      <td>5.0</td>\n",
       "      <td>39.011078</td>\n",
       "      <td>775.0</td>\n",
       "      <td>56.857128</td>\n",
       "    </tr>\n",
       "    <tr>\n",
       "      <th>Greece</th>\n",
       "      <td>7.0</td>\n",
       "      <td>21.747706</td>\n",
       "      <td>120.0</td>\n",
       "      <td>12.273692</td>\n",
       "    </tr>\n",
       "    <tr>\n",
       "      <th>Hungary</th>\n",
       "      <td>7.0</td>\n",
       "      <td>44.204348</td>\n",
       "      <td>764.0</td>\n",
       "      <td>66.264502</td>\n",
       "    </tr>\n",
       "    <tr>\n",
       "      <th>India</th>\n",
       "      <td>10.0</td>\n",
       "      <td>13.875000</td>\n",
       "      <td>20.0</td>\n",
       "      <td>3.870677</td>\n",
       "    </tr>\n",
       "    <tr>\n",
       "      <th>Israel</th>\n",
       "      <td>8.0</td>\n",
       "      <td>31.304918</td>\n",
       "      <td>150.0</td>\n",
       "      <td>19.650363</td>\n",
       "    </tr>\n",
       "    <tr>\n",
       "      <th>Italy</th>\n",
       "      <td>5.0</td>\n",
       "      <td>37.547913</td>\n",
       "      <td>900.0</td>\n",
       "      <td>37.067869</td>\n",
       "    </tr>\n",
       "    <tr>\n",
       "      <th>Japan</th>\n",
       "      <td>24.0</td>\n",
       "      <td>24.000000</td>\n",
       "      <td>24.0</td>\n",
       "      <td>0.000000</td>\n",
       "    </tr>\n",
       "    <tr>\n",
       "      <th>Lebanon</th>\n",
       "      <td>12.0</td>\n",
       "      <td>25.432432</td>\n",
       "      <td>51.0</td>\n",
       "      <td>12.835585</td>\n",
       "    </tr>\n",
       "    <tr>\n",
       "      <th>Lithuania</th>\n",
       "      <td>10.0</td>\n",
       "      <td>10.000000</td>\n",
       "      <td>10.0</td>\n",
       "      <td>0.000000</td>\n",
       "    </tr>\n",
       "    <tr>\n",
       "      <th>Luxembourg</th>\n",
       "      <td>36.0</td>\n",
       "      <td>40.666667</td>\n",
       "      <td>50.0</td>\n",
       "      <td>7.000000</td>\n",
       "    </tr>\n",
       "    <tr>\n",
       "      <th>Macedonia</th>\n",
       "      <td>12.0</td>\n",
       "      <td>15.312500</td>\n",
       "      <td>25.0</td>\n",
       "      <td>4.377499</td>\n",
       "    </tr>\n",
       "    <tr>\n",
       "      <th>Mexico</th>\n",
       "      <td>12.0</td>\n",
       "      <td>29.095238</td>\n",
       "      <td>108.0</td>\n",
       "      <td>16.938898</td>\n",
       "    </tr>\n",
       "    <tr>\n",
       "      <th>Moldova</th>\n",
       "      <td>8.0</td>\n",
       "      <td>15.366197</td>\n",
       "      <td>42.0</td>\n",
       "      <td>7.679731</td>\n",
       "    </tr>\n",
       "    <tr>\n",
       "      <th>Montenegro</th>\n",
       "      <td>10.0</td>\n",
       "      <td>10.000000</td>\n",
       "      <td>10.0</td>\n",
       "      <td>0.000000</td>\n",
       "    </tr>\n",
       "    <tr>\n",
       "      <th>Morocco</th>\n",
       "      <td>6.0</td>\n",
       "      <td>18.833333</td>\n",
       "      <td>35.0</td>\n",
       "      <td>7.755741</td>\n",
       "    </tr>\n",
       "    <tr>\n",
       "      <th>New Zealand</th>\n",
       "      <td>7.0</td>\n",
       "      <td>24.173290</td>\n",
       "      <td>125.0</td>\n",
       "      <td>13.569317</td>\n",
       "    </tr>\n",
       "    <tr>\n",
       "      <th>Portugal</th>\n",
       "      <td>4.0</td>\n",
       "      <td>26.332615</td>\n",
       "      <td>980.0</td>\n",
       "      <td>35.242873</td>\n",
       "    </tr>\n",
       "    <tr>\n",
       "      <th>Romania</th>\n",
       "      <td>4.0</td>\n",
       "      <td>16.395683</td>\n",
       "      <td>320.0</td>\n",
       "      <td>28.845571</td>\n",
       "    </tr>\n",
       "    <tr>\n",
       "      <th>Serbia</th>\n",
       "      <td>15.0</td>\n",
       "      <td>24.285714</td>\n",
       "      <td>42.0</td>\n",
       "      <td>9.335034</td>\n",
       "    </tr>\n",
       "    <tr>\n",
       "      <th>Slovakia</th>\n",
       "      <td>15.0</td>\n",
       "      <td>15.333333</td>\n",
       "      <td>16.0</td>\n",
       "      <td>0.577350</td>\n",
       "    </tr>\n",
       "    <tr>\n",
       "      <th>Slovenia</th>\n",
       "      <td>7.0</td>\n",
       "      <td>28.061728</td>\n",
       "      <td>90.0</td>\n",
       "      <td>14.263017</td>\n",
       "    </tr>\n",
       "    <tr>\n",
       "      <th>South Africa</th>\n",
       "      <td>5.0</td>\n",
       "      <td>21.130532</td>\n",
       "      <td>145.0</td>\n",
       "      <td>14.248025</td>\n",
       "    </tr>\n",
       "    <tr>\n",
       "      <th>South Korea</th>\n",
       "      <td>11.0</td>\n",
       "      <td>13.500000</td>\n",
       "      <td>16.0</td>\n",
       "      <td>2.886751</td>\n",
       "    </tr>\n",
       "    <tr>\n",
       "      <th>Spain</th>\n",
       "      <td>4.0</td>\n",
       "      <td>27.048529</td>\n",
       "      <td>770.0</td>\n",
       "      <td>33.861666</td>\n",
       "    </tr>\n",
       "    <tr>\n",
       "      <th>Switzerland</th>\n",
       "      <td>19.0</td>\n",
       "      <td>26.500000</td>\n",
       "      <td>38.0</td>\n",
       "      <td>8.582929</td>\n",
       "    </tr>\n",
       "    <tr>\n",
       "      <th>Tunisia</th>\n",
       "      <td>NaN</td>\n",
       "      <td>NaN</td>\n",
       "      <td>NaN</td>\n",
       "      <td>NaN</td>\n",
       "    </tr>\n",
       "    <tr>\n",
       "      <th>Turkey</th>\n",
       "      <td>14.0</td>\n",
       "      <td>25.800000</td>\n",
       "      <td>120.0</td>\n",
       "      <td>19.120456</td>\n",
       "    </tr>\n",
       "    <tr>\n",
       "      <th>US</th>\n",
       "      <td>4.0</td>\n",
       "      <td>33.653808</td>\n",
       "      <td>2013.0</td>\n",
       "      <td>24.891343</td>\n",
       "    </tr>\n",
       "    <tr>\n",
       "      <th>US-France</th>\n",
       "      <td>50.0</td>\n",
       "      <td>50.000000</td>\n",
       "      <td>50.0</td>\n",
       "      <td>NaN</td>\n",
       "    </tr>\n",
       "    <tr>\n",
       "      <th>Ukraine</th>\n",
       "      <td>13.0</td>\n",
       "      <td>13.000000</td>\n",
       "      <td>13.0</td>\n",
       "      <td>0.000000</td>\n",
       "    </tr>\n",
       "    <tr>\n",
       "      <th>Uruguay</th>\n",
       "      <td>7.0</td>\n",
       "      <td>25.847059</td>\n",
       "      <td>60.0</td>\n",
       "      <td>15.066129</td>\n",
       "    </tr>\n",
       "  </tbody>\n",
       "</table>\n",
       "</div>"
      ],
      "text/plain": [
       "                       price                              \n",
       "                         min       mean     max        std\n",
       "country                                                   \n",
       "Albania                 20.0  20.000000    20.0   0.000000\n",
       "Argentina                4.0  20.794881   250.0  20.186540\n",
       "Australia                5.0  31.258480   850.0  39.008512\n",
       "Austria                  8.0  31.192106  1100.0  28.540861\n",
       "Bosnia and Herzegovina  12.0  12.750000    13.0   0.500000\n",
       "Brazil                  11.0  19.920000    35.0   8.840814\n",
       "Bulgaria                 7.0  11.545455    28.0   4.959163\n",
       "Canada                  12.0  34.628866   145.0  24.267644\n",
       "Chile                    5.0  19.344780   400.0  19.618082\n",
       "China                    7.0  20.333333    27.0  11.547005\n",
       "Croatia                 12.0  23.108434    65.0  12.375243\n",
       "Cyprus                  10.0  15.483871    22.0   3.731586\n",
       "Czech Republic          15.0  18.000000    25.0   4.000000\n",
       "Egypt                    NaN        NaN     NaN        NaN\n",
       "England                 38.0  47.500000    75.0  11.964232\n",
       "France                   5.0  45.619885  2300.0  69.697060\n",
       "Georgia                  9.0  18.581395    40.0   8.990028\n",
       "Germany                  5.0  39.011078   775.0  56.857128\n",
       "Greece                   7.0  21.747706   120.0  12.273692\n",
       "Hungary                  7.0  44.204348   764.0  66.264502\n",
       "India                   10.0  13.875000    20.0   3.870677\n",
       "Israel                   8.0  31.304918   150.0  19.650363\n",
       "Italy                    5.0  37.547913   900.0  37.067869\n",
       "Japan                   24.0  24.000000    24.0   0.000000\n",
       "Lebanon                 12.0  25.432432    51.0  12.835585\n",
       "Lithuania               10.0  10.000000    10.0   0.000000\n",
       "Luxembourg              36.0  40.666667    50.0   7.000000\n",
       "Macedonia               12.0  15.312500    25.0   4.377499\n",
       "Mexico                  12.0  29.095238   108.0  16.938898\n",
       "Moldova                  8.0  15.366197    42.0   7.679731\n",
       "Montenegro              10.0  10.000000    10.0   0.000000\n",
       "Morocco                  6.0  18.833333    35.0   7.755741\n",
       "New Zealand              7.0  24.173290   125.0  13.569317\n",
       "Portugal                 4.0  26.332615   980.0  35.242873\n",
       "Romania                  4.0  16.395683   320.0  28.845571\n",
       "Serbia                  15.0  24.285714    42.0   9.335034\n",
       "Slovakia                15.0  15.333333    16.0   0.577350\n",
       "Slovenia                 7.0  28.061728    90.0  14.263017\n",
       "South Africa             5.0  21.130532   145.0  14.248025\n",
       "South Korea             11.0  13.500000    16.0   2.886751\n",
       "Spain                    4.0  27.048529   770.0  33.861666\n",
       "Switzerland             19.0  26.500000    38.0   8.582929\n",
       "Tunisia                  NaN        NaN     NaN        NaN\n",
       "Turkey                  14.0  25.800000   120.0  19.120456\n",
       "US                       4.0  33.653808  2013.0  24.891343\n",
       "US-France               50.0  50.000000    50.0        NaN\n",
       "Ukraine                 13.0  13.000000    13.0   0.000000\n",
       "Uruguay                  7.0  25.847059    60.0  15.066129"
      ]
     },
     "execution_count": 29,
     "metadata": {},
     "output_type": "execute_result"
    }
   ],
   "source": [
    "aggs = {\n",
    "    'price': ['min', 'mean', 'max', 'std']\n",
    "}\n",
    "\n",
    "price_table = wine.groupby('country').agg(aggs)\n",
    "price_table"
   ]
  },
  {
   "cell_type": "markdown",
   "metadata": {},
   "source": [
    "One way is by dropping the top level ('price'):"
   ]
  },
  {
   "cell_type": "code",
   "execution_count": 30,
   "metadata": {
    "scrolled": true
   },
   "outputs": [
    {
     "data": {
      "text/html": [
       "<div>\n",
       "<style scoped>\n",
       "    .dataframe tbody tr th:only-of-type {\n",
       "        vertical-align: middle;\n",
       "    }\n",
       "\n",
       "    .dataframe tbody tr th {\n",
       "        vertical-align: top;\n",
       "    }\n",
       "\n",
       "    .dataframe thead th {\n",
       "        text-align: right;\n",
       "    }\n",
       "</style>\n",
       "<table border=\"1\" class=\"dataframe\">\n",
       "  <thead>\n",
       "    <tr style=\"text-align: right;\">\n",
       "      <th></th>\n",
       "      <th>min</th>\n",
       "      <th>mean</th>\n",
       "      <th>max</th>\n",
       "      <th>std</th>\n",
       "    </tr>\n",
       "    <tr>\n",
       "      <th>country</th>\n",
       "      <th></th>\n",
       "      <th></th>\n",
       "      <th></th>\n",
       "      <th></th>\n",
       "    </tr>\n",
       "  </thead>\n",
       "  <tbody>\n",
       "    <tr>\n",
       "      <th>US-France</th>\n",
       "      <td>50.0</td>\n",
       "      <td>50.000000</td>\n",
       "      <td>50.0</td>\n",
       "      <td>NaN</td>\n",
       "    </tr>\n",
       "    <tr>\n",
       "      <th>England</th>\n",
       "      <td>38.0</td>\n",
       "      <td>47.500000</td>\n",
       "      <td>75.0</td>\n",
       "      <td>11.964232</td>\n",
       "    </tr>\n",
       "    <tr>\n",
       "      <th>France</th>\n",
       "      <td>5.0</td>\n",
       "      <td>45.619885</td>\n",
       "      <td>2300.0</td>\n",
       "      <td>69.697060</td>\n",
       "    </tr>\n",
       "    <tr>\n",
       "      <th>Hungary</th>\n",
       "      <td>7.0</td>\n",
       "      <td>44.204348</td>\n",
       "      <td>764.0</td>\n",
       "      <td>66.264502</td>\n",
       "    </tr>\n",
       "    <tr>\n",
       "      <th>Luxembourg</th>\n",
       "      <td>36.0</td>\n",
       "      <td>40.666667</td>\n",
       "      <td>50.0</td>\n",
       "      <td>7.000000</td>\n",
       "    </tr>\n",
       "  </tbody>\n",
       "</table>\n",
       "</div>"
      ],
      "text/plain": [
       "             min       mean     max        std\n",
       "country                                       \n",
       "US-France   50.0  50.000000    50.0        NaN\n",
       "England     38.0  47.500000    75.0  11.964232\n",
       "France       5.0  45.619885  2300.0  69.697060\n",
       "Hungary      7.0  44.204348   764.0  66.264502\n",
       "Luxembourg  36.0  40.666667    50.0   7.000000"
      ]
     },
     "execution_count": 30,
     "metadata": {},
     "output_type": "execute_result"
    }
   ],
   "source": [
    "price_table.columns = price_table.columns.droplevel(level=0)\n",
    "\n",
    "# now, we can sort by any of the columns. Here, by average price.\n",
    "price_table.sort_values(by='mean', ascending=False).head()"
   ]
  },
  {
   "cell_type": "markdown",
   "metadata": {},
   "source": [
    "Another way is by using `np.ravel()` . This preserves the \"price\" indicator somewhere in each of the column names by combining the first word, 'price', with the given aggregation for the column."
   ]
  },
  {
   "cell_type": "code",
   "execution_count": 31,
   "metadata": {},
   "outputs": [
    {
     "data": {
      "text/html": [
       "<div>\n",
       "<style scoped>\n",
       "    .dataframe tbody tr th:only-of-type {\n",
       "        vertical-align: middle;\n",
       "    }\n",
       "\n",
       "    .dataframe tbody tr th {\n",
       "        vertical-align: top;\n",
       "    }\n",
       "\n",
       "    .dataframe thead tr th {\n",
       "        text-align: left;\n",
       "    }\n",
       "\n",
       "    .dataframe thead tr:last-of-type th {\n",
       "        text-align: right;\n",
       "    }\n",
       "</style>\n",
       "<table border=\"1\" class=\"dataframe\">\n",
       "  <thead>\n",
       "    <tr>\n",
       "      <th></th>\n",
       "      <th colspan=\"4\" halign=\"left\">price</th>\n",
       "    </tr>\n",
       "    <tr>\n",
       "      <th></th>\n",
       "      <th>min</th>\n",
       "      <th>mean</th>\n",
       "      <th>max</th>\n",
       "      <th>std</th>\n",
       "    </tr>\n",
       "    <tr>\n",
       "      <th>country</th>\n",
       "      <th></th>\n",
       "      <th></th>\n",
       "      <th></th>\n",
       "      <th></th>\n",
       "    </tr>\n",
       "  </thead>\n",
       "  <tbody>\n",
       "    <tr>\n",
       "      <th>Albania</th>\n",
       "      <td>20.0</td>\n",
       "      <td>20.000000</td>\n",
       "      <td>20.0</td>\n",
       "      <td>0.000000</td>\n",
       "    </tr>\n",
       "    <tr>\n",
       "      <th>Argentina</th>\n",
       "      <td>4.0</td>\n",
       "      <td>20.794881</td>\n",
       "      <td>250.0</td>\n",
       "      <td>20.186540</td>\n",
       "    </tr>\n",
       "    <tr>\n",
       "      <th>Australia</th>\n",
       "      <td>5.0</td>\n",
       "      <td>31.258480</td>\n",
       "      <td>850.0</td>\n",
       "      <td>39.008512</td>\n",
       "    </tr>\n",
       "    <tr>\n",
       "      <th>Austria</th>\n",
       "      <td>8.0</td>\n",
       "      <td>31.192106</td>\n",
       "      <td>1100.0</td>\n",
       "      <td>28.540861</td>\n",
       "    </tr>\n",
       "    <tr>\n",
       "      <th>Bosnia and Herzegovina</th>\n",
       "      <td>12.0</td>\n",
       "      <td>12.750000</td>\n",
       "      <td>13.0</td>\n",
       "      <td>0.500000</td>\n",
       "    </tr>\n",
       "  </tbody>\n",
       "</table>\n",
       "</div>"
      ],
      "text/plain": [
       "                       price                              \n",
       "                         min       mean     max        std\n",
       "country                                                   \n",
       "Albania                 20.0  20.000000    20.0   0.000000\n",
       "Argentina                4.0  20.794881   250.0  20.186540\n",
       "Australia                5.0  31.258480   850.0  39.008512\n",
       "Austria                  8.0  31.192106  1100.0  28.540861\n",
       "Bosnia and Herzegovina  12.0  12.750000    13.0   0.500000"
      ]
     },
     "execution_count": 31,
     "metadata": {},
     "output_type": "execute_result"
    }
   ],
   "source": [
    "price_table = wine.groupby('country').agg(aggs)\n",
    "\n",
    "price_table.head()"
   ]
  },
  {
   "cell_type": "code",
   "execution_count": 32,
   "metadata": {},
   "outputs": [
    {
     "data": {
      "text/plain": [
       "MultiIndex([('price',  'min'),\n",
       "            ('price', 'mean'),\n",
       "            ('price',  'max'),\n",
       "            ('price',  'std')],\n",
       "           )"
      ]
     },
     "execution_count": 32,
     "metadata": {},
     "output_type": "execute_result"
    }
   ],
   "source": [
    "price_table.columns"
   ]
  },
  {
   "cell_type": "code",
   "execution_count": 33,
   "metadata": {},
   "outputs": [
    {
     "data": {
      "text/html": [
       "<div>\n",
       "<style scoped>\n",
       "    .dataframe tbody tr th:only-of-type {\n",
       "        vertical-align: middle;\n",
       "    }\n",
       "\n",
       "    .dataframe tbody tr th {\n",
       "        vertical-align: top;\n",
       "    }\n",
       "\n",
       "    .dataframe thead th {\n",
       "        text-align: right;\n",
       "    }\n",
       "</style>\n",
       "<table border=\"1\" class=\"dataframe\">\n",
       "  <thead>\n",
       "    <tr style=\"text-align: right;\">\n",
       "      <th></th>\n",
       "      <th>price_min</th>\n",
       "      <th>price_mean</th>\n",
       "      <th>price_max</th>\n",
       "      <th>price_std</th>\n",
       "    </tr>\n",
       "    <tr>\n",
       "      <th>country</th>\n",
       "      <th></th>\n",
       "      <th></th>\n",
       "      <th></th>\n",
       "      <th></th>\n",
       "    </tr>\n",
       "  </thead>\n",
       "  <tbody>\n",
       "    <tr>\n",
       "      <th>US-France</th>\n",
       "      <td>50.0</td>\n",
       "      <td>50.000000</td>\n",
       "      <td>50.0</td>\n",
       "      <td>NaN</td>\n",
       "    </tr>\n",
       "    <tr>\n",
       "      <th>England</th>\n",
       "      <td>38.0</td>\n",
       "      <td>47.500000</td>\n",
       "      <td>75.0</td>\n",
       "      <td>11.964232</td>\n",
       "    </tr>\n",
       "    <tr>\n",
       "      <th>France</th>\n",
       "      <td>5.0</td>\n",
       "      <td>45.619885</td>\n",
       "      <td>2300.0</td>\n",
       "      <td>69.697060</td>\n",
       "    </tr>\n",
       "    <tr>\n",
       "      <th>Hungary</th>\n",
       "      <td>7.0</td>\n",
       "      <td>44.204348</td>\n",
       "      <td>764.0</td>\n",
       "      <td>66.264502</td>\n",
       "    </tr>\n",
       "    <tr>\n",
       "      <th>Luxembourg</th>\n",
       "      <td>36.0</td>\n",
       "      <td>40.666667</td>\n",
       "      <td>50.0</td>\n",
       "      <td>7.000000</td>\n",
       "    </tr>\n",
       "  </tbody>\n",
       "</table>\n",
       "</div>"
      ],
      "text/plain": [
       "            price_min  price_mean  price_max  price_std\n",
       "country                                                \n",
       "US-France        50.0   50.000000       50.0        NaN\n",
       "England          38.0   47.500000       75.0  11.964232\n",
       "France            5.0   45.619885     2300.0  69.697060\n",
       "Hungary           7.0   44.204348      764.0  66.264502\n",
       "Luxembourg       36.0   40.666667       50.0   7.000000"
      ]
     },
     "execution_count": 33,
     "metadata": {},
     "output_type": "execute_result"
    }
   ],
   "source": [
    "# Using ravel, and a string join, we can create better names for the columns:\n",
    "price_table.columns = [\"_\".join(x) for x in price_table.columns.ravel()]\n",
    "price_table.sort_values(by='price_mean', ascending=False).head()"
   ]
  },
  {
   "cell_type": "markdown",
   "metadata": {},
   "source": [
    "## Selecting the max and min values with Index Max and Min\n",
    "In addition to `.max()` and `.min()`, which returns the maximum or minimum values, we can use `.idxmax()` and `.idxmin()` to return the *index* pertaining to the maximum and minimum values. \n",
    "\n",
    "For example, let's use `.idxmax()` to find the country with the highest standard deviation in its prices."
   ]
  },
  {
   "cell_type": "code",
   "execution_count": 34,
   "metadata": {},
   "outputs": [
    {
     "data": {
      "text/plain": [
       "'France'"
      ]
     },
     "execution_count": 34,
     "metadata": {},
     "output_type": "execute_result"
    }
   ],
   "source": [
    "price_table.loc[:, 'price_std'].idxmax()"
   ]
  },
  {
   "cell_type": "markdown",
   "metadata": {},
   "source": [
    "# Dealing with datetime in Pandas\n",
    "\n",
    "Much of the data we work with in the Energy sector has a time component.\n",
    "\n",
    "\n",
    "Pandas built off the datetime package in Python to offer a datetime index, and plenty of ways to work with this.\n",
    "However, it is still far from intuitive. \n",
    "That doesn't mean it's not useful, and for anyone doing a timeseries project, you'll need to deal with dates and times in pandas often.\n",
    "\n",
    "Let's load a sample dataset of datetime energy data and get started!"
   ]
  },
  {
   "cell_type": "code",
   "execution_count": 35,
   "metadata": {},
   "outputs": [],
   "source": [
    "energy = pd.read_csv('data/energy/PJM_Load_hourly.csv', \n",
    "                     parse_dates=True, index_col=0)"
   ]
  },
  {
   "cell_type": "markdown",
   "metadata": {},
   "source": [
    "Note that this data has a DateTimeIndex. \n",
    "setting `parse_dates=True` when we read the CSV lets pandas infer this datetimeindex."
   ]
  },
  {
   "cell_type": "code",
   "execution_count": 36,
   "metadata": {},
   "outputs": [
    {
     "data": {
      "text/plain": [
       "DatetimeIndex(['1998-12-31 01:00:00', '1998-12-31 02:00:00',\n",
       "               '1998-12-31 03:00:00', '1998-12-31 04:00:00',\n",
       "               '1998-12-31 05:00:00', '1998-12-31 06:00:00',\n",
       "               '1998-12-31 07:00:00', '1998-12-31 08:00:00',\n",
       "               '1998-12-31 09:00:00', '1998-12-31 10:00:00',\n",
       "               ...\n",
       "               '2001-01-01 15:00:00', '2001-01-01 16:00:00',\n",
       "               '2001-01-01 17:00:00', '2001-01-01 18:00:00',\n",
       "               '2001-01-01 19:00:00', '2001-01-01 20:00:00',\n",
       "               '2001-01-01 21:00:00', '2001-01-01 22:00:00',\n",
       "               '2001-01-01 23:00:00', '2001-01-02 00:00:00'],\n",
       "              dtype='datetime64[ns]', name='Datetime', length=32896, freq=None)"
      ]
     },
     "execution_count": 36,
     "metadata": {},
     "output_type": "execute_result"
    }
   ],
   "source": [
    "energy.index"
   ]
  },
  {
   "cell_type": "markdown",
   "metadata": {},
   "source": [
    "We can select data points within a specific time range, using the DateTimeIndex and .loc.\n",
    "Here, we select the first one day of data."
   ]
  },
  {
   "cell_type": "code",
   "execution_count": 37,
   "metadata": {},
   "outputs": [
    {
     "data": {
      "text/html": [
       "<div>\n",
       "<style scoped>\n",
       "    .dataframe tbody tr th:only-of-type {\n",
       "        vertical-align: middle;\n",
       "    }\n",
       "\n",
       "    .dataframe tbody tr th {\n",
       "        vertical-align: top;\n",
       "    }\n",
       "\n",
       "    .dataframe thead th {\n",
       "        text-align: right;\n",
       "    }\n",
       "</style>\n",
       "<table border=\"1\" class=\"dataframe\">\n",
       "  <thead>\n",
       "    <tr style=\"text-align: right;\">\n",
       "      <th></th>\n",
       "      <th>PJM_Load_MW</th>\n",
       "    </tr>\n",
       "    <tr>\n",
       "      <th>Datetime</th>\n",
       "      <th></th>\n",
       "    </tr>\n",
       "  </thead>\n",
       "  <tbody>\n",
       "    <tr>\n",
       "      <th>1998-12-31 01:00:00</th>\n",
       "      <td>29309.0</td>\n",
       "    </tr>\n",
       "    <tr>\n",
       "      <th>1998-12-31 02:00:00</th>\n",
       "      <td>28236.0</td>\n",
       "    </tr>\n",
       "    <tr>\n",
       "      <th>1998-12-31 03:00:00</th>\n",
       "      <td>27692.0</td>\n",
       "    </tr>\n",
       "    <tr>\n",
       "      <th>1998-12-31 04:00:00</th>\n",
       "      <td>27596.0</td>\n",
       "    </tr>\n",
       "    <tr>\n",
       "      <th>1998-12-31 05:00:00</th>\n",
       "      <td>27888.0</td>\n",
       "    </tr>\n",
       "    <tr>\n",
       "      <th>1998-12-31 06:00:00</th>\n",
       "      <td>29382.0</td>\n",
       "    </tr>\n",
       "    <tr>\n",
       "      <th>1998-12-31 07:00:00</th>\n",
       "      <td>31373.0</td>\n",
       "    </tr>\n",
       "    <tr>\n",
       "      <th>1998-12-31 08:00:00</th>\n",
       "      <td>33272.0</td>\n",
       "    </tr>\n",
       "    <tr>\n",
       "      <th>1998-12-31 09:00:00</th>\n",
       "      <td>34133.0</td>\n",
       "    </tr>\n",
       "    <tr>\n",
       "      <th>1998-12-31 10:00:00</th>\n",
       "      <td>35232.0</td>\n",
       "    </tr>\n",
       "    <tr>\n",
       "      <th>1998-12-31 11:00:00</th>\n",
       "      <td>35401.0</td>\n",
       "    </tr>\n",
       "    <tr>\n",
       "      <th>1998-12-31 12:00:00</th>\n",
       "      <td>35331.0</td>\n",
       "    </tr>\n",
       "    <tr>\n",
       "      <th>1998-12-31 13:00:00</th>\n",
       "      <td>34582.0</td>\n",
       "    </tr>\n",
       "    <tr>\n",
       "      <th>1998-12-31 14:00:00</th>\n",
       "      <td>33767.0</td>\n",
       "    </tr>\n",
       "    <tr>\n",
       "      <th>1998-12-31 15:00:00</th>\n",
       "      <td>33026.0</td>\n",
       "    </tr>\n",
       "    <tr>\n",
       "      <th>1998-12-31 16:00:00</th>\n",
       "      <td>32620.0</td>\n",
       "    </tr>\n",
       "    <tr>\n",
       "      <th>1998-12-31 17:00:00</th>\n",
       "      <td>33741.0</td>\n",
       "    </tr>\n",
       "    <tr>\n",
       "      <th>1998-12-31 18:00:00</th>\n",
       "      <td>36510.0</td>\n",
       "    </tr>\n",
       "    <tr>\n",
       "      <th>1998-12-31 19:00:00</th>\n",
       "      <td>36783.0</td>\n",
       "    </tr>\n",
       "    <tr>\n",
       "      <th>1998-12-31 20:00:00</th>\n",
       "      <td>35482.0</td>\n",
       "    </tr>\n",
       "    <tr>\n",
       "      <th>1998-12-31 21:00:00</th>\n",
       "      <td>34305.0</td>\n",
       "    </tr>\n",
       "    <tr>\n",
       "      <th>1998-12-31 22:00:00</th>\n",
       "      <td>33277.0</td>\n",
       "    </tr>\n",
       "    <tr>\n",
       "      <th>1998-12-31 23:00:00</th>\n",
       "      <td>32068.0</td>\n",
       "    </tr>\n",
       "    <tr>\n",
       "      <th>1999-01-01 00:00:00</th>\n",
       "      <td>30824.0</td>\n",
       "    </tr>\n",
       "  </tbody>\n",
       "</table>\n",
       "</div>"
      ],
      "text/plain": [
       "                     PJM_Load_MW\n",
       "Datetime                        \n",
       "1998-12-31 01:00:00      29309.0\n",
       "1998-12-31 02:00:00      28236.0\n",
       "1998-12-31 03:00:00      27692.0\n",
       "1998-12-31 04:00:00      27596.0\n",
       "1998-12-31 05:00:00      27888.0\n",
       "1998-12-31 06:00:00      29382.0\n",
       "1998-12-31 07:00:00      31373.0\n",
       "1998-12-31 08:00:00      33272.0\n",
       "1998-12-31 09:00:00      34133.0\n",
       "1998-12-31 10:00:00      35232.0\n",
       "1998-12-31 11:00:00      35401.0\n",
       "1998-12-31 12:00:00      35331.0\n",
       "1998-12-31 13:00:00      34582.0\n",
       "1998-12-31 14:00:00      33767.0\n",
       "1998-12-31 15:00:00      33026.0\n",
       "1998-12-31 16:00:00      32620.0\n",
       "1998-12-31 17:00:00      33741.0\n",
       "1998-12-31 18:00:00      36510.0\n",
       "1998-12-31 19:00:00      36783.0\n",
       "1998-12-31 20:00:00      35482.0\n",
       "1998-12-31 21:00:00      34305.0\n",
       "1998-12-31 22:00:00      33277.0\n",
       "1998-12-31 23:00:00      32068.0\n",
       "1999-01-01 00:00:00      30824.0"
      ]
     },
     "execution_count": 37,
     "metadata": {},
     "output_type": "execute_result"
    }
   ],
   "source": [
    "energy.loc['1998-12-31 01:00:00':'1999-01-01 00:00:00']"
   ]
  },
  {
   "cell_type": "code",
   "execution_count": 38,
   "metadata": {},
   "outputs": [
    {
     "data": {
      "text/plain": [
       "24"
      ]
     },
     "execution_count": 38,
     "metadata": {},
     "output_type": "execute_result"
    }
   ],
   "source": [
    "# One record for each hour of this day.\n",
    "energy.loc['1998-12-31 01:00:00':'1999-01-01 00:00:00', :].shape[0]"
   ]
  },
  {
   "cell_type": "markdown",
   "metadata": {},
   "source": [
    "## Selecting with boolean indexing on pandas datetimeindex\n",
    "We can use .dot notation with conditionals to select on specific parts of the datetime, like days or months."
   ]
  },
  {
   "cell_type": "markdown",
   "metadata": {},
   "source": [
    "Python datetime functionality example:\n",
    "\n",
    "These functions, `.strptime()` and `.strftime()`, allow us to move back and forth between strings and datetime formats, allowing us to print out the datetime values how we want while still preserving the underlying data."
   ]
  },
  {
   "cell_type": "code",
   "execution_count": 39,
   "metadata": {},
   "outputs": [
    {
     "name": "stdout",
     "output_type": "stream",
     "text": [
      "2017-03-08\n"
     ]
    }
   ],
   "source": [
    "from datetime import datetime\n",
    "\n",
    "# string listing a date \n",
    "s = \"8 March, 2017\"\n",
    "\n",
    "# using the .strptime() method to extract the day, month and year and save it as a datetime object\n",
    "d = datetime.strptime(s, '%d %B, %Y')\n",
    "\n",
    "# using the .strftime() to format our datetime object in a different string and return it\n",
    "print(d.strftime('%Y-%m-%d'))"
   ]
  },
  {
   "cell_type": "markdown",
   "metadata": {},
   "source": [
    "Here, we look at how the datetime has been saved.\n",
    "\n",
    "Note the 2 0s at the end, where hour and minute would be saved if we had information for those. "
   ]
  },
  {
   "cell_type": "code",
   "execution_count": 40,
   "metadata": {},
   "outputs": [
    {
     "data": {
      "text/plain": [
       "datetime.datetime(2017, 3, 8, 0, 0)"
      ]
     },
     "execution_count": 40,
     "metadata": {},
     "output_type": "execute_result"
    }
   ],
   "source": [
    "d"
   ]
  },
  {
   "cell_type": "code",
   "execution_count": 41,
   "metadata": {
    "scrolled": true
   },
   "outputs": [],
   "source": [
    "# making a new DF that only includes the month of septmeber from each year.\n",
    "septembers = energy[energy.index.month == 9]"
   ]
  },
  {
   "cell_type": "markdown",
   "metadata": {},
   "source": [
    "We can also call just a date, and get all the hours/time periods in that day:"
   ]
  },
  {
   "cell_type": "code",
   "execution_count": 42,
   "metadata": {
    "scrolled": true
   },
   "outputs": [
    {
     "data": {
      "text/html": [
       "<div>\n",
       "<style scoped>\n",
       "    .dataframe tbody tr th:only-of-type {\n",
       "        vertical-align: middle;\n",
       "    }\n",
       "\n",
       "    .dataframe tbody tr th {\n",
       "        vertical-align: top;\n",
       "    }\n",
       "\n",
       "    .dataframe thead th {\n",
       "        text-align: right;\n",
       "    }\n",
       "</style>\n",
       "<table border=\"1\" class=\"dataframe\">\n",
       "  <thead>\n",
       "    <tr style=\"text-align: right;\">\n",
       "      <th></th>\n",
       "      <th>PJM_Load_MW</th>\n",
       "    </tr>\n",
       "    <tr>\n",
       "      <th>Datetime</th>\n",
       "      <th></th>\n",
       "    </tr>\n",
       "  </thead>\n",
       "  <tbody>\n",
       "    <tr>\n",
       "      <th>2000-01-03 01:00:00</th>\n",
       "      <td>21557.0</td>\n",
       "    </tr>\n",
       "    <tr>\n",
       "      <th>2000-01-03 02:00:00</th>\n",
       "      <td>20464.0</td>\n",
       "    </tr>\n",
       "    <tr>\n",
       "      <th>2000-01-03 03:00:00</th>\n",
       "      <td>20057.0</td>\n",
       "    </tr>\n",
       "    <tr>\n",
       "      <th>2000-01-03 04:00:00</th>\n",
       "      <td>19988.0</td>\n",
       "    </tr>\n",
       "    <tr>\n",
       "      <th>2000-01-03 05:00:00</th>\n",
       "      <td>20463.0</td>\n",
       "    </tr>\n",
       "    <tr>\n",
       "      <th>2000-01-03 06:00:00</th>\n",
       "      <td>22228.0</td>\n",
       "    </tr>\n",
       "    <tr>\n",
       "      <th>2000-01-03 07:00:00</th>\n",
       "      <td>25780.0</td>\n",
       "    </tr>\n",
       "    <tr>\n",
       "      <th>2000-01-03 08:00:00</th>\n",
       "      <td>28369.0</td>\n",
       "    </tr>\n",
       "    <tr>\n",
       "      <th>2000-01-03 09:00:00</th>\n",
       "      <td>29126.0</td>\n",
       "    </tr>\n",
       "    <tr>\n",
       "      <th>2000-01-03 10:00:00</th>\n",
       "      <td>29616.0</td>\n",
       "    </tr>\n",
       "    <tr>\n",
       "      <th>2000-01-03 11:00:00</th>\n",
       "      <td>30081.0</td>\n",
       "    </tr>\n",
       "    <tr>\n",
       "      <th>2000-01-03 12:00:00</th>\n",
       "      <td>30253.0</td>\n",
       "    </tr>\n",
       "    <tr>\n",
       "      <th>2000-01-03 13:00:00</th>\n",
       "      <td>29802.0</td>\n",
       "    </tr>\n",
       "    <tr>\n",
       "      <th>2000-01-03 14:00:00</th>\n",
       "      <td>29687.0</td>\n",
       "    </tr>\n",
       "    <tr>\n",
       "      <th>2000-01-03 15:00:00</th>\n",
       "      <td>29240.0</td>\n",
       "    </tr>\n",
       "    <tr>\n",
       "      <th>2000-01-03 16:00:00</th>\n",
       "      <td>29199.0</td>\n",
       "    </tr>\n",
       "    <tr>\n",
       "      <th>2000-01-03 17:00:00</th>\n",
       "      <td>30226.0</td>\n",
       "    </tr>\n",
       "    <tr>\n",
       "      <th>2000-01-03 18:00:00</th>\n",
       "      <td>33006.0</td>\n",
       "    </tr>\n",
       "    <tr>\n",
       "      <th>2000-01-03 19:00:00</th>\n",
       "      <td>33244.0</td>\n",
       "    </tr>\n",
       "    <tr>\n",
       "      <th>2000-01-03 20:00:00</th>\n",
       "      <td>32565.0</td>\n",
       "    </tr>\n",
       "    <tr>\n",
       "      <th>2000-01-03 21:00:00</th>\n",
       "      <td>31719.0</td>\n",
       "    </tr>\n",
       "    <tr>\n",
       "      <th>2000-01-03 22:00:00</th>\n",
       "      <td>29811.0</td>\n",
       "    </tr>\n",
       "    <tr>\n",
       "      <th>2000-01-03 23:00:00</th>\n",
       "      <td>27010.0</td>\n",
       "    </tr>\n",
       "    <tr>\n",
       "      <th>2000-01-03 00:00:00</th>\n",
       "      <td>22920.0</td>\n",
       "    </tr>\n",
       "  </tbody>\n",
       "</table>\n",
       "</div>"
      ],
      "text/plain": [
       "                     PJM_Load_MW\n",
       "Datetime                        \n",
       "2000-01-03 01:00:00      21557.0\n",
       "2000-01-03 02:00:00      20464.0\n",
       "2000-01-03 03:00:00      20057.0\n",
       "2000-01-03 04:00:00      19988.0\n",
       "2000-01-03 05:00:00      20463.0\n",
       "2000-01-03 06:00:00      22228.0\n",
       "2000-01-03 07:00:00      25780.0\n",
       "2000-01-03 08:00:00      28369.0\n",
       "2000-01-03 09:00:00      29126.0\n",
       "2000-01-03 10:00:00      29616.0\n",
       "2000-01-03 11:00:00      30081.0\n",
       "2000-01-03 12:00:00      30253.0\n",
       "2000-01-03 13:00:00      29802.0\n",
       "2000-01-03 14:00:00      29687.0\n",
       "2000-01-03 15:00:00      29240.0\n",
       "2000-01-03 16:00:00      29199.0\n",
       "2000-01-03 17:00:00      30226.0\n",
       "2000-01-03 18:00:00      33006.0\n",
       "2000-01-03 19:00:00      33244.0\n",
       "2000-01-03 20:00:00      32565.0\n",
       "2000-01-03 21:00:00      31719.0\n",
       "2000-01-03 22:00:00      29811.0\n",
       "2000-01-03 23:00:00      27010.0\n",
       "2000-01-03 00:00:00      22920.0"
      ]
     },
     "execution_count": 42,
     "metadata": {},
     "output_type": "execute_result"
    }
   ],
   "source": [
    "energy.loc['2000-01-03']"
   ]
  },
  {
   "cell_type": "markdown",
   "metadata": {},
   "source": [
    "Same with for a year and month:"
   ]
  },
  {
   "cell_type": "code",
   "execution_count": 43,
   "metadata": {},
   "outputs": [
    {
     "data": {
      "text/plain": [
       "(744, 1)"
      ]
     },
     "execution_count": 43,
     "metadata": {},
     "output_type": "execute_result"
    }
   ],
   "source": [
    "energy.loc['2000-01'].shape"
   ]
  },
  {
   "cell_type": "code",
   "execution_count": 44,
   "metadata": {},
   "outputs": [
    {
     "data": {
      "text/plain": [
       "744"
      ]
     },
     "execution_count": 44,
     "metadata": {},
     "output_type": "execute_result"
    }
   ],
   "source": [
    "# We see that it includes one record for each our of each day of the month of January, which has 31 days\n",
    "31*24"
   ]
  },
  {
   "cell_type": "code",
   "execution_count": 45,
   "metadata": {},
   "outputs": [],
   "source": [
    "# or better, with an assert statement:\n",
    "month_jan = energy['2000-01']\n",
    "assert month_jan.shape[0] == 31*24"
   ]
  },
  {
   "cell_type": "markdown",
   "metadata": {},
   "source": [
    "## Resampling\n",
    "We can also combine the data in different ways, and over different time periods.\n",
    "This means that just because our data is in hourly time periods, we dont have to keep it that way. \n",
    "\n",
    "Resampling is a powerful way to change the granularity of our timeseries data.\n",
    "\n",
    "Think of it as a groupby function for datetime. **This means we still need an aggreator!**\n",
    "\n",
    "However, consider that with with groupby, we are generally only going to a higher level of abstraction-- we are literally grouping multiple rows together. With resample, it's possiblt that we go the other way and actually *add* rows, moving to a higher granularity, rather than lower, aggregated granularity. An example of this might be up-sampling from 1-minute granularity to 30-second granularity. Now, we have one new row every minute. We have to use different methods to fill in these new rows. These include methods like `.bfill()`, which in this case would fill the new row made at 1:30 with the original value from 2:00, or `.ffill()`, which would fill in the new row made at 1:30 with the original value from 1:00. Which one to use will depend on your specific project. "
   ]
  },
  {
   "cell_type": "code",
   "execution_count": 46,
   "metadata": {
    "scrolled": true
   },
   "outputs": [
    {
     "data": {
      "text/html": [
       "<div>\n",
       "<style scoped>\n",
       "    .dataframe tbody tr th:only-of-type {\n",
       "        vertical-align: middle;\n",
       "    }\n",
       "\n",
       "    .dataframe tbody tr th {\n",
       "        vertical-align: top;\n",
       "    }\n",
       "\n",
       "    .dataframe thead th {\n",
       "        text-align: right;\n",
       "    }\n",
       "</style>\n",
       "<table border=\"1\" class=\"dataframe\">\n",
       "  <thead>\n",
       "    <tr style=\"text-align: right;\">\n",
       "      <th></th>\n",
       "      <th>PJM_Load_MW</th>\n",
       "    </tr>\n",
       "    <tr>\n",
       "      <th>Datetime</th>\n",
       "      <th></th>\n",
       "    </tr>\n",
       "  </thead>\n",
       "  <tbody>\n",
       "    <tr>\n",
       "      <th>1998-04-01</th>\n",
       "      <td>27813.739130</td>\n",
       "    </tr>\n",
       "    <tr>\n",
       "      <th>1998-04-02</th>\n",
       "      <td>26605.791667</td>\n",
       "    </tr>\n",
       "    <tr>\n",
       "      <th>1998-04-03</th>\n",
       "      <td>25672.333333</td>\n",
       "    </tr>\n",
       "    <tr>\n",
       "      <th>1998-04-04</th>\n",
       "      <td>24487.083333</td>\n",
       "    </tr>\n",
       "    <tr>\n",
       "      <th>1998-04-05</th>\n",
       "      <td>23487.565217</td>\n",
       "    </tr>\n",
       "  </tbody>\n",
       "</table>\n",
       "</div>"
      ],
      "text/plain": [
       "             PJM_Load_MW\n",
       "Datetime                \n",
       "1998-04-01  27813.739130\n",
       "1998-04-02  26605.791667\n",
       "1998-04-03  25672.333333\n",
       "1998-04-04  24487.083333\n",
       "1998-04-05  23487.565217"
      ]
     },
     "execution_count": 46,
     "metadata": {},
     "output_type": "execute_result"
    }
   ],
   "source": [
    "# We can get the average load over a day:\n",
    "daily_avg_energy = energy.resample('D').mean()\n",
    "daily_avg_energy.head()"
   ]
  },
  {
   "cell_type": "markdown",
   "metadata": {},
   "source": [
    "Be careful when moving to different levels of granularity and with which aggregation method you use. Ask yourself: What data am I showing now? Did the data change fundamentally? How can I indicate this to future users of the data and future readers of my code? \n",
    "\n",
    "The example below shows an example of this. When we use 'Sum' as an aggregator over any timeframe when we're talking about energy, we more from MW of enery flow to MWh of used energy. We have to make sure we update our data to relfect this. We would also have to take more care with this shift to MWh if our data wasn't originally in hourly granularity."
   ]
  },
  {
   "cell_type": "code",
   "execution_count": 47,
   "metadata": {},
   "outputs": [
    {
     "data": {
      "text/html": [
       "<div>\n",
       "<style scoped>\n",
       "    .dataframe tbody tr th:only-of-type {\n",
       "        vertical-align: middle;\n",
       "    }\n",
       "\n",
       "    .dataframe tbody tr th {\n",
       "        vertical-align: top;\n",
       "    }\n",
       "\n",
       "    .dataframe thead th {\n",
       "        text-align: right;\n",
       "    }\n",
       "</style>\n",
       "<table border=\"1\" class=\"dataframe\">\n",
       "  <thead>\n",
       "    <tr style=\"text-align: right;\">\n",
       "      <th></th>\n",
       "      <th>PJM_Load_MWh</th>\n",
       "    </tr>\n",
       "    <tr>\n",
       "      <th>Datetime</th>\n",
       "      <th></th>\n",
       "    </tr>\n",
       "  </thead>\n",
       "  <tbody>\n",
       "    <tr>\n",
       "      <th>1998-04-01</th>\n",
       "      <td>639716.0</td>\n",
       "    </tr>\n",
       "    <tr>\n",
       "      <th>1998-04-02</th>\n",
       "      <td>638539.0</td>\n",
       "    </tr>\n",
       "    <tr>\n",
       "      <th>1998-04-03</th>\n",
       "      <td>616136.0</td>\n",
       "    </tr>\n",
       "    <tr>\n",
       "      <th>1998-04-04</th>\n",
       "      <td>587690.0</td>\n",
       "    </tr>\n",
       "    <tr>\n",
       "      <th>1998-04-05</th>\n",
       "      <td>540214.0</td>\n",
       "    </tr>\n",
       "  </tbody>\n",
       "</table>\n",
       "</div>"
      ],
      "text/plain": [
       "            PJM_Load_MWh\n",
       "Datetime                \n",
       "1998-04-01      639716.0\n",
       "1998-04-02      638539.0\n",
       "1998-04-03      616136.0\n",
       "1998-04-04      587690.0\n",
       "1998-04-05      540214.0"
      ]
     },
     "execution_count": 47,
     "metadata": {},
     "output_type": "execute_result"
    }
   ],
   "source": [
    "# We can also get the total MWh used in a day:\n",
    "daily_energy = energy.resample('D').sum()\n",
    "daily_energy.columns = [\"PJM_Load_MWh\"]\n",
    "daily_energy.head()"
   ]
  },
  {
   "cell_type": "markdown",
   "metadata": {},
   "source": [
    "## Groupby with DateTimeIndex\n",
    "Using groupby with a pandas DateTimeIndex can be extremely useful and powerful.\n",
    "Let's look at how this can work."
   ]
  },
  {
   "cell_type": "code",
   "execution_count": 48,
   "metadata": {},
   "outputs": [],
   "source": [
    "indexes = [energy.index.year,\n",
    "           energy.index.month,\n",
    "           energy.index.week,\n",
    "           energy.index.weekday,\n",
    "           energy.index.day]\n",
    "\n",
    "aggregated = energy.groupby(indexes).sum()"
   ]
  },
  {
   "cell_type": "code",
   "execution_count": 49,
   "metadata": {},
   "outputs": [
    {
     "data": {
      "text/html": [
       "<div>\n",
       "<style scoped>\n",
       "    .dataframe tbody tr th:only-of-type {\n",
       "        vertical-align: middle;\n",
       "    }\n",
       "\n",
       "    .dataframe tbody tr th {\n",
       "        vertical-align: top;\n",
       "    }\n",
       "\n",
       "    .dataframe thead th {\n",
       "        text-align: right;\n",
       "    }\n",
       "</style>\n",
       "<table border=\"1\" class=\"dataframe\">\n",
       "  <thead>\n",
       "    <tr style=\"text-align: right;\">\n",
       "      <th></th>\n",
       "      <th></th>\n",
       "      <th></th>\n",
       "      <th></th>\n",
       "      <th></th>\n",
       "      <th>PJM_Load_MW</th>\n",
       "    </tr>\n",
       "    <tr>\n",
       "      <th>Datetime</th>\n",
       "      <th>Datetime</th>\n",
       "      <th>Datetime</th>\n",
       "      <th>Datetime</th>\n",
       "      <th>Datetime</th>\n",
       "      <th></th>\n",
       "    </tr>\n",
       "  </thead>\n",
       "  <tbody>\n",
       "    <tr>\n",
       "      <th rowspan=\"5\" valign=\"top\">1998</th>\n",
       "      <th rowspan=\"5\" valign=\"top\">4</th>\n",
       "      <th rowspan=\"5\" valign=\"top\">14</th>\n",
       "      <th>2</th>\n",
       "      <th>1</th>\n",
       "      <td>639716.0</td>\n",
       "    </tr>\n",
       "    <tr>\n",
       "      <th>3</th>\n",
       "      <th>2</th>\n",
       "      <td>638539.0</td>\n",
       "    </tr>\n",
       "    <tr>\n",
       "      <th>4</th>\n",
       "      <th>3</th>\n",
       "      <td>616136.0</td>\n",
       "    </tr>\n",
       "    <tr>\n",
       "      <th>5</th>\n",
       "      <th>4</th>\n",
       "      <td>587690.0</td>\n",
       "    </tr>\n",
       "    <tr>\n",
       "      <th>6</th>\n",
       "      <th>5</th>\n",
       "      <td>540214.0</td>\n",
       "    </tr>\n",
       "  </tbody>\n",
       "</table>\n",
       "</div>"
      ],
      "text/plain": [
       "                                              PJM_Load_MW\n",
       "Datetime Datetime Datetime Datetime Datetime             \n",
       "1998     4        14       2        1            639716.0\n",
       "                           3        2            638539.0\n",
       "                           4        3            616136.0\n",
       "                           5        4            587690.0\n",
       "                           6        5            540214.0"
      ]
     },
     "execution_count": 49,
     "metadata": {},
     "output_type": "execute_result"
    }
   ],
   "source": [
    "aggregated.head()"
   ]
  },
  {
   "cell_type": "markdown",
   "metadata": {},
   "source": [
    "The index level names are not particularly helpful here. We can change them."
   ]
  },
  {
   "cell_type": "code",
   "execution_count": 50,
   "metadata": {},
   "outputs": [],
   "source": [
    "# the long, ugly way\n",
    "aggregated.index.set_names('year', level=0, inplace=True)\n",
    "aggregated.index.set_names('month', level=1, inplace=True)\n",
    "aggregated.index.set_names('week', level=2, inplace=True)\n",
    "aggregated.index.set_names('weekday', level=3, inplace=True)\n",
    "aggregated.index.set_names('day', level=4, inplace=True)"
   ]
  },
  {
   "cell_type": "code",
   "execution_count": 51,
   "metadata": {},
   "outputs": [],
   "source": [
    "# the short, clean way. Both do the same thing.\n",
    "index_level_names = ['year', 'month', 'week', 'weekday', 'day']\n",
    "for i, index_level in enumerate(index_level_names):\n",
    "            aggregated.index.set_names(index_level, level=i, inplace=True)"
   ]
  },
  {
   "cell_type": "code",
   "execution_count": 52,
   "metadata": {
    "scrolled": true
   },
   "outputs": [
    {
     "data": {
      "text/html": [
       "<div>\n",
       "<style scoped>\n",
       "    .dataframe tbody tr th:only-of-type {\n",
       "        vertical-align: middle;\n",
       "    }\n",
       "\n",
       "    .dataframe tbody tr th {\n",
       "        vertical-align: top;\n",
       "    }\n",
       "\n",
       "    .dataframe thead th {\n",
       "        text-align: right;\n",
       "    }\n",
       "</style>\n",
       "<table border=\"1\" class=\"dataframe\">\n",
       "  <thead>\n",
       "    <tr style=\"text-align: right;\">\n",
       "      <th></th>\n",
       "      <th></th>\n",
       "      <th></th>\n",
       "      <th></th>\n",
       "      <th></th>\n",
       "      <th>PJM_Load_MW</th>\n",
       "    </tr>\n",
       "    <tr>\n",
       "      <th>year</th>\n",
       "      <th>month</th>\n",
       "      <th>week</th>\n",
       "      <th>weekday</th>\n",
       "      <th>day</th>\n",
       "      <th></th>\n",
       "    </tr>\n",
       "  </thead>\n",
       "  <tbody>\n",
       "    <tr>\n",
       "      <th rowspan=\"50\" valign=\"top\">1998</th>\n",
       "      <th rowspan=\"30\" valign=\"top\">4</th>\n",
       "      <th rowspan=\"5\" valign=\"top\">14</th>\n",
       "      <th>2</th>\n",
       "      <th>1</th>\n",
       "      <td>639716.0</td>\n",
       "    </tr>\n",
       "    <tr>\n",
       "      <th>3</th>\n",
       "      <th>2</th>\n",
       "      <td>638539.0</td>\n",
       "    </tr>\n",
       "    <tr>\n",
       "      <th>4</th>\n",
       "      <th>3</th>\n",
       "      <td>616136.0</td>\n",
       "    </tr>\n",
       "    <tr>\n",
       "      <th>5</th>\n",
       "      <th>4</th>\n",
       "      <td>587690.0</td>\n",
       "    </tr>\n",
       "    <tr>\n",
       "      <th>6</th>\n",
       "      <th>5</th>\n",
       "      <td>540214.0</td>\n",
       "    </tr>\n",
       "    <tr>\n",
       "      <th rowspan=\"7\" valign=\"top\">15</th>\n",
       "      <th>0</th>\n",
       "      <th>6</th>\n",
       "      <td>640312.0</td>\n",
       "    </tr>\n",
       "    <tr>\n",
       "      <th>1</th>\n",
       "      <th>7</th>\n",
       "      <td>643340.0</td>\n",
       "    </tr>\n",
       "    <tr>\n",
       "      <th>2</th>\n",
       "      <th>8</th>\n",
       "      <td>636976.0</td>\n",
       "    </tr>\n",
       "    <tr>\n",
       "      <th>3</th>\n",
       "      <th>9</th>\n",
       "      <td>657606.0</td>\n",
       "    </tr>\n",
       "    <tr>\n",
       "      <th>4</th>\n",
       "      <th>10</th>\n",
       "      <td>601388.0</td>\n",
       "    </tr>\n",
       "    <tr>\n",
       "      <th>5</th>\n",
       "      <th>11</th>\n",
       "      <td>553629.0</td>\n",
       "    </tr>\n",
       "    <tr>\n",
       "      <th>6</th>\n",
       "      <th>12</th>\n",
       "      <td>520249.0</td>\n",
       "    </tr>\n",
       "    <tr>\n",
       "      <th rowspan=\"7\" valign=\"top\">16</th>\n",
       "      <th>0</th>\n",
       "      <th>13</th>\n",
       "      <td>612848.0</td>\n",
       "    </tr>\n",
       "    <tr>\n",
       "      <th>1</th>\n",
       "      <th>14</th>\n",
       "      <td>625467.0</td>\n",
       "    </tr>\n",
       "    <tr>\n",
       "      <th>2</th>\n",
       "      <th>15</th>\n",
       "      <td>628571.0</td>\n",
       "    </tr>\n",
       "    <tr>\n",
       "      <th>3</th>\n",
       "      <th>16</th>\n",
       "      <td>636981.0</td>\n",
       "    </tr>\n",
       "    <tr>\n",
       "      <th>4</th>\n",
       "      <th>17</th>\n",
       "      <td>638903.0</td>\n",
       "    </tr>\n",
       "    <tr>\n",
       "      <th>5</th>\n",
       "      <th>18</th>\n",
       "      <td>546578.0</td>\n",
       "    </tr>\n",
       "    <tr>\n",
       "      <th>6</th>\n",
       "      <th>19</th>\n",
       "      <td>542825.0</td>\n",
       "    </tr>\n",
       "    <tr>\n",
       "      <th rowspan=\"7\" valign=\"top\">17</th>\n",
       "      <th>0</th>\n",
       "      <th>20</th>\n",
       "      <td>629035.0</td>\n",
       "    </tr>\n",
       "    <tr>\n",
       "      <th>1</th>\n",
       "      <th>21</th>\n",
       "      <td>634042.0</td>\n",
       "    </tr>\n",
       "    <tr>\n",
       "      <th>2</th>\n",
       "      <th>22</th>\n",
       "      <td>628072.0</td>\n",
       "    </tr>\n",
       "    <tr>\n",
       "      <th>3</th>\n",
       "      <th>23</th>\n",
       "      <td>630936.0</td>\n",
       "    </tr>\n",
       "    <tr>\n",
       "      <th>4</th>\n",
       "      <th>24</th>\n",
       "      <td>622779.0</td>\n",
       "    </tr>\n",
       "    <tr>\n",
       "      <th>5</th>\n",
       "      <th>25</th>\n",
       "      <td>543137.0</td>\n",
       "    </tr>\n",
       "    <tr>\n",
       "      <th>6</th>\n",
       "      <th>26</th>\n",
       "      <td>535367.0</td>\n",
       "    </tr>\n",
       "    <tr>\n",
       "      <th rowspan=\"4\" valign=\"top\">18</th>\n",
       "      <th>0</th>\n",
       "      <th>27</th>\n",
       "      <td>625078.0</td>\n",
       "    </tr>\n",
       "    <tr>\n",
       "      <th>1</th>\n",
       "      <th>28</th>\n",
       "      <td>634897.0</td>\n",
       "    </tr>\n",
       "    <tr>\n",
       "      <th>2</th>\n",
       "      <th>29</th>\n",
       "      <td>635276.0</td>\n",
       "    </tr>\n",
       "    <tr>\n",
       "      <th>3</th>\n",
       "      <th>30</th>\n",
       "      <td>631615.0</td>\n",
       "    </tr>\n",
       "    <tr>\n",
       "      <th rowspan=\"20\" valign=\"top\">5</th>\n",
       "      <th rowspan=\"3\" valign=\"top\">18</th>\n",
       "      <th>4</th>\n",
       "      <th>1</th>\n",
       "      <td>626116.0</td>\n",
       "    </tr>\n",
       "    <tr>\n",
       "      <th>5</th>\n",
       "      <th>2</th>\n",
       "      <td>552509.0</td>\n",
       "    </tr>\n",
       "    <tr>\n",
       "      <th>6</th>\n",
       "      <th>3</th>\n",
       "      <td>527252.0</td>\n",
       "    </tr>\n",
       "    <tr>\n",
       "      <th rowspan=\"7\" valign=\"top\">19</th>\n",
       "      <th>0</th>\n",
       "      <th>4</th>\n",
       "      <td>630177.0</td>\n",
       "    </tr>\n",
       "    <tr>\n",
       "      <th>1</th>\n",
       "      <th>5</th>\n",
       "      <td>637869.0</td>\n",
       "    </tr>\n",
       "    <tr>\n",
       "      <th>2</th>\n",
       "      <th>6</th>\n",
       "      <td>639398.0</td>\n",
       "    </tr>\n",
       "    <tr>\n",
       "      <th>3</th>\n",
       "      <th>7</th>\n",
       "      <td>643069.0</td>\n",
       "    </tr>\n",
       "    <tr>\n",
       "      <th>4</th>\n",
       "      <th>8</th>\n",
       "      <td>635570.0</td>\n",
       "    </tr>\n",
       "    <tr>\n",
       "      <th>5</th>\n",
       "      <th>9</th>\n",
       "      <td>565510.0</td>\n",
       "    </tr>\n",
       "    <tr>\n",
       "      <th>6</th>\n",
       "      <th>10</th>\n",
       "      <td>532267.0</td>\n",
       "    </tr>\n",
       "    <tr>\n",
       "      <th rowspan=\"7\" valign=\"top\">20</th>\n",
       "      <th>0</th>\n",
       "      <th>11</th>\n",
       "      <td>636043.0</td>\n",
       "    </tr>\n",
       "    <tr>\n",
       "      <th>1</th>\n",
       "      <th>12</th>\n",
       "      <td>664713.0</td>\n",
       "    </tr>\n",
       "    <tr>\n",
       "      <th>2</th>\n",
       "      <th>13</th>\n",
       "      <td>653574.0</td>\n",
       "    </tr>\n",
       "    <tr>\n",
       "      <th>3</th>\n",
       "      <th>14</th>\n",
       "      <td>635172.0</td>\n",
       "    </tr>\n",
       "    <tr>\n",
       "      <th>4</th>\n",
       "      <th>15</th>\n",
       "      <td>654626.0</td>\n",
       "    </tr>\n",
       "    <tr>\n",
       "      <th>5</th>\n",
       "      <th>16</th>\n",
       "      <td>626996.0</td>\n",
       "    </tr>\n",
       "    <tr>\n",
       "      <th>6</th>\n",
       "      <th>17</th>\n",
       "      <td>590216.0</td>\n",
       "    </tr>\n",
       "    <tr>\n",
       "      <th rowspan=\"3\" valign=\"top\">21</th>\n",
       "      <th>0</th>\n",
       "      <th>18</th>\n",
       "      <td>692549.0</td>\n",
       "    </tr>\n",
       "    <tr>\n",
       "      <th>1</th>\n",
       "      <th>19</th>\n",
       "      <td>738958.0</td>\n",
       "    </tr>\n",
       "    <tr>\n",
       "      <th>2</th>\n",
       "      <th>20</th>\n",
       "      <td>766119.0</td>\n",
       "    </tr>\n",
       "  </tbody>\n",
       "</table>\n",
       "</div>"
      ],
      "text/plain": [
       "                             PJM_Load_MW\n",
       "year month week weekday day             \n",
       "1998 4     14   2       1       639716.0\n",
       "                3       2       638539.0\n",
       "                4       3       616136.0\n",
       "                5       4       587690.0\n",
       "                6       5       540214.0\n",
       "           15   0       6       640312.0\n",
       "                1       7       643340.0\n",
       "                2       8       636976.0\n",
       "                3       9       657606.0\n",
       "                4       10      601388.0\n",
       "                5       11      553629.0\n",
       "                6       12      520249.0\n",
       "           16   0       13      612848.0\n",
       "                1       14      625467.0\n",
       "                2       15      628571.0\n",
       "                3       16      636981.0\n",
       "                4       17      638903.0\n",
       "                5       18      546578.0\n",
       "                6       19      542825.0\n",
       "           17   0       20      629035.0\n",
       "                1       21      634042.0\n",
       "                2       22      628072.0\n",
       "                3       23      630936.0\n",
       "                4       24      622779.0\n",
       "                5       25      543137.0\n",
       "                6       26      535367.0\n",
       "           18   0       27      625078.0\n",
       "                1       28      634897.0\n",
       "                2       29      635276.0\n",
       "                3       30      631615.0\n",
       "     5     18   4       1       626116.0\n",
       "                5       2       552509.0\n",
       "                6       3       527252.0\n",
       "           19   0       4       630177.0\n",
       "                1       5       637869.0\n",
       "                2       6       639398.0\n",
       "                3       7       643069.0\n",
       "                4       8       635570.0\n",
       "                5       9       565510.0\n",
       "                6       10      532267.0\n",
       "           20   0       11      636043.0\n",
       "                1       12      664713.0\n",
       "                2       13      653574.0\n",
       "                3       14      635172.0\n",
       "                4       15      654626.0\n",
       "                5       16      626996.0\n",
       "                6       17      590216.0\n",
       "           21   0       18      692549.0\n",
       "                1       19      738958.0\n",
       "                2       20      766119.0"
      ]
     },
     "execution_count": 52,
     "metadata": {},
     "output_type": "execute_result"
    }
   ],
   "source": [
    "aggregated.head(50)"
   ]
  },
  {
   "cell_type": "markdown",
   "metadata": {},
   "source": [
    "Now, we can plot by these levels!"
   ]
  },
  {
   "cell_type": "code",
   "execution_count": 53,
   "metadata": {},
   "outputs": [
    {
     "ename": "NameError",
     "evalue": "name 'aggregate' is not defined",
     "output_type": "error",
     "traceback": [
      "\u001b[0;31m---------------------------------------------------------------------------\u001b[0m",
      "\u001b[0;31mNameError\u001b[0m                                 Traceback (most recent call last)",
      "\u001b[0;32m<ipython-input-53-1e42440f55c1>\u001b[0m in \u001b[0;36m<module>\u001b[0;34m\u001b[0m\n\u001b[0;32m----> 1\u001b[0;31m \u001b[0maggregate\u001b[0m\u001b[0;34m\u001b[0m\u001b[0;34m\u001b[0m\u001b[0m\n\u001b[0m",
      "\u001b[0;31mNameError\u001b[0m: name 'aggregate' is not defined"
     ]
    }
   ],
   "source": [
    "aggregate"
   ]
  },
  {
   "cell_type": "code",
   "execution_count": null,
   "metadata": {},
   "outputs": [],
   "source": [
    "energy_last_week_of_year.groupby(level=0).sum().plot(kind='bar')\n",
    "plt.show()"
   ]
  },
  {
   "cell_type": "markdown",
   "metadata": {},
   "source": [
    "## Multi-level aggreations on the same variable: reset index\n",
    "\n",
    "Clearly, these complicated slices can be cumbersome to use. A much simpler way is to take these groupings out of the index and move them into the columns.\n",
    "\n",
    "Then we can select them like any other column, and no longer need to use any complicated slices. "
   ]
  },
  {
   "cell_type": "code",
   "execution_count": null,
   "metadata": {},
   "outputs": [],
   "source": [
    "aggregated.head()"
   ]
  },
  {
   "cell_type": "code",
   "execution_count": null,
   "metadata": {},
   "outputs": [],
   "source": [
    "aggregated.reset_index(inplace=True)"
   ]
  },
  {
   "cell_type": "code",
   "execution_count": null,
   "metadata": {},
   "outputs": [],
   "source": [
    "aggregated.head()"
   ]
  },
  {
   "cell_type": "code",
   "execution_count": null,
   "metadata": {},
   "outputs": [],
   "source": [
    "aggregated_1998 = aggregated[aggregated['year']==1998]\n",
    "aggregated_1998.head()"
   ]
  },
  {
   "cell_type": "markdown",
   "metadata": {},
   "source": [
    "## Exercise:\n",
    "1. Find the week (and its associated year) with the highest total weekly consumption.\n",
    "\n",
    "2. Find the day of the week that averages the highest consumption\n",
    "\n",
    "3. Find the time of day that averages the lowest consumption.\n",
    "    - Has this changed over the years?\n",
    "    \n",
    "\n",
    "4. Is average consumption rising, falling, or staying the same over the years?\n",
    "5. What is the %age difference in consumption on average between April and June?"
   ]
  },
  {
   "cell_type": "markdown",
   "metadata": {},
   "source": [
    "1. Find the week (and its associated year) with the highest total weekly consumption."
   ]
  },
  {
   "cell_type": "code",
   "execution_count": null,
   "metadata": {
    "scrolled": true
   },
   "outputs": [],
   "source": []
  },
  {
   "cell_type": "markdown",
   "metadata": {},
   "source": [
    "2. Find the day of the week that averages the highest consumption"
   ]
  },
  {
   "cell_type": "code",
   "execution_count": null,
   "metadata": {},
   "outputs": [],
   "source": []
  },
  {
   "cell_type": "markdown",
   "metadata": {},
   "source": [
    "3. Find the time of day that averages the lowest consumption.\n",
    "    - Has this changed over the years?"
   ]
  },
  {
   "cell_type": "code",
   "execution_count": null,
   "metadata": {},
   "outputs": [],
   "source": []
  },
  {
   "cell_type": "markdown",
   "metadata": {},
   "source": [
    "4. Is average consumption rising, falling, or staying the same over the years?"
   ]
  },
  {
   "cell_type": "code",
   "execution_count": null,
   "metadata": {},
   "outputs": [],
   "source": []
  },
  {
   "cell_type": "markdown",
   "metadata": {},
   "source": [
    "5. What is the %age difference in consumption on average between April and June?"
   ]
  },
  {
   "cell_type": "code",
   "execution_count": null,
   "metadata": {},
   "outputs": [],
   "source": []
  }
 ],
 "metadata": {
  "kernelspec": {
   "display_name": "Python 3",
   "language": "python",
   "name": "python3"
  },
  "language_info": {
   "codemirror_mode": {
    "name": "ipython",
    "version": 3
   },
   "file_extension": ".py",
   "mimetype": "text/x-python",
   "name": "python",
   "nbconvert_exporter": "python",
   "pygments_lexer": "ipython3",
   "version": "3.7.4"
  }
 },
 "nbformat": 4,
 "nbformat_minor": 4
}
