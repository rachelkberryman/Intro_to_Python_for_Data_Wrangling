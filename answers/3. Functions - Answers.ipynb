{
 "cells": [
  {
   "cell_type": "markdown",
   "metadata": {},
   "source": [
    "## Exercise - Writing your own functions\n",
    "\n",
    "1. Write a function where we can multiply 2 numbers together, and add any number to it.\n",
    "2. Write a function to sum all the numbers in a list.\n",
    "3. Write a function to reverse a string. Sample String : \"1234abcd\"\n",
    "4. Write a function to multiply all the numbers in a list. Sample List : (8, 2, 3, -1, 7)\n",
    "5. Write a function to check whether a number is in a given range.\n",
    "6. Write a function that takes a list and returns a new list with unique elements of the first list. Sample List : [1,2,3,3,3,3,4,5] Unique List : [1, 2, 3, 4, 5]\n"
   ]
  },
  {
   "cell_type": "markdown",
   "metadata": {},
   "source": [
    "1. Write a function where we can multiply 2 numbers together, and add any number to it."
   ]
  },
  {
   "cell_type": "code",
   "execution_count": 6,
   "metadata": {},
   "outputs": [],
   "source": [
    "def multiply_adder(x, y, adder):\n",
    "    \"\"\"\n",
    "    Function to multiply two numbers together (x and y), and add any number to it (adder).\n",
    "    Args:\n",
    "        x (num): First number to multiply\n",
    "        y (num): Second number to multiply\n",
    "        adder (num): Number to add at the end\n",
    "    Returns:\n",
    "        z (num): product of x & y plus adder\n",
    "    \"\"\"\n",
    "    # multiplying x & y together\n",
    "    z = x * y\n",
    "    \n",
    "    # adding adder to the product of x & y (z)\n",
    "    z += adder\n",
    "    \n",
    "    # returning final result\n",
    "    return z"
   ]
  },
  {
   "cell_type": "code",
   "execution_count": 5,
   "metadata": {},
   "outputs": [],
   "source": [
    "x = 5\n",
    "y = 2\n",
    "adder = 1 \n",
    "\n",
    "z = multiply_adder(x, y, adder)\n",
    "\n",
    "# test passes, function works \n",
    "assert z == 11"
   ]
  },
  {
   "cell_type": "markdown",
   "metadata": {},
   "source": [
    "2. Write a function to sum all the numbers in a list."
   ]
  },
  {
   "cell_type": "code",
   "execution_count": 17,
   "metadata": {},
   "outputs": [],
   "source": [
    "# solution 1\n",
    "def list_adder(list_to_add):\n",
    "    \"\"\"\n",
    "    Function to add all the elements of a list together.\n",
    "    Args:\n",
    "        list_to_add (list): List containing numeric elements to be summed together\n",
    "    Returns:\n",
    "        answer (num): Single numeric value representing sum of all items in the list\n",
    "    \"\"\"\n",
    "    for i, item in enumerate(list_to_add):\n",
    "        # initializing first item as a base\n",
    "        if i == 0:\n",
    "            answer = item\n",
    "\n",
    "        # for all items afterwards, adding the current item to the first\n",
    "        else:\n",
    "            answer += item\n",
    "    return answer"
   ]
  },
  {
   "cell_type": "code",
   "execution_count": 16,
   "metadata": {},
   "outputs": [],
   "source": [
    "# solution 2 \n",
    "\n",
    "def list_adder(list_to_add):\n",
    "    answer = 0\n",
    "    for item in list_to_add:\n",
    "        answer += item\n",
    "    return answer"
   ]
  },
  {
   "cell_type": "code",
   "execution_count": 15,
   "metadata": {},
   "outputs": [],
   "source": [
    "list_to_add = [1, 2, 3, 4]\n",
    "answer = list_adder(list_to_add)\n",
    "\n",
    "assert answer == 10"
   ]
  },
  {
   "cell_type": "markdown",
   "metadata": {},
   "source": [
    "3. Write a function to reverse a string. \n",
    "\n",
    "Sample String : \"1234abcd\""
   ]
  },
  {
   "cell_type": "code",
   "execution_count": 19,
   "metadata": {},
   "outputs": [],
   "source": [
    "def reverse_string(sample_string):\n",
    "    \"\"\"\n",
    "    Function that take sa string of characters and returns the same string backwards. \n",
    "    Args: \n",
    "        sample_string (str): String of characters to reverse\n",
    "    Returns:\n",
    "        new_string (str): Same string of characters, reversed.\n",
    "    \"\"\"\n",
    "    # initializing an empty string to fill \n",
    "    new_string = \"\"\n",
    "    \n",
    "    for character in sample_string:\n",
    "        # adding character first, in front of the string, so that the \n",
    "        # later characters go in the front\n",
    "        new_string = character + new_string\n",
    "    return new_string"
   ]
  },
  {
   "cell_type": "code",
   "execution_count": 22,
   "metadata": {},
   "outputs": [],
   "source": [
    "sample_string = \"1234abcd\"\n",
    "new_string = reverse_string(sample_string)\n",
    "\n",
    "assert new_string == 'dcba4321'"
   ]
  },
  {
   "cell_type": "markdown",
   "metadata": {},
   "source": [
    "4. Write a function to multiply all the numbers in a list. \n",
    "\n",
    "Sample List : (8, 2, 3, -1, 7)"
   ]
  },
  {
   "cell_type": "code",
   "execution_count": 24,
   "metadata": {},
   "outputs": [],
   "source": [
    "def list_multiplier(list_to_mutiply):\n",
    "    \"\"\"\n",
    "    Function to multiply all the elements of a list together.\n",
    "    Args:\n",
    "        list_to_multiply (list): List containing numeric elements to be summed together\n",
    "    Returns:\n",
    "        answer (num): Single numeric value representing product of all items in the list\n",
    "    \"\"\"\n",
    "    for i, item in enumerate(list_to_multiply):\n",
    "        # initializing first item as a base\n",
    "        if i == 0:\n",
    "            answer = item\n",
    "\n",
    "        # for all items afterwards, adding the current item to the first\n",
    "        else:\n",
    "            answer *= item\n",
    "    return answer"
   ]
  },
  {
   "cell_type": "code",
   "execution_count": 27,
   "metadata": {},
   "outputs": [],
   "source": [
    "list_to_multiply = [8, 2, 3, -1, 7]\n",
    "answer = list_multiplier(list_to_multiply)\n",
    "\n",
    "assert answer == -336"
   ]
  },
  {
   "cell_type": "markdown",
   "metadata": {},
   "source": [
    "5. Write a function to check whether a number is in a given range."
   ]
  },
  {
   "cell_type": "code",
   "execution_count": 28,
   "metadata": {},
   "outputs": [],
   "source": [
    "# solution 1\n",
    "def range_checker(lower_bound, upper_bound, number):\n",
    "    \"\"\"\n",
    "    Checks whether a value is within a given range. Returns \"Yes, in range\" if \n",
    "    number is within the range, or \"No, out of range\" if the number is not in range\n",
    "    Args:\n",
    "        lower_bound (num): Number representing the lower boundary of the range\n",
    "        upper_bound (num): Number representing the upper boundary of the range\n",
    "        number (num): Number to check if within range\n",
    "    Returns:\n",
    "        Response (str): Answer to whether or not the number is within the range\n",
    "    \"\"\"\n",
    "    if number <= upper_bound and number >= lower_bound:\n",
    "        return \"Yes, number {} is in range between {} and {}\".format(number, lower_bound, upper_bound)\n",
    "    else:\n",
    "        return \"No, number {} is not in range between {} and {}\".format(number, lower_bound, upper_bound)"
   ]
  },
  {
   "cell_type": "code",
   "execution_count": 32,
   "metadata": {},
   "outputs": [],
   "source": [
    "# solution 2\n",
    "def range_checker(lower_bound, upper_bound, number):\n",
    "    if number in range(lower_bound, upper_bound):\n",
    "        \"Yes, number {} is in range between {} and {}\".format(number, lower_bound, upper_bound)\n",
    "    else :\n",
    "        return \"No, number {} is not in range between {} and {}\".format(number, lower_bound, upper_bound)"
   ]
  },
  {
   "cell_type": "code",
   "execution_count": 31,
   "metadata": {},
   "outputs": [
    {
     "data": {
      "text/plain": [
       "'Yes, number 5 is in range between 1 and 10'"
      ]
     },
     "execution_count": 31,
     "metadata": {},
     "output_type": "execute_result"
    }
   ],
   "source": [
    "lower_bound = 1\n",
    "upper_bound = 10\n",
    "number = 5\n",
    "range_checker(lower_bound, upper_bound, number)"
   ]
  },
  {
   "cell_type": "markdown",
   "metadata": {},
   "source": [
    "6. Write a function that takes a list and returns a new list with unique elements of the first list. \n",
    "\n",
    "Sample List : [1,2,3,3,3,3,4,5] Unique List : [1, 2, 3, 4, 5]"
   ]
  },
  {
   "cell_type": "code",
   "execution_count": 37,
   "metadata": {},
   "outputs": [],
   "source": [
    "# solution 1\n",
    "def unique_item_filter(sample_list):\n",
    "    \"\"\"\n",
    "    Identifies and returns just the unique items of a list.\n",
    "    Args:\n",
    "        sample_list (list): list of values to identify the unique ones\n",
    "    Returns:\n",
    "        unique_list (list): list of unique values existing in the original list\n",
    "    \"\"\"\n",
    "    # using the \"set\" method built in to python\n",
    "    # set identifies unique values and returns them\n",
    "    # converting the set to a list before returning\n",
    "    \n",
    "    unique_list = list(set(sample_list))\n",
    "    return unique_list"
   ]
  },
  {
   "cell_type": "code",
   "execution_count": 38,
   "metadata": {},
   "outputs": [],
   "source": [
    "# solution 2\n",
    "\n",
    "# not using the built in set comand from python\n",
    "def unique_item_filter(sample_list):\n",
    "    unique_list = []\n",
    "    for item in sample_list:\n",
    "        if item not in unique_list:\n",
    "            unique_list.append(item)\n",
    "    return unique_list"
   ]
  },
  {
   "cell_type": "code",
   "execution_count": 39,
   "metadata": {},
   "outputs": [],
   "source": [
    "sample_list = [1,2,3,3,3,3,4,5]\n",
    "unique_list = unique_item_filter(sample_list)\n",
    "\n",
    "assert unique_list == [1, 2, 3, 4, 5]"
   ]
  }
 ],
 "metadata": {
  "kernelspec": {
   "display_name": "Python 3",
   "language": "python",
   "name": "python3"
  },
  "language_info": {
   "codemirror_mode": {
    "name": "ipython",
    "version": 3
   },
   "file_extension": ".py",
   "mimetype": "text/x-python",
   "name": "python",
   "nbconvert_exporter": "python",
   "pygments_lexer": "ipython3",
   "version": "3.7.3"
  }
 },
 "nbformat": 4,
 "nbformat_minor": 4
}
