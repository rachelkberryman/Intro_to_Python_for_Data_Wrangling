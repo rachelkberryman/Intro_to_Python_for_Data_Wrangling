{
 "cells": [
  {
   "cell_type": "markdown",
   "metadata": {},
   "source": [
    "# About Me:\n",
    "## Rachel Berryman\n",
    "## Data Scientist, AI Center of Excellence @ Elia Group\n",
    "- Previously: Energy Analyst for SaaS company in NYC \n",
    "    - SQL, basic Python\n",
    "- Data Science bootcamp in Berlin - 2017\n",
    "    - Advanced Python\n",
    "    - ML for predicting imbalance price \n",
    "- 2017 - July 2020: Energy Data Scientist for demand-side flexibility \n",
    "- 2018 - Today: Data Science teacher at Data Science bootcamp\n",
    "\n",
    "#### Contact: \n",
    "ArtificialIntelligence@eliagroup.eu - Trainings Inquiries, questions about code"
   ]
  },
  {
   "cell_type": "markdown",
   "metadata": {},
   "source": [
    "# About You:\n",
    "- Name\n",
    "- Background (work & academic)\n",
    "- Programming experience \n",
    "- What you know about Python "
   ]
  }
 ],
 "metadata": {
  "kernelspec": {
   "display_name": "Python 3",
   "language": "python",
   "name": "python3"
  },
  "language_info": {
   "codemirror_mode": {
    "name": "ipython",
    "version": 3
   },
   "file_extension": ".py",
   "mimetype": "text/x-python",
   "name": "python",
   "nbconvert_exporter": "python",
   "pygments_lexer": "ipython3",
   "version": "3.7.4"
  }
 },
 "nbformat": 4,
 "nbformat_minor": 4
}
