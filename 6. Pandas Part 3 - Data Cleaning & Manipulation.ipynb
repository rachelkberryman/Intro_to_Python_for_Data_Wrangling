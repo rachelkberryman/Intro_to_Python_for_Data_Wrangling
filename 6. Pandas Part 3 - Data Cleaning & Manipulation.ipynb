{
 "cells": [
  {
   "cell_type": "markdown",
   "metadata": {},
   "source": [
    "# 3. Data Cleaning & Manipulation\n",
    "With Pandas, we can do more than just select data that is already there. \n",
    "We can add new columns to our datasets, apply functions, iterate thorugh each row in the dataframe, and more.\n",
    "\n",
    "This is where we move from \"pandas for exploring our data\" to \"pandas for getting our data ready to feed into models\"."
   ]
  },
  {
   "cell_type": "code",
   "execution_count": 1,
   "metadata": {},
   "outputs": [],
   "source": [
    "import pandas as pd\n",
    "import numpy as np"
   ]
  },
  {
   "cell_type": "code",
   "execution_count": 2,
   "metadata": {},
   "outputs": [],
   "source": [
    "wine = pd.read_csv('data/wine/winemag-data_first150k.csv', index_col=0)\n",
    "energy = pd.read_csv('data/energy/PJM_Load_hourly.csv', parse_dates=True, index_col=0)"
   ]
  },
  {
   "cell_type": "markdown",
   "metadata": {},
   "source": [
    "### Dealing with Null Values:"
   ]
  },
  {
   "cell_type": "code",
   "execution_count": 3,
   "metadata": {},
   "outputs": [
    {
     "name": "stdout",
     "output_type": "stream",
     "text": [
      "Does the wine df conatin nulls?: True\n",
      "Does the energy df contain nulls?: False\n"
     ]
    }
   ],
   "source": [
    "print('Does the wine df conatin nulls?:', wine.isnull().any().any())\n",
    "print('Does the energy df contain nulls?:', energy.isnull().any().any())"
   ]
  },
  {
   "cell_type": "code",
   "execution_count": 4,
   "metadata": {},
   "outputs": [
    {
     "data": {
      "text/plain": [
       "True"
      ]
     },
     "execution_count": 4,
     "metadata": {},
     "output_type": "execute_result"
    }
   ],
   "source": [
    "wine.isnull().any().any()"
   ]
  },
  {
   "cell_type": "markdown",
   "metadata": {},
   "source": [
    "**Question:** why did we use \".any()\" twice when asking this question?"
   ]
  },
  {
   "cell_type": "code",
   "execution_count": null,
   "metadata": {
    "jupyter": {
     "outputs_hidden": true
    }
   },
   "outputs": [],
   "source": []
  },
  {
   "cell_type": "markdown",
   "metadata": {},
   "source": [
    "Now, we need to deal with the null values in the wine table.\n",
    "How we deal with them will depend on the data type of the column in which null values are found, and how we hope to use the data.\n",
    "\n",
    "If a wine doesn't have a region listed, we can still get a lot of information about it from things like its country. But, if a wine doesn't have a price listed, it's difficult to get much information out of it. \n",
    "\n",
    "So, if a wine has a null value for either of its regions, we will set it to be \"unknown\". But, if it has a null price, we will drop the row."
   ]
  },
  {
   "cell_type": "code",
   "execution_count": 5,
   "metadata": {},
   "outputs": [
    {
     "data": {
      "text/plain": [
       "country         True\n",
       "description    False\n",
       "designation     True\n",
       "points         False\n",
       "price           True\n",
       "province        True\n",
       "region_1        True\n",
       "region_2        True\n",
       "variety        False\n",
       "winery         False\n",
       "dtype: bool"
      ]
     },
     "execution_count": 5,
     "metadata": {},
     "output_type": "execute_result"
    }
   ],
   "source": [
    "wine.isnull().any()"
   ]
  },
  {
   "cell_type": "code",
   "execution_count": 6,
   "metadata": {},
   "outputs": [
    {
     "name": "stdout",
     "output_type": "stream",
     "text": [
      "Shape of wine table before is:  (150930, 10)\n",
      "Shape of null countries table is: (5, 10)\n",
      "Shape of wine table after is:  (150925, 10)\n"
     ]
    }
   ],
   "source": [
    "print('Shape of wine table before is: ', wine.shape)\n",
    "\n",
    "null_country = wine[wine['country'].isnull()]\n",
    "print('Shape of null countries table is:', null_country.shape)\n",
    "\n",
    "wine = wine[~wine.index.isin(null_country.index)]\n",
    "print('Shape of wine table after is: ', wine.shape)"
   ]
  },
  {
   "cell_type": "markdown",
   "metadata": {},
   "source": [
    "The 5 rows where a NaN value existed for country have been dropped."
   ]
  },
  {
   "cell_type": "markdown",
   "metadata": {},
   "source": [
    "Now we'll do the same for rows with a null price."
   ]
  },
  {
   "cell_type": "code",
   "execution_count": 7,
   "metadata": {},
   "outputs": [
    {
     "name": "stdout",
     "output_type": "stream",
     "text": [
      "Shape of wine table before is:  (150925, 10)\n",
      "Shape of null prices table is: (13695, 10)\n",
      "Shape of wine table after is:  (137230, 10)\n"
     ]
    }
   ],
   "source": [
    "print('Shape of wine table before is: ', wine.shape)\n",
    "\n",
    "null_price = wine[wine['price'].isnull()]\n",
    "print('Shape of null prices table is:', null_price.shape)\n",
    "\n",
    "wine = wine[~wine.index.isin(null_price.index)]\n",
    "print('Shape of wine table after is: ', wine.shape)"
   ]
  },
  {
   "cell_type": "markdown",
   "metadata": {},
   "source": [
    "Wow! We lost a lot of rows getting rid of the null price rows.\n",
    "Can you think of another way we could deal with null prices that doesn't mean losing almost 1/10 of our data? What are the pros and cons to using these other methods?"
   ]
  },
  {
   "cell_type": "code",
   "execution_count": 8,
   "metadata": {},
   "outputs": [
    {
     "name": "stdout",
     "output_type": "stream",
     "text": [
      "Shape of wine table before is:  (137230, 10)\n",
      "Shape of null prices table is: (0, 10)\n",
      "Shape of wine table after is:  (137230, 10)\n"
     ]
    },
    {
     "name": "stderr",
     "output_type": "stream",
     "text": [
      "/anaconda3/lib/python3.7/site-packages/pandas/core/ops/array_ops.py:253: FutureWarning: elementwise comparison failed; returning scalar instead, but in the future will perform elementwise comparison\n",
      "  res_values = method(rvalues)\n"
     ]
    }
   ],
   "source": [
    "print('Shape of wine table before is: ', wine.shape)\n",
    "\n",
    "null_price = wine[wine['price'] == 'unknown']\n",
    "print('Shape of null prices table is:', null_price.shape)\n",
    "\n",
    "wine = wine[~wine.index.isin(null_price.index)]\n",
    "print('Shape of wine table after is: ', wine.shape)"
   ]
  },
  {
   "cell_type": "markdown",
   "metadata": {},
   "source": [
    "Now, for the other columns in which there are nulls, we can use `df.fillna()` to populate the null values with a value of our choosing. \n",
    "\n",
    "This is where we have to make some decisions. Improperly setting variables can have unintended consequences on any analysis we plan to do later using this data."
   ]
  },
  {
   "cell_type": "code",
   "execution_count": 9,
   "metadata": {},
   "outputs": [
    {
     "data": {
      "text/plain": [
       "country        False\n",
       "description    False\n",
       "designation     True\n",
       "points         False\n",
       "price          False\n",
       "province       False\n",
       "region_1        True\n",
       "region_2        True\n",
       "variety        False\n",
       "winery         False\n",
       "dtype: bool"
      ]
     },
     "execution_count": 9,
     "metadata": {},
     "output_type": "execute_result"
    }
   ],
   "source": [
    "wine.isnull().any()"
   ]
  },
  {
   "cell_type": "markdown",
   "metadata": {},
   "source": [
    "The only columns where we still have nulls are regions and designations.\n",
    "To avoid having to drop out more rows, we will use \"fillna()\"."
   ]
  },
  {
   "cell_type": "code",
   "execution_count": 10,
   "metadata": {},
   "outputs": [],
   "source": [
    "wine.fillna('unknown', inplace=True)"
   ]
  },
  {
   "cell_type": "markdown",
   "metadata": {},
   "source": [
    "We now have no null values in our dataset!"
   ]
  },
  {
   "cell_type": "code",
   "execution_count": 11,
   "metadata": {},
   "outputs": [
    {
     "data": {
      "text/plain": [
       "country        False\n",
       "description    False\n",
       "designation    False\n",
       "points         False\n",
       "price          False\n",
       "province       False\n",
       "region_1       False\n",
       "region_2       False\n",
       "variety        False\n",
       "winery         False\n",
       "dtype: bool"
      ]
     },
     "execution_count": 11,
     "metadata": {},
     "output_type": "execute_result"
    }
   ],
   "source": [
    "wine.isnull().any()"
   ]
  },
  {
   "cell_type": "code",
   "execution_count": 12,
   "metadata": {},
   "outputs": [],
   "source": [
    "def wine_africa(row):\n",
    "    if row.country in (['South Africa', 'Morocco']):\n",
    "        x = 1\n",
    "    else:\n",
    "        x = 0\n",
    "    return x\n"
   ]
  },
  {
   "cell_type": "code",
   "execution_count": 13,
   "metadata": {},
   "outputs": [],
   "source": [
    "wine['from Africa'] = wine.apply(wine_africa,axis = 1)"
   ]
  },
  {
   "cell_type": "code",
   "execution_count": 14,
   "metadata": {},
   "outputs": [
    {
     "data": {
      "text/html": [
       "<div>\n",
       "<style scoped>\n",
       "    .dataframe tbody tr th:only-of-type {\n",
       "        vertical-align: middle;\n",
       "    }\n",
       "\n",
       "    .dataframe tbody tr th {\n",
       "        vertical-align: top;\n",
       "    }\n",
       "\n",
       "    .dataframe thead th {\n",
       "        text-align: right;\n",
       "    }\n",
       "</style>\n",
       "<table border=\"1\" class=\"dataframe\">\n",
       "  <thead>\n",
       "    <tr style=\"text-align: right;\">\n",
       "      <th></th>\n",
       "      <th>country</th>\n",
       "      <th>description</th>\n",
       "      <th>designation</th>\n",
       "      <th>points</th>\n",
       "      <th>price</th>\n",
       "      <th>province</th>\n",
       "      <th>region_1</th>\n",
       "      <th>region_2</th>\n",
       "      <th>variety</th>\n",
       "      <th>winery</th>\n",
       "      <th>from Africa</th>\n",
       "    </tr>\n",
       "  </thead>\n",
       "  <tbody>\n",
       "    <tr>\n",
       "      <th>114</th>\n",
       "      <td>South Africa</td>\n",
       "      <td>Muted aromas of tart gooseberry and lime peel ...</td>\n",
       "      <td>Circumstance</td>\n",
       "      <td>86</td>\n",
       "      <td>20.0</td>\n",
       "      <td>Stellenbosch</td>\n",
       "      <td>unknown</td>\n",
       "      <td>unknown</td>\n",
       "      <td>Sauvignon Blanc</td>\n",
       "      <td>Waterkloof</td>\n",
       "      <td>1</td>\n",
       "    </tr>\n",
       "    <tr>\n",
       "      <th>216</th>\n",
       "      <td>Morocco</td>\n",
       "      <td>Tones of black cherry, toffee, tobacco, tar an...</td>\n",
       "      <td>Domaine Excelcio</td>\n",
       "      <td>93</td>\n",
       "      <td>35.0</td>\n",
       "      <td>Guerrouane</td>\n",
       "      <td>unknown</td>\n",
       "      <td>unknown</td>\n",
       "      <td>Syrah-Grenache</td>\n",
       "      <td>Bernard Magrez</td>\n",
       "      <td>1</td>\n",
       "    </tr>\n",
       "    <tr>\n",
       "      <th>461</th>\n",
       "      <td>South Africa</td>\n",
       "      <td>Muted, soft scents of green apple, orange peel...</td>\n",
       "      <td>unknown</td>\n",
       "      <td>86</td>\n",
       "      <td>20.0</td>\n",
       "      <td>Walker Bay</td>\n",
       "      <td>unknown</td>\n",
       "      <td>unknown</td>\n",
       "      <td>Sauvignon Blanc</td>\n",
       "      <td>Bouchard Finlayson</td>\n",
       "      <td>1</td>\n",
       "    </tr>\n",
       "    <tr>\n",
       "      <th>721</th>\n",
       "      <td>South Africa</td>\n",
       "      <td>This wine opens softly, with faint aromas of l...</td>\n",
       "      <td>Schaapenberg Vineyard Reserve</td>\n",
       "      <td>86</td>\n",
       "      <td>35.0</td>\n",
       "      <td>Stellenbosch</td>\n",
       "      <td>unknown</td>\n",
       "      <td>unknown</td>\n",
       "      <td>Sauvignon Blanc</td>\n",
       "      <td>Vergelegen</td>\n",
       "      <td>1</td>\n",
       "    </tr>\n",
       "    <tr>\n",
       "      <th>724</th>\n",
       "      <td>South Africa</td>\n",
       "      <td>This opens with scents of green melon rind, st...</td>\n",
       "      <td>Barrelman's Select</td>\n",
       "      <td>86</td>\n",
       "      <td>11.0</td>\n",
       "      <td>Western Cape</td>\n",
       "      <td>unknown</td>\n",
       "      <td>unknown</td>\n",
       "      <td>Sauvignon Blanc</td>\n",
       "      <td>Fat Barrel</td>\n",
       "      <td>1</td>\n",
       "    </tr>\n",
       "    <tr>\n",
       "      <th>...</th>\n",
       "      <td>...</td>\n",
       "      <td>...</td>\n",
       "      <td>...</td>\n",
       "      <td>...</td>\n",
       "      <td>...</td>\n",
       "      <td>...</td>\n",
       "      <td>...</td>\n",
       "      <td>...</td>\n",
       "      <td>...</td>\n",
       "      <td>...</td>\n",
       "      <td>...</td>\n",
       "    </tr>\n",
       "    <tr>\n",
       "      <th>150741</th>\n",
       "      <td>South Africa</td>\n",
       "      <td>This wine emphasizes some of the tougher eleme...</td>\n",
       "      <td>unknown</td>\n",
       "      <td>83</td>\n",
       "      <td>15.0</td>\n",
       "      <td>Stellenbosch</td>\n",
       "      <td>unknown</td>\n",
       "      <td>unknown</td>\n",
       "      <td>Pinotage</td>\n",
       "      <td>Jacobsdal</td>\n",
       "      <td>1</td>\n",
       "    </tr>\n",
       "    <tr>\n",
       "      <th>150744</th>\n",
       "      <td>South Africa</td>\n",
       "      <td>The attractive opening notes of orange blossom...</td>\n",
       "      <td>Chameleon</td>\n",
       "      <td>83</td>\n",
       "      <td>16.0</td>\n",
       "      <td>Stellenbosch</td>\n",
       "      <td>unknown</td>\n",
       "      <td>unknown</td>\n",
       "      <td>White Blend</td>\n",
       "      <td>Jardin</td>\n",
       "      <td>1</td>\n",
       "    </tr>\n",
       "    <tr>\n",
       "      <th>150746</th>\n",
       "      <td>South Africa</td>\n",
       "      <td>More than a touch of green tobacco leafiness s...</td>\n",
       "      <td>unknown</td>\n",
       "      <td>82</td>\n",
       "      <td>15.0</td>\n",
       "      <td>Coastal Region</td>\n",
       "      <td>unknown</td>\n",
       "      <td>unknown</td>\n",
       "      <td>Merlot</td>\n",
       "      <td>Saxenburg Estate</td>\n",
       "      <td>1</td>\n",
       "    </tr>\n",
       "    <tr>\n",
       "      <th>150750</th>\n",
       "      <td>South Africa</td>\n",
       "      <td>A medium to deep ruby color opens things up. T...</td>\n",
       "      <td>unknown</td>\n",
       "      <td>82</td>\n",
       "      <td>14.0</td>\n",
       "      <td>Paarl</td>\n",
       "      <td>unknown</td>\n",
       "      <td>unknown</td>\n",
       "      <td>Merlot</td>\n",
       "      <td>Backsberg</td>\n",
       "      <td>1</td>\n",
       "    </tr>\n",
       "    <tr>\n",
       "      <th>150754</th>\n",
       "      <td>South Africa</td>\n",
       "      <td>A light and basic Chardonnay that lacks the fr...</td>\n",
       "      <td>unknown</td>\n",
       "      <td>82</td>\n",
       "      <td>14.0</td>\n",
       "      <td>Paarl</td>\n",
       "      <td>unknown</td>\n",
       "      <td>unknown</td>\n",
       "      <td>Chardonnay</td>\n",
       "      <td>Backsberg</td>\n",
       "      <td>1</td>\n",
       "    </tr>\n",
       "  </tbody>\n",
       "</table>\n",
       "<p>2249 rows × 11 columns</p>\n",
       "</div>"
      ],
      "text/plain": [
       "             country                                        description  \\\n",
       "114     South Africa  Muted aromas of tart gooseberry and lime peel ...   \n",
       "216          Morocco  Tones of black cherry, toffee, tobacco, tar an...   \n",
       "461     South Africa  Muted, soft scents of green apple, orange peel...   \n",
       "721     South Africa  This wine opens softly, with faint aromas of l...   \n",
       "724     South Africa  This opens with scents of green melon rind, st...   \n",
       "...              ...                                                ...   \n",
       "150741  South Africa  This wine emphasizes some of the tougher eleme...   \n",
       "150744  South Africa  The attractive opening notes of orange blossom...   \n",
       "150746  South Africa  More than a touch of green tobacco leafiness s...   \n",
       "150750  South Africa  A medium to deep ruby color opens things up. T...   \n",
       "150754  South Africa  A light and basic Chardonnay that lacks the fr...   \n",
       "\n",
       "                          designation  points  price        province region_1  \\\n",
       "114                      Circumstance      86   20.0    Stellenbosch  unknown   \n",
       "216                  Domaine Excelcio      93   35.0      Guerrouane  unknown   \n",
       "461                           unknown      86   20.0      Walker Bay  unknown   \n",
       "721     Schaapenberg Vineyard Reserve      86   35.0    Stellenbosch  unknown   \n",
       "724                Barrelman's Select      86   11.0    Western Cape  unknown   \n",
       "...                               ...     ...    ...             ...      ...   \n",
       "150741                        unknown      83   15.0    Stellenbosch  unknown   \n",
       "150744                      Chameleon      83   16.0    Stellenbosch  unknown   \n",
       "150746                        unknown      82   15.0  Coastal Region  unknown   \n",
       "150750                        unknown      82   14.0           Paarl  unknown   \n",
       "150754                        unknown      82   14.0           Paarl  unknown   \n",
       "\n",
       "       region_2          variety              winery  from Africa  \n",
       "114     unknown  Sauvignon Blanc          Waterkloof            1  \n",
       "216     unknown   Syrah-Grenache      Bernard Magrez            1  \n",
       "461     unknown  Sauvignon Blanc  Bouchard Finlayson            1  \n",
       "721     unknown  Sauvignon Blanc          Vergelegen            1  \n",
       "724     unknown  Sauvignon Blanc          Fat Barrel            1  \n",
       "...         ...              ...                 ...          ...  \n",
       "150741  unknown         Pinotage           Jacobsdal            1  \n",
       "150744  unknown      White Blend              Jardin            1  \n",
       "150746  unknown           Merlot    Saxenburg Estate            1  \n",
       "150750  unknown           Merlot           Backsberg            1  \n",
       "150754  unknown       Chardonnay           Backsberg            1  \n",
       "\n",
       "[2249 rows x 11 columns]"
      ]
     },
     "execution_count": 14,
     "metadata": {},
     "output_type": "execute_result"
    }
   ],
   "source": [
    "wine[wine['from Africa'] ==1 ]"
   ]
  },
  {
   "cell_type": "markdown",
   "metadata": {},
   "source": [
    "### Creating new columns from existing ones\n",
    "In pandas, it's easy to make a new column from existing ones. "
   ]
  },
  {
   "cell_type": "code",
   "execution_count": 15,
   "metadata": {},
   "outputs": [],
   "source": [
    "wine.loc[:, 'Region'] = wine.loc[:, 'region_1'] + '_' + wine.loc[:, 'region_2']"
   ]
  },
  {
   "cell_type": "markdown",
   "metadata": {},
   "source": [
    "#### Using a function + apply to make a new column:\n",
    "Let's say we want to make a new column with an ID we can use to identify the records.\n",
    "We can use a helper function + the apply method in pandas to apply it to all rows.\n",
    "Apply looks through each row or column of a dataframe (depending on Axis set)."
   ]
  },
  {
   "cell_type": "code",
   "execution_count": 16,
   "metadata": {},
   "outputs": [
    {
     "data": {
      "text/plain": [
       "60.0"
      ]
     },
     "execution_count": 16,
     "metadata": {},
     "output_type": "execute_result"
    }
   ],
   "source": [
    "# finding the price of the 90th percentile price of the wines\n",
    "expensive_wine_cutoff = wine.loc[:, 'price'].quantile(.90)\n",
    "expensive_wine_cutoff"
   ]
  },
  {
   "cell_type": "code",
   "execution_count": 17,
   "metadata": {},
   "outputs": [],
   "source": [
    "def add_unique_id(row, expensive_wine_cutoff):\n",
    "    if row['price'] >= expensive_wine_cutoff:\n",
    "        row['expensive_wine'] = 1\n",
    "    else:\n",
    "        row['expensive_wine'] = 0\n",
    "    return row"
   ]
  },
  {
   "cell_type": "code",
   "execution_count": 18,
   "metadata": {},
   "outputs": [],
   "source": [
    "wine = wine.apply(lambda row: add_unique_id(row, expensive_wine_cutoff), axis=1)"
   ]
  },
  {
   "cell_type": "code",
   "execution_count": 19,
   "metadata": {},
   "outputs": [
    {
     "data": {
      "text/html": [
       "<div>\n",
       "<style scoped>\n",
       "    .dataframe tbody tr th:only-of-type {\n",
       "        vertical-align: middle;\n",
       "    }\n",
       "\n",
       "    .dataframe tbody tr th {\n",
       "        vertical-align: top;\n",
       "    }\n",
       "\n",
       "    .dataframe thead th {\n",
       "        text-align: right;\n",
       "    }\n",
       "</style>\n",
       "<table border=\"1\" class=\"dataframe\">\n",
       "  <thead>\n",
       "    <tr style=\"text-align: right;\">\n",
       "      <th></th>\n",
       "      <th>country</th>\n",
       "      <th>description</th>\n",
       "      <th>designation</th>\n",
       "      <th>points</th>\n",
       "      <th>price</th>\n",
       "      <th>province</th>\n",
       "      <th>region_1</th>\n",
       "      <th>region_2</th>\n",
       "      <th>variety</th>\n",
       "      <th>winery</th>\n",
       "      <th>from Africa</th>\n",
       "      <th>Region</th>\n",
       "      <th>expensive_wine</th>\n",
       "    </tr>\n",
       "  </thead>\n",
       "  <tbody>\n",
       "    <tr>\n",
       "      <th>0</th>\n",
       "      <td>US</td>\n",
       "      <td>This tremendous 100% varietal wine hails from ...</td>\n",
       "      <td>Martha's Vineyard</td>\n",
       "      <td>96</td>\n",
       "      <td>235.0</td>\n",
       "      <td>California</td>\n",
       "      <td>Napa Valley</td>\n",
       "      <td>Napa</td>\n",
       "      <td>Cabernet Sauvignon</td>\n",
       "      <td>Heitz</td>\n",
       "      <td>0</td>\n",
       "      <td>Napa Valley_Napa</td>\n",
       "      <td>1</td>\n",
       "    </tr>\n",
       "    <tr>\n",
       "      <th>1</th>\n",
       "      <td>Spain</td>\n",
       "      <td>Ripe aromas of fig, blackberry and cassis are ...</td>\n",
       "      <td>Carodorum Selección Especial Reserva</td>\n",
       "      <td>96</td>\n",
       "      <td>110.0</td>\n",
       "      <td>Northern Spain</td>\n",
       "      <td>Toro</td>\n",
       "      <td>unknown</td>\n",
       "      <td>Tinta de Toro</td>\n",
       "      <td>Bodega Carmen Rodríguez</td>\n",
       "      <td>0</td>\n",
       "      <td>Toro_unknown</td>\n",
       "      <td>1</td>\n",
       "    </tr>\n",
       "    <tr>\n",
       "      <th>2</th>\n",
       "      <td>US</td>\n",
       "      <td>Mac Watson honors the memory of a wine once ma...</td>\n",
       "      <td>Special Selected Late Harvest</td>\n",
       "      <td>96</td>\n",
       "      <td>90.0</td>\n",
       "      <td>California</td>\n",
       "      <td>Knights Valley</td>\n",
       "      <td>Sonoma</td>\n",
       "      <td>Sauvignon Blanc</td>\n",
       "      <td>Macauley</td>\n",
       "      <td>0</td>\n",
       "      <td>Knights Valley_Sonoma</td>\n",
       "      <td>1</td>\n",
       "    </tr>\n",
       "    <tr>\n",
       "      <th>3</th>\n",
       "      <td>US</td>\n",
       "      <td>This spent 20 months in 30% new French oak, an...</td>\n",
       "      <td>Reserve</td>\n",
       "      <td>96</td>\n",
       "      <td>65.0</td>\n",
       "      <td>Oregon</td>\n",
       "      <td>Willamette Valley</td>\n",
       "      <td>Willamette Valley</td>\n",
       "      <td>Pinot Noir</td>\n",
       "      <td>Ponzi</td>\n",
       "      <td>0</td>\n",
       "      <td>Willamette Valley_Willamette Valley</td>\n",
       "      <td>1</td>\n",
       "    </tr>\n",
       "    <tr>\n",
       "      <th>4</th>\n",
       "      <td>France</td>\n",
       "      <td>This is the top wine from La Bégude, named aft...</td>\n",
       "      <td>La Brûlade</td>\n",
       "      <td>95</td>\n",
       "      <td>66.0</td>\n",
       "      <td>Provence</td>\n",
       "      <td>Bandol</td>\n",
       "      <td>unknown</td>\n",
       "      <td>Provence red blend</td>\n",
       "      <td>Domaine de la Bégude</td>\n",
       "      <td>0</td>\n",
       "      <td>Bandol_unknown</td>\n",
       "      <td>1</td>\n",
       "    </tr>\n",
       "  </tbody>\n",
       "</table>\n",
       "</div>"
      ],
      "text/plain": [
       "  country                                        description  \\\n",
       "0      US  This tremendous 100% varietal wine hails from ...   \n",
       "1   Spain  Ripe aromas of fig, blackberry and cassis are ...   \n",
       "2      US  Mac Watson honors the memory of a wine once ma...   \n",
       "3      US  This spent 20 months in 30% new French oak, an...   \n",
       "4  France  This is the top wine from La Bégude, named aft...   \n",
       "\n",
       "                            designation  points  price        province  \\\n",
       "0                     Martha's Vineyard      96  235.0      California   \n",
       "1  Carodorum Selección Especial Reserva      96  110.0  Northern Spain   \n",
       "2         Special Selected Late Harvest      96   90.0      California   \n",
       "3                               Reserve      96   65.0          Oregon   \n",
       "4                            La Brûlade      95   66.0        Provence   \n",
       "\n",
       "            region_1           region_2             variety  \\\n",
       "0        Napa Valley               Napa  Cabernet Sauvignon   \n",
       "1               Toro            unknown       Tinta de Toro   \n",
       "2     Knights Valley             Sonoma     Sauvignon Blanc   \n",
       "3  Willamette Valley  Willamette Valley          Pinot Noir   \n",
       "4             Bandol            unknown  Provence red blend   \n",
       "\n",
       "                    winery  from Africa                               Region  \\\n",
       "0                    Heitz            0                     Napa Valley_Napa   \n",
       "1  Bodega Carmen Rodríguez            0                         Toro_unknown   \n",
       "2                 Macauley            0                Knights Valley_Sonoma   \n",
       "3                    Ponzi            0  Willamette Valley_Willamette Valley   \n",
       "4     Domaine de la Bégude            0                       Bandol_unknown   \n",
       "\n",
       "   expensive_wine  \n",
       "0               1  \n",
       "1               1  \n",
       "2               1  \n",
       "3               1  \n",
       "4               1  "
      ]
     },
     "execution_count": 19,
     "metadata": {},
     "output_type": "execute_result"
    }
   ],
   "source": [
    "wine.head()"
   ]
  },
  {
   "cell_type": "markdown",
   "metadata": {},
   "source": [
    "We can use the same approach to make a column for \"great and cheap\" wines, defined here as $50 or less and with a score >95."
   ]
  },
  {
   "cell_type": "code",
   "execution_count": 20,
   "metadata": {},
   "outputs": [],
   "source": [
    "def helper(row):\n",
    "    if (row['price'] < 25) & (row['points'] >=95):\n",
    "        x = 1\n",
    "    else:\n",
    "        x = 0\n",
    "    return x"
   ]
  },
  {
   "cell_type": "code",
   "execution_count": 21,
   "metadata": {},
   "outputs": [],
   "source": [
    "wine.price = wine.price.astype('int')"
   ]
  },
  {
   "cell_type": "code",
   "execution_count": 22,
   "metadata": {},
   "outputs": [],
   "source": [
    "wine['great and cheap'] = wine.apply(helper, axis=1)"
   ]
  },
  {
   "cell_type": "markdown",
   "metadata": {},
   "source": [
    "We can then use that boolean value to sort on the wines."
   ]
  },
  {
   "cell_type": "code",
   "execution_count": 23,
   "metadata": {},
   "outputs": [
    {
     "data": {
      "text/html": [
       "<div>\n",
       "<style scoped>\n",
       "    .dataframe tbody tr th:only-of-type {\n",
       "        vertical-align: middle;\n",
       "    }\n",
       "\n",
       "    .dataframe tbody tr th {\n",
       "        vertical-align: top;\n",
       "    }\n",
       "\n",
       "    .dataframe thead th {\n",
       "        text-align: right;\n",
       "    }\n",
       "</style>\n",
       "<table border=\"1\" class=\"dataframe\">\n",
       "  <thead>\n",
       "    <tr style=\"text-align: right;\">\n",
       "      <th></th>\n",
       "      <th>country</th>\n",
       "      <th>description</th>\n",
       "      <th>designation</th>\n",
       "      <th>points</th>\n",
       "      <th>price</th>\n",
       "      <th>province</th>\n",
       "      <th>region_1</th>\n",
       "      <th>region_2</th>\n",
       "      <th>variety</th>\n",
       "      <th>winery</th>\n",
       "      <th>from Africa</th>\n",
       "      <th>Region</th>\n",
       "      <th>expensive_wine</th>\n",
       "      <th>great and cheap</th>\n",
       "    </tr>\n",
       "  </thead>\n",
       "  <tbody>\n",
       "    <tr>\n",
       "      <th>20</th>\n",
       "      <td>US</td>\n",
       "      <td>Heitz has made this stellar rosé from the rare...</td>\n",
       "      <td>Grignolino</td>\n",
       "      <td>95</td>\n",
       "      <td>24</td>\n",
       "      <td>California</td>\n",
       "      <td>Napa Valley</td>\n",
       "      <td>Napa</td>\n",
       "      <td>Rosé</td>\n",
       "      <td>Heitz</td>\n",
       "      <td>0</td>\n",
       "      <td>Napa Valley_Napa</td>\n",
       "      <td>0</td>\n",
       "      <td>1</td>\n",
       "    </tr>\n",
       "    <tr>\n",
       "      <th>22079</th>\n",
       "      <td>US</td>\n",
       "      <td>With residual sugar at about 1.35%, this balan...</td>\n",
       "      <td>unknown</td>\n",
       "      <td>95</td>\n",
       "      <td>20</td>\n",
       "      <td>Washington</td>\n",
       "      <td>Columbia Valley (WA)</td>\n",
       "      <td>Columbia Valley</td>\n",
       "      <td>Riesling</td>\n",
       "      <td>Poet's Leap</td>\n",
       "      <td>0</td>\n",
       "      <td>Columbia Valley (WA)_Columbia Valley</td>\n",
       "      <td>0</td>\n",
       "      <td>1</td>\n",
       "    </tr>\n",
       "    <tr>\n",
       "      <th>51461</th>\n",
       "      <td>US</td>\n",
       "      <td>Spectacular is the word that comes to mind her...</td>\n",
       "      <td>Bacchus Vineyard</td>\n",
       "      <td>95</td>\n",
       "      <td>20</td>\n",
       "      <td>Washington</td>\n",
       "      <td>Columbia Valley (WA)</td>\n",
       "      <td>Columbia Valley</td>\n",
       "      <td>Riesling</td>\n",
       "      <td>Januik</td>\n",
       "      <td>0</td>\n",
       "      <td>Columbia Valley (WA)_Columbia Valley</td>\n",
       "      <td>0</td>\n",
       "      <td>1</td>\n",
       "    </tr>\n",
       "    <tr>\n",
       "      <th>56971</th>\n",
       "      <td>US</td>\n",
       "      <td>Superb fruit highlights this tight, sculpted S...</td>\n",
       "      <td>unknown</td>\n",
       "      <td>96</td>\n",
       "      <td>20</td>\n",
       "      <td>Washington</td>\n",
       "      <td>Columbia Valley (WA)</td>\n",
       "      <td>Columbia Valley</td>\n",
       "      <td>Syrah</td>\n",
       "      <td>Rulo</td>\n",
       "      <td>0</td>\n",
       "      <td>Columbia Valley (WA)_Columbia Valley</td>\n",
       "      <td>0</td>\n",
       "      <td>1</td>\n",
       "    </tr>\n",
       "    <tr>\n",
       "      <th>85050</th>\n",
       "      <td>US</td>\n",
       "      <td>Truly stunning, the Lewis Estate Riesling from...</td>\n",
       "      <td>Lewis Estate Vineyard</td>\n",
       "      <td>95</td>\n",
       "      <td>20</td>\n",
       "      <td>Washington</td>\n",
       "      <td>Columbia Valley (WA)</td>\n",
       "      <td>Columbia Valley</td>\n",
       "      <td>Riesling</td>\n",
       "      <td>Dunham</td>\n",
       "      <td>0</td>\n",
       "      <td>Columbia Valley (WA)_Columbia Valley</td>\n",
       "      <td>0</td>\n",
       "      <td>1</td>\n",
       "    </tr>\n",
       "    <tr>\n",
       "      <th>102565</th>\n",
       "      <td>US</td>\n",
       "      <td>With 21% residual sugar, this is an enormously...</td>\n",
       "      <td>Tears of Dew Late Harvest</td>\n",
       "      <td>95</td>\n",
       "      <td>22</td>\n",
       "      <td>California</td>\n",
       "      <td>Paso Robles</td>\n",
       "      <td>Central Coast</td>\n",
       "      <td>Moscato</td>\n",
       "      <td>EOS</td>\n",
       "      <td>0</td>\n",
       "      <td>Paso Robles_Central Coast</td>\n",
       "      <td>0</td>\n",
       "      <td>1</td>\n",
       "    </tr>\n",
       "    <tr>\n",
       "      <th>104504</th>\n",
       "      <td>US</td>\n",
       "      <td>Simply astonishing for its price, this toasty,...</td>\n",
       "      <td>unknown</td>\n",
       "      <td>95</td>\n",
       "      <td>20</td>\n",
       "      <td>Washington</td>\n",
       "      <td>Walla Walla Valley (WA)</td>\n",
       "      <td>Columbia Valley</td>\n",
       "      <td>Chardonnay</td>\n",
       "      <td>Rulo</td>\n",
       "      <td>0</td>\n",
       "      <td>Walla Walla Valley (WA)_Columbia Valley</td>\n",
       "      <td>0</td>\n",
       "      <td>1</td>\n",
       "    </tr>\n",
       "    <tr>\n",
       "      <th>109231</th>\n",
       "      <td>US</td>\n",
       "      <td>Superb fruit highlights this tight, sculpted S...</td>\n",
       "      <td>unknown</td>\n",
       "      <td>96</td>\n",
       "      <td>20</td>\n",
       "      <td>Washington</td>\n",
       "      <td>Columbia Valley (WA)</td>\n",
       "      <td>Columbia Valley</td>\n",
       "      <td>Syrah</td>\n",
       "      <td>Rulo</td>\n",
       "      <td>0</td>\n",
       "      <td>Columbia Valley (WA)_Columbia Valley</td>\n",
       "      <td>0</td>\n",
       "      <td>1</td>\n",
       "    </tr>\n",
       "    <tr>\n",
       "      <th>115165</th>\n",
       "      <td>US</td>\n",
       "      <td>This dessert wine has pushed itself to the fro...</td>\n",
       "      <td>Tears of Dew Late Harvest</td>\n",
       "      <td>95</td>\n",
       "      <td>22</td>\n",
       "      <td>California</td>\n",
       "      <td>Paso Robles</td>\n",
       "      <td>Central Coast</td>\n",
       "      <td>Moscato</td>\n",
       "      <td>EOS</td>\n",
       "      <td>0</td>\n",
       "      <td>Paso Robles_Central Coast</td>\n",
       "      <td>0</td>\n",
       "      <td>1</td>\n",
       "    </tr>\n",
       "    <tr>\n",
       "      <th>130255</th>\n",
       "      <td>US</td>\n",
       "      <td>With 21% residual sugar, this is an enormously...</td>\n",
       "      <td>Tears of Dew Late Harvest</td>\n",
       "      <td>95</td>\n",
       "      <td>22</td>\n",
       "      <td>California</td>\n",
       "      <td>Paso Robles</td>\n",
       "      <td>Central Coast</td>\n",
       "      <td>Moscato</td>\n",
       "      <td>EOS</td>\n",
       "      <td>0</td>\n",
       "      <td>Paso Robles_Central Coast</td>\n",
       "      <td>0</td>\n",
       "      <td>1</td>\n",
       "    </tr>\n",
       "    <tr>\n",
       "      <th>134101</th>\n",
       "      <td>US</td>\n",
       "      <td>Superb fruit highlights this tight, sculpted S...</td>\n",
       "      <td>unknown</td>\n",
       "      <td>96</td>\n",
       "      <td>20</td>\n",
       "      <td>Washington</td>\n",
       "      <td>Columbia Valley (WA)</td>\n",
       "      <td>Columbia Valley</td>\n",
       "      <td>Syrah</td>\n",
       "      <td>Rulo</td>\n",
       "      <td>0</td>\n",
       "      <td>Columbia Valley (WA)_Columbia Valley</td>\n",
       "      <td>0</td>\n",
       "      <td>1</td>\n",
       "    </tr>\n",
       "    <tr>\n",
       "      <th>136525</th>\n",
       "      <td>US</td>\n",
       "      <td>This dessert wine has pushed itself to the fro...</td>\n",
       "      <td>Tears of Dew Late Harvest</td>\n",
       "      <td>95</td>\n",
       "      <td>22</td>\n",
       "      <td>California</td>\n",
       "      <td>Paso Robles</td>\n",
       "      <td>Central Coast</td>\n",
       "      <td>Moscato</td>\n",
       "      <td>EOS</td>\n",
       "      <td>0</td>\n",
       "      <td>Paso Robles_Central Coast</td>\n",
       "      <td>0</td>\n",
       "      <td>1</td>\n",
       "    </tr>\n",
       "  </tbody>\n",
       "</table>\n",
       "</div>"
      ],
      "text/plain": [
       "       country                                        description  \\\n",
       "20          US  Heitz has made this stellar rosé from the rare...   \n",
       "22079       US  With residual sugar at about 1.35%, this balan...   \n",
       "51461       US  Spectacular is the word that comes to mind her...   \n",
       "56971       US  Superb fruit highlights this tight, sculpted S...   \n",
       "85050       US  Truly stunning, the Lewis Estate Riesling from...   \n",
       "102565      US  With 21% residual sugar, this is an enormously...   \n",
       "104504      US  Simply astonishing for its price, this toasty,...   \n",
       "109231      US  Superb fruit highlights this tight, sculpted S...   \n",
       "115165      US  This dessert wine has pushed itself to the fro...   \n",
       "130255      US  With 21% residual sugar, this is an enormously...   \n",
       "134101      US  Superb fruit highlights this tight, sculpted S...   \n",
       "136525      US  This dessert wine has pushed itself to the fro...   \n",
       "\n",
       "                      designation  points  price    province  \\\n",
       "20                     Grignolino      95     24  California   \n",
       "22079                     unknown      95     20  Washington   \n",
       "51461            Bacchus Vineyard      95     20  Washington   \n",
       "56971                     unknown      96     20  Washington   \n",
       "85050       Lewis Estate Vineyard      95     20  Washington   \n",
       "102565  Tears of Dew Late Harvest      95     22  California   \n",
       "104504                    unknown      95     20  Washington   \n",
       "109231                    unknown      96     20  Washington   \n",
       "115165  Tears of Dew Late Harvest      95     22  California   \n",
       "130255  Tears of Dew Late Harvest      95     22  California   \n",
       "134101                    unknown      96     20  Washington   \n",
       "136525  Tears of Dew Late Harvest      95     22  California   \n",
       "\n",
       "                       region_1         region_2     variety       winery  \\\n",
       "20                  Napa Valley             Napa        Rosé        Heitz   \n",
       "22079      Columbia Valley (WA)  Columbia Valley    Riesling  Poet's Leap   \n",
       "51461      Columbia Valley (WA)  Columbia Valley    Riesling       Januik   \n",
       "56971      Columbia Valley (WA)  Columbia Valley       Syrah         Rulo   \n",
       "85050      Columbia Valley (WA)  Columbia Valley    Riesling       Dunham   \n",
       "102565              Paso Robles    Central Coast     Moscato          EOS   \n",
       "104504  Walla Walla Valley (WA)  Columbia Valley  Chardonnay         Rulo   \n",
       "109231     Columbia Valley (WA)  Columbia Valley       Syrah         Rulo   \n",
       "115165              Paso Robles    Central Coast     Moscato          EOS   \n",
       "130255              Paso Robles    Central Coast     Moscato          EOS   \n",
       "134101     Columbia Valley (WA)  Columbia Valley       Syrah         Rulo   \n",
       "136525              Paso Robles    Central Coast     Moscato          EOS   \n",
       "\n",
       "        from Africa                                   Region  expensive_wine  \\\n",
       "20                0                         Napa Valley_Napa               0   \n",
       "22079             0     Columbia Valley (WA)_Columbia Valley               0   \n",
       "51461             0     Columbia Valley (WA)_Columbia Valley               0   \n",
       "56971             0     Columbia Valley (WA)_Columbia Valley               0   \n",
       "85050             0     Columbia Valley (WA)_Columbia Valley               0   \n",
       "102565            0                Paso Robles_Central Coast               0   \n",
       "104504            0  Walla Walla Valley (WA)_Columbia Valley               0   \n",
       "109231            0     Columbia Valley (WA)_Columbia Valley               0   \n",
       "115165            0                Paso Robles_Central Coast               0   \n",
       "130255            0                Paso Robles_Central Coast               0   \n",
       "134101            0     Columbia Valley (WA)_Columbia Valley               0   \n",
       "136525            0                Paso Robles_Central Coast               0   \n",
       "\n",
       "        great and cheap  \n",
       "20                    1  \n",
       "22079                 1  \n",
       "51461                 1  \n",
       "56971                 1  \n",
       "85050                 1  \n",
       "102565                1  \n",
       "104504                1  \n",
       "109231                1  \n",
       "115165                1  \n",
       "130255                1  \n",
       "134101                1  \n",
       "136525                1  "
      ]
     },
     "execution_count": 23,
     "metadata": {},
     "output_type": "execute_result"
    }
   ],
   "source": [
    "wine[wine['great and cheap']==1]"
   ]
  }
 ],
 "metadata": {
  "kernelspec": {
   "display_name": "Python 3",
   "language": "python",
   "name": "python3"
  },
  "language_info": {
   "codemirror_mode": {
    "name": "ipython",
    "version": 3
   },
   "file_extension": ".py",
   "mimetype": "text/x-python",
   "name": "python",
   "nbconvert_exporter": "python",
   "pygments_lexer": "ipython3",
   "version": "3.7.4"
  }
 },
 "nbformat": 4,
 "nbformat_minor": 4
}
